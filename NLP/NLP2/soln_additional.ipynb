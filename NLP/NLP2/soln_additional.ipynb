{
 "cells": [
  {
   "cell_type": "markdown",
   "metadata": {},
   "source": [
    "### 1. Design a game for children. Start by printing some nouns and ask the child to enter the plural form. Check if correct. If yes , Wish the child , else give the correct answer ."
   ]
  },
  {
   "cell_type": "code",
   "execution_count": 4,
   "metadata": {},
   "outputs": [
    {
     "name": "stdout",
     "output_type": "stream",
     "text": [
      "---Word Game---\n",
      " 1-Play\n",
      " 0-Exit\n",
      "1\n",
      "Enter plural of singersingers\n",
      "Congrats You won!!!\n",
      "---Word Game---\n",
      " 1-Play\n",
      " 0-Exit\n",
      "1\n",
      "Enter plural of wifewives\n",
      "Congrats You won!!!\n",
      "---Word Game---\n",
      " 1-Play\n",
      " 0-Exit\n",
      "1\n",
      "Enter plural of oxoxen\n",
      "Congrats You won!!!\n",
      "---Word Game---\n",
      " 1-Play\n",
      " 0-Exit\n",
      "1\n",
      "Enter plural of lakeabc\n",
      "Wrong, correct answer :lakes\n",
      "---Word Game---\n",
      " 1-Play\n",
      " 0-Exit\n",
      "0\n"
     ]
    }
   ],
   "source": [
    "from textblob import Word\n",
    "from random import shuffle\n",
    "\n",
    "nouns = [\"lake\",\"singer\",\"knife\",\"ox\",\"wife\",\"cat\",\"child\"]\n",
    "i=2\n",
    "\n",
    "def play():\n",
    "    shuffle(nouns)\n",
    "    n1 = nouns[0]\n",
    "    user_input = raw_input(\"Enter plural of \"+n1)\n",
    "    if (user_input == Word(n1).pluralize()):\n",
    "        print \"Congrats You won!!!\"\n",
    "    else:\n",
    "        print \"Wrong, correct answer :\"+Word(n1).pluralize()\n",
    "    \n",
    "while(i != 0):\n",
    "    i = input(\"---Word Game---\\n 1-Play\\n 0-Exit\\n\")\n",
    "    if(i == 1):\n",
    "        play()"
   ]
  },
  {
   "cell_type": "markdown",
   "metadata": {},
   "source": [
    "### 2. Continue by designing one for chcecking singular nouns also."
   ]
  },
  {
   "cell_type": "code",
   "execution_count": 7,
   "metadata": {
    "scrolled": true
   },
   "outputs": [
    {
     "name": "stdout",
     "output_type": "stream",
     "text": [
      "---Word Game---\n",
      " 1-Play\n",
      " 0-Exit\n",
      "1\n",
      "Enter singular of catscat\n",
      "Congrats You won!!!\n",
      "---Word Game---\n",
      " 1-Play\n",
      " 0-Exit\n",
      "1\n",
      "Enter singular of oxenox\n",
      "Congrats You won!!!\n",
      "---Word Game---\n",
      " 1-Play\n",
      " 0-Exit\n",
      "1\n",
      "Enter singular of oxens\n",
      "Wrong, correct answer :ox\n",
      "---Word Game---\n",
      " 1-Play\n",
      " 0-Exit\n",
      "0\n"
     ]
    }
   ],
   "source": [
    "pnouns = [\"lakes\",\"singers\",\"knives\",\"oxen\",\"wives\",\"cats\",\"children\"]\n",
    "i=2\n",
    "\n",
    "def play():\n",
    "    shuffle(pnouns)\n",
    "    n1 = pnouns[0]\n",
    "    user_input = raw_input(\"Enter singular of \"+n1)\n",
    "    if (user_input == Word(n1).singularize()):\n",
    "        print \"Congrats You won!!!\"\n",
    "    else:\n",
    "        print \"Wrong, correct answer :\"+Word(n1).singularize()\n",
    "    \n",
    "while(i != 0):\n",
    "    i = input(\"---Word Game---\\n 1-Play\\n 0-Exit\\n\")\n",
    "    if(i == 1):\n",
    "        play()"
   ]
  },
  {
   "cell_type": "markdown",
   "metadata": {},
   "source": [
    "### 3. Try to make it random."
   ]
  },
  {
   "cell_type": "code",
   "execution_count": null,
   "metadata": {},
   "outputs": [],
   "source": [
    "# Above solutions uses random words"
   ]
  }
 ],
 "metadata": {
  "kernelspec": {
   "display_name": "Python 2",
   "language": "python",
   "name": "python2"
  },
  "language_info": {
   "codemirror_mode": {
    "name": "ipython",
    "version": 2
   },
   "file_extension": ".py",
   "mimetype": "text/x-python",
   "name": "python",
   "nbconvert_exporter": "python",
   "pygments_lexer": "ipython2",
   "version": "2.7.15"
  }
 },
 "nbformat": 4,
 "nbformat_minor": 2
}
