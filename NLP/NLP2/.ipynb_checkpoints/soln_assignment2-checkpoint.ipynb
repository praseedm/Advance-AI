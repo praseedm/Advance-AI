{
 "cells": [
  {
   "cell_type": "markdown",
   "metadata": {},
   "source": [
    "### 1. Accept a singular noun and display the plural of the noun."
   ]
  },
  {
   "cell_type": "code",
   "execution_count": 4,
   "metadata": {},
   "outputs": [
    {
     "name": "stdout",
     "output_type": "stream",
     "text": [
      "children\n"
     ]
    }
   ],
   "source": [
    "from textblob import Word\n",
    "\n",
    "my_word = Word(\"child\")\n",
    "print my_word.pluralize()"
   ]
  },
  {
   "cell_type": "markdown",
   "metadata": {},
   "source": [
    "### 2. Accept a plural noun and the display the singular noun."
   ]
  },
  {
   "cell_type": "code",
   "execution_count": 6,
   "metadata": {},
   "outputs": [
    {
     "name": "stdout",
     "output_type": "stream",
     "text": [
      "knife\n"
     ]
    }
   ],
   "source": [
    "my_word = Word(\"knives\")\n",
    "print my_word.singularize()"
   ]
  },
  {
   "cell_type": "markdown",
   "metadata": {},
   "source": [
    "### 3. Accept a sentence and display the parts of speech."
   ]
  },
  {
   "cell_type": "code",
   "execution_count": 6,
   "metadata": {},
   "outputs": [
    {
     "name": "stdout",
     "output_type": "stream",
     "text": [
      "banknotes : NNS\n",
      "500 : CD\n",
      "the : DT\n",
      "2016 : CD\n",
      "Mahatma : NNP\n",
      "On : IN\n",
      "1000 : CD\n",
      "demonetisation : NN\n",
      "of : IN\n",
      "November : NNP\n",
      "India : NNP\n",
      "Gandhi : NNP\n",
      "Government : NNP\n",
      "8 : CD\n",
      "Series : NNP\n",
      "and : CC\n",
      "announced : VBD\n",
      "all : DT\n"
     ]
    }
   ],
   "source": [
    "from textblob import TextBlob\n",
    "\n",
    "myPara = TextBlob(\"On 8 November 2016, the Government of India announced the demonetisation of all 500 and 1000 banknotes of the Mahatma Gandhi Series.\")\n",
    "text_parts = set(myPara.tags)\n",
    "\n",
    "for word,tag in text_parts:\n",
    "    print word+\" : \"+tag\n"
   ]
  },
  {
   "cell_type": "markdown",
   "metadata": {},
   "source": [
    "### 4. Create a file and add some contents to it. Write a program to create a summary of the file contents. The contents may include\n",
    "\ti)  No of sentences\n",
    "\tii) No of words\n",
    "\tiii)Main words\n",
    "\tiv) Summary of important sentences"
   ]
  },
  {
   "cell_type": "code",
   "execution_count": 55,
   "metadata": {},
   "outputs": [
    {
     "name": "stdout",
     "output_type": "stream",
     "text": [
      "Summary of :Indian banknote demonetisation.\n",
      "----------\n",
      " No of sentences :5\n",
      " No of words :72\n",
      "\n",
      "Abstract\n",
      "----------\n",
      "The text is about :  announcement,bankers,banknote,banknotes,cash,commentators,demonetisation,disruption,economy,move,shortages,support,weeks\n"
     ]
    }
   ],
   "source": [
    "fp = open(\"input_file\",\"r\")\n",
    "data = TextBlob(fp.read())\n",
    "sentences = data.sentences\n",
    "title = sentences[0]\n",
    "no_sentences = len(sentences)\n",
    "no_words = len(data.words)\n",
    "nouns = set()\n",
    "first_sentence = sentences[1]\n",
    "last_sentence = sentences[-1]\n",
    "\n",
    "for word,tag in data.tags:\n",
    "    if(tag in (\"NN\",\"NNS\")):\n",
    "        nouns.add(word)\n",
    "        \n",
    "#summary\n",
    "print \"Summary of :%s\\n----------\"%(title)\n",
    "print \" No of sentences :%d\\n No of words :%d\\n\"%(no_sentences,no_words)\n",
    "print \"Abstract\\n----------\"\n",
    "print \"The text is about : \",(',').join(sorted(nouns))\n",
    "\n",
    "#print nouns"
   ]
  },
  {
   "cell_type": "code",
   "execution_count": null,
   "metadata": {},
   "outputs": [],
   "source": []
  },
  {
   "cell_type": "code",
   "execution_count": null,
   "metadata": {},
   "outputs": [],
   "source": []
  }
 ],
 "metadata": {
  "kernelspec": {
   "display_name": "Python 2",
   "language": "python",
   "name": "python2"
  },
  "language_info": {
   "codemirror_mode": {
    "name": "ipython",
    "version": 2
   },
   "file_extension": ".py",
   "mimetype": "text/x-python",
   "name": "python",
   "nbconvert_exporter": "python",
   "pygments_lexer": "ipython2",
   "version": "2.7.15"
  }
 },
 "nbformat": 4,
 "nbformat_minor": 2
}
