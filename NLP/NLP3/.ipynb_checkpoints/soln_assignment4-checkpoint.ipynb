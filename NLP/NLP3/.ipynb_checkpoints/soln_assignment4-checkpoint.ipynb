{
 "cells": [
  {
   "cell_type": "markdown",
   "metadata": {},
   "source": [
    "## In the folder Assignment 4 , there are Categories and the Descriptions in the file CategoryDescription.txt. Also there are disease abstracts in the folders c01- c10."
   ]
  },
  {
   "cell_type": "markdown",
   "metadata": {},
   "source": [
    "### 2. Design a model to train data based on this and find the category of the abstract given below:\n",
    "--------------------------------\n",
    "External fixation for type III open tibial fractures.\n",
    " An analysis of 51 type III open tibial fractures treated by external skeletal fixation is presented.\n",
    " The fractures are subdivided according to the classification of Gustilo, Mendoza and Williams (1984) into types IIIa, IIIb and IIIc.\n",
    " The different prognoses of these fracture subtypes is examined.\n",
    " \n",
    " The use of the Hoffmann and Hughes external fixators in the management of type III open tibial fractures is presented and it is suggested that the prognosis is independent of the type of fixator used.\n",
    " \n",
    "\\----------------------------------------------------------------\n",
    "\n",
    "Possible role of leukotrienes in gastritis associated with Campylobacter pylori.\n",
    " This study was done to evaluate the role of leukotrienes (LTs) in gastritis associated with Campylobacter pylori.\n",
    " Biopsy specimens of gastric mucosa were obtained endoscopically from 18 patients with nonulcer dyspepsia for bacteriological and histological examination and extraction of LTs.\n",
    " There was correlation between the LTB4 level in the mucosa and the degree of gastritis evaluated histologically.\n",
    " The level was higher when infiltration of neutrophils in the gastric mucosa was more extensive.\n",
    " The LTB4 level in mucosa infected with C.\n",
    " pylori was higher than that in noninfected mucosa.\n",
    " These findings suggest that endogenous LTs may be related to the pathogenesis of gastritis associated with C.\n",
    " pylori.\n",
    " \n",
    "\\---------------------------------------------------------------------------------------\n",
    "\n",
    "### 3. You may first train the model with 2 abstracts from  each category and then proceed to the full data."
   ]
  },
  {
   "cell_type": "markdown",
   "metadata": {},
   "source": [
    "## :- NOTE -:\n",
    "### Ref :\n",
    "* https://textblob.readthedocs.io/en/dev/classifiers.html\n",
    "    * Updating Classifiers with New Data\n",
    "    * Save Model :\n",
    "        * http://dataaspirant.com/2017/02/13/save-scikit-learn-models-with-python-pickle/\n",
    "        * https://scikit-learn.org/stable/modules/model_persistence.html"
   ]
  },
  {
   "cell_type": "code",
   "execution_count": 1,
   "metadata": {},
   "outputs": [
    {
     "name": "stdout",
     "output_type": "stream",
     "text": [
      "/home/ai16/Desktop/sw800-Advance-AI/NLP/NLP3\n"
     ]
    }
   ],
   "source": [
    "import os\n",
    "PATH = os.getcwd()\n",
    "print PATH"
   ]
  },
  {
   "cell_type": "code",
   "execution_count": 2,
   "metadata": {},
   "outputs": [
    {
     "name": "stdout",
     "output_type": "stream",
     "text": [
      "/home/ai16/Desktop/sw800-Advance-AI/NLP/NLP3/Assignment 3\n"
     ]
    }
   ],
   "source": [
    "os.chdir(r'./Assignment 3')\n",
    "PATH = os.getcwd()\n",
    "print PATH"
   ]
  },
  {
   "cell_type": "code",
   "execution_count": 3,
   "metadata": {},
   "outputs": [
    {
     "name": "stdout",
     "output_type": "stream",
     "text": [
      "{'C10': 'Nervous System Diseases', 'C08': 'Respiratory Tract Diseases', 'C09': 'Otorhinolaryngologic Diseases', 'C01': 'Bacterial Infections and Mycoses', 'C02': 'Virus Diseases', 'C03': 'Parasitic Diseases', 'C04': 'Neoplasms', 'C05': 'Musculoskeletal Diseases', 'C06': 'Digestive System Diseases', 'C07': 'Stomatognathic Diseases'}\n"
     ]
    }
   ],
   "source": [
    "fp=open(\"CategoryDescription.txt\")\n",
    "contents = fp.readlines()\n",
    "\n",
    "cat_des = {}\n",
    "for line in contents:\n",
    "    line = line.strip()\n",
    "    li = line.split()\n",
    "    cat_des[li[-1]] = \" \".join(li[:-1])\n",
    "\n",
    "print cat_des   "
   ]
  },
  {
   "cell_type": "code",
   "execution_count": 4,
   "metadata": {},
   "outputs": [],
   "source": [
    "### Tests if all class have document folders ####\n",
    "\n",
    "def test_discription_folder_status(cat_dic,PATH):\n",
    "    root=PATH\n",
    "    dirlist = [ item for item in os.listdir(root) if os.path.isdir(os.path.join(root, item)) ]\n",
    "    for cat in cat_dic.keys():\n",
    "        if(cat in dirlist):\n",
    "            pass\n",
    "        else :\n",
    "            print cat,\" have no document folder\"\n",
    "            return False\n",
    "    print \"test_discription_folder_status : Test Passed\"\n",
    "    return True"
   ]
  },
  {
   "cell_type": "code",
   "execution_count": 5,
   "metadata": {},
   "outputs": [
    {
     "name": "stdout",
     "output_type": "stream",
     "text": [
      "test_discription_folder_status : Test Passed\n"
     ]
    },
    {
     "data": {
      "text/plain": [
       "True"
      ]
     },
     "execution_count": 5,
     "metadata": {},
     "output_type": "execute_result"
    }
   ],
   "source": [
    "test_discription_folder_status(cat_des,PATH)"
   ]
  },
  {
   "cell_type": "code",
   "execution_count": 6,
   "metadata": {},
   "outputs": [],
   "source": [
    "## Returns filenames a given path(root) ##\n",
    "\n",
    "def get_files(root):\n",
    "    files = [ item for item in os.listdir(root) if os.path.isfile(os.path.join(root, item))]\n",
    "    return files"
   ]
  },
  {
   "cell_type": "code",
   "execution_count": 14,
   "metadata": {},
   "outputs": [],
   "source": [
    "### Return test data as document,class_label tuples ### \n",
    "### usage eg: d = get_class_data(2,cat_des.keys()[0],os.path.join(PATH,cat_des.keys()[0])) ###\n",
    "### count 0 or negative -  to read all documents ####\n",
    "\n",
    "def get_class_data(count,clname,root):\n",
    "    datalist =[]\n",
    "    files = get_files(clname)\n",
    "    size = len(files)\n",
    "    if(count <= 0 or count > size):\n",
    "        count = size\n",
    "    for f in range(count):\n",
    "        fp = open(os.path.join(root,files[f]))\n",
    "        content = fp.read().replace('\\n','')\n",
    "        datalist.append((content,clname))\n",
    "        fp.close()\n",
    "    print \"  files read :\",count,\"\\n\"    \n",
    "    return datalist "
   ]
  },
  {
   "cell_type": "code",
   "execution_count": 15,
   "metadata": {},
   "outputs": [
    {
     "data": {
      "text/plain": [
       "['C10', 'C08', 'C09', 'C01', 'C02', 'C03', 'C04', 'C05', 'C06', 'C07']"
      ]
     },
     "execution_count": 15,
     "metadata": {},
     "output_type": "execute_result"
    }
   ],
   "source": [
    "cat_des.keys()"
   ]
  },
  {
   "cell_type": "code",
   "execution_count": 16,
   "metadata": {},
   "outputs": [
    {
     "name": "stdout",
     "output_type": "stream",
     "text": [
      "test_discription_folder_status : Test Passed\n",
      "---- C10 ---total:  10 \n",
      "\n",
      "  files read : 70\n",
      "---- C08 ---total:  10 \n",
      "\n",
      "  files read : 70\n",
      "---- C09 ---total:  10 \n",
      "\n",
      "  files read : 70\n",
      "---- C01 ---total:  10 \n",
      "\n",
      "  files read : 70\n",
      "---- C02 ---total:  10 \n",
      "\n",
      "  files read : 70\n",
      "---- C03 ---total:  10 \n",
      "\n",
      "  files read : 65\n",
      "---- C04 ---total:  10 \n",
      "\n",
      "  files read : 70\n",
      "---- C05 ---total:  10 \n",
      "\n",
      "  files read : 70\n",
      "---- C06 ---total:  10 \n",
      "\n",
      "  files read : 70\n",
      "---- C07 ---total:  10 \n",
      "\n",
      "  files read : 70\n",
      "----completed!!-----\n"
     ]
    }
   ],
   "source": [
    "from textblob.classifiers import NaiveBayesClassifier\n",
    "\n",
    "model = NaiveBayesClassifier([])\n",
    "\n",
    "if(test_discription_folder_status(cat_des,PATH)):\n",
    "    classes = cat_des.keys()\n",
    "    tot_cls = len(classes)\n",
    "    for clname in classes:\n",
    "        count = 70\n",
    "        print \"----\",clname,\"---total: \",tot_cls\n",
    "        train_data = get_class_data(count,clname,os.path.join(PATH,clname))\n",
    "        model.update(train_data)\n",
    "    print \"----completed!!-----\"   \n",
    "else :\n",
    "    print \"Error !! insufficient documents\"\n",
    " "
   ]
  },
  {
   "cell_type": "code",
   "execution_count": 17,
   "metadata": {},
   "outputs": [
    {
     "data": {
      "text/plain": [
       "<NaiveBayesClassifier trained on 695 instances>"
      ]
     },
     "execution_count": 17,
     "metadata": {},
     "output_type": "execute_result"
    }
   ],
   "source": [
    "model"
   ]
  },
  {
   "cell_type": "code",
   "execution_count": null,
   "metadata": {},
   "outputs": [],
   "source": []
  }
 ],
 "metadata": {
  "kernelspec": {
   "display_name": "Python 2",
   "language": "python",
   "name": "python2"
  },
  "language_info": {
   "codemirror_mode": {
    "name": "ipython",
    "version": 2
   },
   "file_extension": ".py",
   "mimetype": "text/x-python",
   "name": "python",
   "nbconvert_exporter": "python",
   "pygments_lexer": "ipython2",
   "version": "2.7.15"
  }
 },
 "nbformat": 4,
 "nbformat_minor": 2
}
