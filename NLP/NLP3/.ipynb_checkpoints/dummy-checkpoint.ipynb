{
 "cells": [
  {
   "cell_type": "code",
   "execution_count": 2,
   "metadata": {},
   "outputs": [
    {
     "name": "stdout",
     "output_type": "stream",
     "text": [
      "/home/ai16/Desktop/sw800-Advance-AI/NLP/NLP3\n"
     ]
    }
   ],
   "source": [
    "import os\n",
    "PATH = os.getcwd()\n",
    "print PATH"
   ]
  },
  {
   "cell_type": "markdown",
   "metadata": {},
   "source": [
    "## REF: https://stackabuse.com/python-list-files-in-a-directory/\n",
    "https://www.tutorialspoint.com/python/os_listdir.htm"
   ]
  },
  {
   "cell_type": "code",
   "execution_count": 3,
   "metadata": {},
   "outputs": [
    {
     "name": "stdout",
     "output_type": "stream",
     "text": [
      "/home/ai16/Desktop/sw800-Advance-AI/NLP/NLP3/Assignment 3\n"
     ]
    }
   ],
   "source": [
    "os.chdir(r'./Assignment 3')\n",
    "PATH = os.getcwd()\n",
    "print PATH"
   ]
  },
  {
   "cell_type": "code",
   "execution_count": 9,
   "metadata": {},
   "outputs": [
    {
     "name": "stdout",
     "output_type": "stream",
     "text": [
      "['CategoryDescription.txt', 'C05', 'c10_filenames.txt', 'C09', 'c04_filenames.txt', 'C01', 'c09_filenames.txt', 'C10', 'c05_filenames.txt', 'c08_filenames.txt', 'c03_filenames.txt', 'C03', 'Assignment 4', 'C04', 'C02', 'c07_filenames.txt', 'C06', 'c01_filenames.txt', 'c06_filenames.txt', 'c02_filenames.txt', 'C08', 'C07']\n"
     ]
    }
   ],
   "source": [
    "\n",
    "listOfFiles = os.listdir('.')\n",
    "print listOfFiles"
   ]
  },
  {
   "cell_type": "code",
   "execution_count": 14,
   "metadata": {},
   "outputs": [],
   "source": [
    "fp=open(\"CategoryDescription.txt\")\n",
    "contents = fp.readlines()"
   ]
  },
  {
   "cell_type": "code",
   "execution_count": 11,
   "metadata": {},
   "outputs": [
    {
     "name": "stdout",
     "output_type": "stream",
     "text": [
      "['Bacterial Infections and Mycoses                      C01\\n', 'Virus Diseases                                        C02\\n', 'Parasitic Diseases                                    C03\\n', 'Neoplasms                                             C04\\n', 'Musculoskeletal Diseases                              C05\\n', 'Digestive System Diseases                             C06\\n', 'Stomatognathic Diseases                               C07\\n', 'Respiratory Tract Diseases                            C08\\n', 'Otorhinolaryngologic Diseases                         C09\\n', 'Nervous System Diseases                               C10']\n"
     ]
    }
   ],
   "source": [
    "print contents"
   ]
  },
  {
   "cell_type": "code",
   "execution_count": 16,
   "metadata": {},
   "outputs": [
    {
     "name": "stdout",
     "output_type": "stream",
     "text": [
      "['Bacterial', 'Infections', 'and', 'Mycoses', 'C01']\n",
      "['Virus', 'Diseases', 'C02']\n",
      "['Parasitic', 'Diseases', 'C03']\n",
      "['Neoplasms', 'C04']\n",
      "['Musculoskeletal', 'Diseases', 'C05']\n",
      "['Digestive', 'System', 'Diseases', 'C06']\n",
      "['Stomatognathic', 'Diseases', 'C07']\n",
      "['Respiratory', 'Tract', 'Diseases', 'C08']\n",
      "['Otorhinolaryngologic', 'Diseases', 'C09']\n",
      "['Nervous', 'System', 'Diseases', 'C10']\n"
     ]
    }
   ],
   "source": [
    "cat = []\n",
    "for line in contents:\n",
    "    line = line.strip()\n",
    "    print line.split()"
   ]
  },
  {
   "cell_type": "code",
   "execution_count": null,
   "metadata": {},
   "outputs": [],
   "source": []
  }
 ],
 "metadata": {
  "kernelspec": {
   "display_name": "Python 2",
   "language": "python",
   "name": "python2"
  },
  "language_info": {
   "codemirror_mode": {
    "name": "ipython",
    "version": 2
   },
   "file_extension": ".py",
   "mimetype": "text/x-python",
   "name": "python",
   "nbconvert_exporter": "python",
   "pygments_lexer": "ipython2",
   "version": "2.7.15"
  }
 },
 "nbformat": 4,
 "nbformat_minor": 2
}
