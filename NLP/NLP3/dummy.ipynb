{
 "cells": [
  {
   "cell_type": "code",
   "execution_count": 2,
   "metadata": {},
   "outputs": [
    {
     "name": "stdout",
     "output_type": "stream",
     "text": [
      "/home/ai16/Desktop/sw800-Advance-AI/NLP/NLP3\n"
     ]
    }
   ],
   "source": [
    "import os\n",
    "PATH = os.getcwd()\n",
    "print PATH"
   ]
  },
  {
   "cell_type": "markdown",
   "metadata": {},
   "source": [
    "## REF: \n",
    "* https://stackabuse.com/python-list-files-in-a-directory/\n",
    "* https://www.tutorialspoint.com/python/os_listdir.htm\n",
    "* https://www.pythonforbeginners.com/os/pythons-os-module"
   ]
  },
  {
   "cell_type": "code",
   "execution_count": 3,
   "metadata": {},
   "outputs": [
    {
     "name": "stdout",
     "output_type": "stream",
     "text": [
      "/home/ai16/Desktop/sw800-Advance-AI/NLP/NLP3/Assignment 3\n"
     ]
    }
   ],
   "source": [
    "os.chdir(r'./Assignment 3')\n",
    "PATH = os.getcwd()\n",
    "print PATH"
   ]
  },
  {
   "cell_type": "code",
   "execution_count": 4,
   "metadata": {},
   "outputs": [
    {
     "name": "stdout",
     "output_type": "stream",
     "text": [
      "['CategoryDescription.txt', 'C05', 'c10_filenames.txt', 'C09', 'c04_filenames.txt', 'C01', 'c09_filenames.txt', 'C10', 'c05_filenames.txt', 'c08_filenames.txt', 'c03_filenames.txt', 'C03', 'Assignment 4', 'C04', 'C02', 'c07_filenames.txt', 'C06', 'c01_filenames.txt', 'c06_filenames.txt', 'c02_filenames.txt', 'C08', 'C07']\n"
     ]
    }
   ],
   "source": [
    "\n",
    "listOfFiles = os.listdir('.')\n",
    "print listOfFiles"
   ]
  },
  {
   "cell_type": "code",
   "execution_count": 5,
   "metadata": {},
   "outputs": [],
   "source": [
    "fp=open(\"CategoryDescription.txt\")\n",
    "contents = fp.readlines()"
   ]
  },
  {
   "cell_type": "code",
   "execution_count": 26,
   "metadata": {},
   "outputs": [],
   "source": [
    "cat_des = {}\n",
    "for line in contents:\n",
    "    line = line.strip()\n",
    "    li = line.split()\n",
    "    cat_des[li[-1]] = \" \".join(li[:-1])"
   ]
  },
  {
   "cell_type": "code",
   "execution_count": 12,
   "metadata": {},
   "outputs": [
    {
     "data": {
      "text/plain": [
       "{'C01': 'Bacterial Infections and Mycoses',\n",
       " 'C02': 'Virus Diseases',\n",
       " 'C03': 'Parasitic Diseases',\n",
       " 'C04': 'Neoplasms',\n",
       " 'C05': 'Musculoskeletal Diseases',\n",
       " 'C06': 'Digestive System Diseases',\n",
       " 'C07': 'Stomatognathic Diseases',\n",
       " 'C08': 'Respiratory Tract Diseases',\n",
       " 'C09': 'Otorhinolaryngologic Diseases',\n",
       " 'C10': 'Nervous System Diseases'}"
      ]
     },
     "execution_count": 12,
     "metadata": {},
     "output_type": "execute_result"
    }
   ],
   "source": [
    "cat_des"
   ]
  },
  {
   "cell_type": "code",
   "execution_count": 13,
   "metadata": {},
   "outputs": [
    {
     "name": "stdout",
     "output_type": "stream",
     "text": [
      "['C05', 'C09', 'C01', 'C10', 'C03', 'C04', 'C02', 'C06', 'C08', 'C07']\n"
     ]
    }
   ],
   "source": [
    "root=PATH\n",
    "dirlist = [ item for item in os.listdir(root) if os.path.isdir(os.path.join(root, item)) ]\n",
    "print dirlist"
   ]
  },
  {
   "cell_type": "code",
   "execution_count": 45,
   "metadata": {},
   "outputs": [],
   "source": [
    "def test_discription_folder_status(cat_dic,PATH):\n",
    "    root=PATH\n",
    "    dirlist = [ item for item in os.listdir(root) if os.path.isdir(os.path.join(root, item)) ]\n",
    "    for cat in cat_dic.keys():\n",
    "        if(cat in dirlist):\n",
    "            pass\n",
    "        else :\n",
    "            print cat,\" have no document folder\"\n",
    "            return False\n",
    "    print \"test_discription_folder_status : Test Passed\"\n",
    "    return True"
   ]
  },
  {
   "cell_type": "code",
   "execution_count": 46,
   "metadata": {},
   "outputs": [
    {
     "name": "stdout",
     "output_type": "stream",
     "text": [
      "test_discription_folder_status : Test Passed\n"
     ]
    },
    {
     "data": {
      "text/plain": [
       "True"
      ]
     },
     "execution_count": 46,
     "metadata": {},
     "output_type": "execute_result"
    }
   ],
   "source": [
    "test_discription_folder_status(cat_des,PATH)"
   ]
  },
  {
   "cell_type": "code",
   "execution_count": 42,
   "metadata": {},
   "outputs": [],
   "source": [
    "def get_files(root):\n",
    "    files = [ item for item in os.listdir(root) if os.path.isfile(os.path.join(root, item))]\n",
    "    return files"
   ]
  },
  {
   "cell_type": "code",
   "execution_count": 138,
   "metadata": {},
   "outputs": [
    {
     "data": {
      "text/plain": [
       "['0004682',\n",
       " '0008316',\n",
       " '0003735',\n",
       " '0004985',\n",
       " '0008326',\n",
       " '0006811',\n",
       " '0007271',\n",
       " '0003996',\n",
       " '0002836',\n",
       " '0005637',\n",
       " '0005168',\n",
       " '0003821',\n",
       " '0004628',\n",
       " '0005389',\n",
       " '0008305',\n",
       " '0008114',\n",
       " '0000860',\n",
       " '0007667',\n",
       " '0000877',\n",
       " '0008323',\n",
       " '0006316',\n",
       " '0007557',\n",
       " '0007744',\n",
       " '0002060',\n",
       " '0004659',\n",
       " '0003043',\n",
       " '0000642',\n",
       " '0002988',\n",
       " '0004634',\n",
       " '0005156',\n",
       " '0005923',\n",
       " '0000335',\n",
       " '0007853',\n",
       " '0008239',\n",
       " '0005376',\n",
       " '0009421',\n",
       " '0003257',\n",
       " '0006518',\n",
       " '0002174',\n",
       " '0004185',\n",
       " '0004662',\n",
       " '0006548',\n",
       " '0003118',\n",
       " '0000834',\n",
       " '0000434',\n",
       " '0005443',\n",
       " '0007642',\n",
       " '0005916',\n",
       " '0002892',\n",
       " '0002804',\n",
       " '0006649',\n",
       " '0008106',\n",
       " '0002546',\n",
       " '0002971',\n",
       " '0005911',\n",
       " '0003412',\n",
       " '0005550',\n",
       " '0006444',\n",
       " '0002434',\n",
       " '0002878',\n",
       " '0008310',\n",
       " '0004350',\n",
       " '0006148',\n",
       " '0002906',\n",
       " '0005915',\n",
       " '0004661',\n",
       " '0000692',\n",
       " '0006271',\n",
       " '0005926',\n",
       " '0002541',\n",
       " '0000436',\n",
       " '0005921',\n",
       " '0009904',\n",
       " '0004339',\n",
       " '0006339',\n",
       " '0009883',\n",
       " '0004704',\n",
       " '0004922',\n",
       " '0008653',\n",
       " '0000777',\n",
       " '0004849',\n",
       " '0002515',\n",
       " '0005265',\n",
       " '0005073',\n",
       " '0006921',\n",
       " '0000334',\n",
       " '0003766',\n",
       " '0007898',\n",
       " '0007839',\n",
       " '0003728',\n",
       " '0005254',\n",
       " '0006855',\n",
       " '0000306',\n",
       " '0002516',\n",
       " '0006325',\n",
       " '0000885',\n",
       " '0007021',\n",
       " '0006549',\n",
       " '0002929',\n",
       " '0000685',\n",
       " '0007518',\n",
       " '0009133',\n",
       " '0009922',\n",
       " '0005348',\n",
       " '0000741',\n",
       " '0007677',\n",
       " '0006829',\n",
       " '0007020',\n",
       " '0009284',\n",
       " '0006703',\n",
       " '0000356',\n",
       " '0004627',\n",
       " '0004718',\n",
       " '0000761',\n",
       " '0005912',\n",
       " '0002524',\n",
       " '0000886',\n",
       " '0002592',\n",
       " '0008320',\n",
       " '0006161',\n",
       " '0007527',\n",
       " '0003449',\n",
       " '0009240',\n",
       " '0007849',\n",
       " '0005997',\n",
       " '0005341',\n",
       " '0009254',\n",
       " '0000636',\n",
       " '0005639',\n",
       " '0006692',\n",
       " '0005925',\n",
       " '0005878',\n",
       " '0006739',\n",
       " '0006736',\n",
       " '0008481',\n",
       " '0008312',\n",
       " '0006911',\n",
       " '0006066',\n",
       " '0006532',\n",
       " '0007167',\n",
       " '0005342',\n",
       " '0004670',\n",
       " '0004340',\n",
       " '0009509',\n",
       " '0006401',\n",
       " '0006533',\n",
       " '0000684',\n",
       " '0004341',\n",
       " '0006858',\n",
       " '0002881',\n",
       " '0009641',\n",
       " '0000418',\n",
       " '0009166',\n",
       " '0004729',\n",
       " '0007910',\n",
       " '0000883',\n",
       " '0008201',\n",
       " '0008308',\n",
       " '0009168',\n",
       " '0005387',\n",
       " '0005378',\n",
       " '0007588',\n",
       " '0004198',\n",
       " '0003790',\n",
       " '0006810',\n",
       " '0002889',\n",
       " '0000880',\n",
       " '0000879',\n",
       " '0000833',\n",
       " '0005466',\n",
       " '0000756',\n",
       " '0009791',\n",
       " '0002887',\n",
       " '0006979',\n",
       " '0003522',\n",
       " '0006674',\n",
       " '0005670',\n",
       " '0005393',\n",
       " '0002173',\n",
       " '0009169',\n",
       " '0008108',\n",
       " '0009126',\n",
       " '0004089',\n",
       " '0003724',\n",
       " '0005758',\n",
       " '0002385',\n",
       " '0005909',\n",
       " '0005934',\n",
       " '0005932',\n",
       " '0005917',\n",
       " '0000988',\n",
       " '0005638',\n",
       " '0008318',\n",
       " '0005253',\n",
       " '0005072',\n",
       " '0002440',\n",
       " '0006931',\n",
       " '0005605',\n",
       " '0002110',\n",
       " '0008319',\n",
       " '0000882',\n",
       " '0005910',\n",
       " '0007539',\n",
       " '0002863',\n",
       " '0002073',\n",
       " '0004703',\n",
       " '0007675',\n",
       " '0007731',\n",
       " '0003714',\n",
       " '0005261',\n",
       " '0007524',\n",
       " '0006415',\n",
       " '0004626',\n",
       " '0000720',\n",
       " '0002518',\n",
       " '0004672',\n",
       " '0005394',\n",
       " '0005919',\n",
       " '0000794',\n",
       " '0004663',\n",
       " '0007419',\n",
       " '0008315',\n",
       " '0009948',\n",
       " '0008665',\n",
       " '0006441',\n",
       " '0004643',\n",
       " '0009300',\n",
       " '0009940',\n",
       " '0009283',\n",
       " '0000875',\n",
       " '0006679',\n",
       " '0009888',\n",
       " '0008377',\n",
       " '0008146',\n",
       " '0006904',\n",
       " '0007407',\n",
       " '0005609',\n",
       " '0004348',\n",
       " '0008274',\n",
       " '0008769',\n",
       " '0007156',\n",
       " '0003774',\n",
       " '0004353',\n",
       " '0007537',\n",
       " '0006505',\n",
       " '0004343',\n",
       " '0003622',\n",
       " '0007870',\n",
       " '0005262',\n",
       " '0002865',\n",
       " '0005928',\n",
       " '0008993',\n",
       " '0002981',\n",
       " '0006975',\n",
       " '0006058',\n",
       " '0002813',\n",
       " '0007871',\n",
       " '0009958',\n",
       " '0006884',\n",
       " '0006026',\n",
       " '0000838',\n",
       " '0009174',\n",
       " '0007592',\n",
       " '0009661',\n",
       " '0009185',\n",
       " '0007081',\n",
       " '0004186',\n",
       " '0006354',\n",
       " '0008289',\n",
       " '0000033',\n",
       " '0004336',\n",
       " '0000839',\n",
       " '0004629',\n",
       " '0004312',\n",
       " '0004462',\n",
       " '0008307',\n",
       " '0004671',\n",
       " '0002821',\n",
       " '0006908',\n",
       " '0008327',\n",
       " '0005632',\n",
       " '0009371',\n",
       " '0005388',\n",
       " '0009937',\n",
       " '0008767',\n",
       " '0007380',\n",
       " '0008952',\n",
       " '0007906',\n",
       " '0006095',\n",
       " '0000571',\n",
       " '0009361',\n",
       " '0000847',\n",
       " '0008306',\n",
       " '0008314',\n",
       " '0006024',\n",
       " '0007381',\n",
       " '0009488',\n",
       " '0005918',\n",
       " '0007834',\n",
       " '0008520',\n",
       " '0000569',\n",
       " '0005626',\n",
       " '0007897',\n",
       " '0004664',\n",
       " '0002274',\n",
       " '0008845',\n",
       " '0007646',\n",
       " '0000718',\n",
       " '0007406',\n",
       " '0005650',\n",
       " '0007747',\n",
       " '0006168',\n",
       " '0007858',\n",
       " '0009120',\n",
       " '0008311',\n",
       " '0002917',\n",
       " '0009424',\n",
       " '0007673',\n",
       " '0004631',\n",
       " '0002555',\n",
       " '0003029',\n",
       " '0004820',\n",
       " '0005340',\n",
       " '0003758',\n",
       " '0002814',\n",
       " '0004342',\n",
       " '0009939',\n",
       " '0007850',\n",
       " '0006983',\n",
       " '0002382',\n",
       " '0005447',\n",
       " '0007597',\n",
       " '0008349',\n",
       " '0005256',\n",
       " '0009890',\n",
       " '0006578',\n",
       " '0004187',\n",
       " '0009938',\n",
       " '0005629',\n",
       " '0000957',\n",
       " '0002447',\n",
       " '0000881',\n",
       " '0000995',\n",
       " '0005278',\n",
       " '0000391',\n",
       " '0000858',\n",
       " '0006440',\n",
       " '0000750',\n",
       " '0007522',\n",
       " '0009183',\n",
       " '0004337',\n",
       " '0004625',\n",
       " '0006843',\n",
       " '0002138',\n",
       " '0005508',\n",
       " '0009196',\n",
       " '0005914',\n",
       " '0008147',\n",
       " '0009620',\n",
       " '0009647',\n",
       " '0004742',\n",
       " '0007401',\n",
       " '0003718',\n",
       " '0007548',\n",
       " '0004528',\n",
       " '0005929',\n",
       " '0005599',\n",
       " '0008145',\n",
       " '0006771',\n",
       " '0002517',\n",
       " '0004632',\n",
       " '0009373',\n",
       " '0004031',\n",
       " '0004673',\n",
       " '0000887',\n",
       " '0007861',\n",
       " '0004344',\n",
       " '0005136',\n",
       " '0004633',\n",
       " '0007418',\n",
       " '0007907',\n",
       " '0000352',\n",
       " '0008833',\n",
       " '0006398',\n",
       " '0004667',\n",
       " '0003285',\n",
       " '0000969',\n",
       " '0006583',\n",
       " '0008523',\n",
       " '0008802',\n",
       " '0008843',\n",
       " '0005962',\n",
       " '0006906',\n",
       " '0004658',\n",
       " '0008594',\n",
       " '0002717',\n",
       " '0000052',\n",
       " '0000358',\n",
       " '0004636',\n",
       " '0005698',\n",
       " '0004618',\n",
       " '0002798',\n",
       " '0002240',\n",
       " '0006498',\n",
       " '0000021',\n",
       " '0007180',\n",
       " '0000884',\n",
       " '0005627',\n",
       " '0006864',\n",
       " '0005922',\n",
       " '0008317',\n",
       " '0009945',\n",
       " '0008368',\n",
       " '0000876',\n",
       " '0002569',\n",
       " '0006018',\n",
       " '0005633',\n",
       " '0005019',\n",
       " '0000738',\n",
       " '0004657',\n",
       " '0002263',\n",
       " '0009927',\n",
       " '0002872']"
      ]
     },
     "execution_count": 138,
     "metadata": {},
     "output_type": "execute_result"
    }
   ],
   "source": [
    "files = get_files('./C01')\n",
    "files"
   ]
  },
  {
   "cell_type": "code",
   "execution_count": 81,
   "metadata": {},
   "outputs": [
    {
     "name": "stdout",
     "output_type": "stream",
     "text": [
      "/home/ai16/Desktop/sw800-Advance-AI/NLP/NLP3/Assignment 3/C10\n"
     ]
    }
   ],
   "source": [
    "print os.path.join(PATH,'C10')"
   ]
  },
  {
   "cell_type": "code",
   "execution_count": 75,
   "metadata": {},
   "outputs": [],
   "source": [
    "from textblob.classifiers import NaiveBayesClassifier\n"
   ]
  },
  {
   "cell_type": "code",
   "execution_count": 134,
   "metadata": {},
   "outputs": [],
   "source": [
    "def get_class_data(clname,PATH):\n",
    "    datalist =[]\n",
    "    files = get_files(clname)\n",
    "    for f in files:\n",
    "        fp = open(os.path.join(PATH,f))\n",
    "        content = fp.read().replace('\\n','')\n",
    "        datalist.append((content,clname))\n",
    "        fp.close()\n",
    "    return datalist   "
   ]
  },
  {
   "cell_type": "code",
   "execution_count": 135,
   "metadata": {},
   "outputs": [
    {
     "data": {
      "text/plain": [
       "[('1. In the folder Assignment 4 , there are Categories and the Descriptions in the file CategoryDescription.txt. Also there are disease abstracts in the folders c01- c10.2. Design a model to train data based on this and find the category of the abstract given below:--------------------------------External fixation for type III open tibial fractures. An analysis of 51 type III open tibial fractures treated by external skeletal fixation is presented. The fractures are subdivided according to the classification of Gustilo, Mendoza and Williams (1984) into types IIIa, IIIb and IIIc. The different prognoses of these fracture subtypes is examined. The use of the Hoffmann and Hughes external fixators in the management of type III open tibial fractures is presented and it is suggested that the prognosis is independent of the type of fixator used.----------------------------------------------------------------Possible role of leukotrienes in gastritis associated with Campylobacter pylori. This study was done to evaluate the role of leukotrienes (LTs) in gastritis associated with Campylobacter pylori. Biopsy specimens of gastric mucosa were obtained endoscopically from 18 patients with nonulcer dyspepsia for bacteriological and histological examination and extraction of LTs. There was correlation between the LTB4 level in the mucosa and the degree of gastritis evaluated histologically. The level was higher when infiltration of neutrophils in the gastric mucosa was more extensive. The LTB4 level in mucosa infected with C. pylori was higher than that in noninfected mucosa. These findings suggest that endogenous LTs may be related to the pathogenesis of gastritis associated with C. pylori.---------------------------------------------------------------------------------------3. You may first train the model with 2 abstracts from  each category and then proceed to the full data.',\n",
       "  'tes'),\n",
       " ('haiwhoi a asad\\t\\tareasadaasda', 'tes')]"
      ]
     },
     "execution_count": 135,
     "metadata": {},
     "output_type": "execute_result"
    }
   ],
   "source": [
    "get_class_data('tes',os.path.join(PATH,'tes'))"
   ]
  },
  {
   "cell_type": "code",
   "execution_count": 114,
   "metadata": {},
   "outputs": [
    {
     "name": "stdout",
     "output_type": "stream",
     "text": [
      "1\t\t\t3\t\t\t\n",
      "hai\t\t\twee\tnaskda\\n\n",
      "asdas\\n\\nsasdk\\n\n"
     ]
    },
    {
     "data": {
      "text/plain": [
       "'13haiweenaskda\\\\nasdas\\\\n\\\\nsasdk\\\\n'"
      ]
     },
     "execution_count": 114,
     "metadata": {},
     "output_type": "execute_result"
    }
   ],
   "source": [
    "# import re\n",
    "# fp = open('/home/ai16/Desktop/sw800-Advance-AI/NLP/NLP3/Assignment 3/tes/aa').read()\n",
    "# print fp\n",
    "# new = re.sub(r'[\\n,\\t]','',fp)\n",
    "# new"
   ]
  },
  {
   "cell_type": "code",
   "execution_count": 118,
   "metadata": {},
   "outputs": [
    {
     "data": {
      "text/plain": [
       "'haiwhoi a asad\\t\\tareasadaasda'"
      ]
     },
     "execution_count": 118,
     "metadata": {},
     "output_type": "execute_result"
    }
   ],
   "source": [
    "#fp = open('/home/ai16/Desktop/sw800-Advance-AI/NLP/NLP3/Assignment 3/tes/aa').read().replace('\\n','')\n",
    "# fp"
   ]
  },
  {
   "cell_type": "code",
   "execution_count": null,
   "metadata": {},
   "outputs": [],
   "source": []
  },
  {
   "cell_type": "code",
   "execution_count": null,
   "metadata": {},
   "outputs": [],
   "source": []
  }
 ],
 "metadata": {
  "kernelspec": {
   "display_name": "Python 2",
   "language": "python",
   "name": "python2"
  },
  "language_info": {
   "codemirror_mode": {
    "name": "ipython",
    "version": 2
   },
   "file_extension": ".py",
   "mimetype": "text/x-python",
   "name": "python",
   "nbconvert_exporter": "python",
   "pygments_lexer": "ipython2",
   "version": "2.7.15"
  }
 },
 "nbformat": 4,
 "nbformat_minor": 2
}
