{
 "cells": [
  {
   "cell_type": "markdown",
   "metadata": {},
   "source": [
    "### 1. In the folder Assignment 4 , there are Categories and the Descriptions in the file CategoryDescription.txt. Also there are disease abstracts in the folders c01- c10."
   ]
  },
  {
   "cell_type": "code",
   "execution_count": null,
   "metadata": {},
   "outputs": [],
   "source": []
  },
  {
   "cell_type": "markdown",
   "metadata": {},
   "source": [
    "### 2. Design a model to train data based on this and find the category of the abstract given below:\n",
    "--------------------------------\n",
    "External fixation for type III open tibial fractures.\n",
    " An analysis of 51 type III open tibial fractures treated by external skeletal fixation is presented.\n",
    " The fractures are subdivided according to the classification of Gustilo, Mendoza and Williams (1984) into types IIIa, IIIb and IIIc.\n",
    " The different prognoses of these fracture subtypes is examined.\n",
    " \n",
    " The use of the Hoffmann and Hughes external fixators in the management of type III open tibial fractures is presented and it is suggested that the prognosis is independent of the type of fixator used.\n",
    " \n",
    "\\----------------------------------------------------------------\n",
    "\n",
    "Possible role of leukotrienes in gastritis associated with Campylobacter pylori.\n",
    " This study was done to evaluate the role of leukotrienes (LTs) in gastritis associated with Campylobacter pylori.\n",
    " Biopsy specimens of gastric mucosa were obtained endoscopically from 18 patients with nonulcer dyspepsia for bacteriological and histological examination and extraction of LTs.\n",
    " There was correlation between the LTB4 level in the mucosa and the degree of gastritis evaluated histologically.\n",
    " The level was higher when infiltration of neutrophils in the gastric mucosa was more extensive.\n",
    " The LTB4 level in mucosa infected with C.\n",
    " pylori was higher than that in noninfected mucosa.\n",
    " These findings suggest that endogenous LTs may be related to the pathogenesis of gastritis associated with C.\n",
    " pylori.\n",
    " \n",
    "\\---------------------------------------------------------------------------------------\n",
    "\n",
    "### 3. You may first train the model with 2 abstracts from  each category and then proceed to the full data."
   ]
  },
  {
   "cell_type": "code",
   "execution_count": null,
   "metadata": {},
   "outputs": [],
   "source": []
  },
  {
   "cell_type": "markdown",
   "metadata": {},
   "source": []
  }
 ],
 "metadata": {
  "kernelspec": {
   "display_name": "Python 2",
   "language": "python",
   "name": "python2"
  },
  "language_info": {
   "codemirror_mode": {
    "name": "ipython",
    "version": 2
   },
   "file_extension": ".py",
   "mimetype": "text/x-python",
   "name": "python",
   "nbconvert_exporter": "python",
   "pygments_lexer": "ipython2",
   "version": "2.7.15"
  }
 },
 "nbformat": 4,
 "nbformat_minor": 2
}
