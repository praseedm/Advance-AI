{
 "cells": [
  {
   "cell_type": "markdown",
   "metadata": {},
   "source": [
    "### 1.  Have a list of minimum 5 sentences. Find how close they are to a query string using tfidfVectorizer and cosine_similarity."
   ]
  },
  {
   "cell_type": "code",
   "execution_count": 1,
   "metadata": {},
   "outputs": [],
   "source": [
    "from sklearn.feature_extraction.text import TfidfVectorizer"
   ]
  },
  {
   "cell_type": "code",
   "execution_count": 3,
   "metadata": {},
   "outputs": [],
   "source": [
    "doc1 = 'A river is a natural flowing watercourse'\n",
    "doc2 = 'River flows into the ground and becomes dry at the end'\n",
    "doc3 = 'The apparent brightness of a star is expressed in terms of its apparent magnitude'\n",
    "doc4 = 'The sun lies at the heart of the solar system'\n",
    "doc5 = 'An elephant\\'s most obvious part is the trunk'\n",
    "query = 'The goats are used to keep grasses and other plants from getting too tall.'\n",
    "\n",
    "tfidf = TfidfVectorizer()"
   ]
  },
  {
   "cell_type": "code",
   "execution_count": 5,
   "metadata": {},
   "outputs": [
    {
     "name": "stdout",
     "output_type": "stream",
     "text": [
      "  (0, 40)\t0.142450979433\n",
      "  (0, 15)\t0.278047136221\n",
      "  (0, 3)\t0.278047136221\n",
      "  (0, 44)\t0.278047136221\n",
      "  (0, 41)\t0.278047136221\n",
      "  (0, 23)\t0.278047136221\n",
      "  (0, 16)\t0.278047136221\n",
      "  (0, 1)\t0.22800262922\n",
      "  (0, 30)\t0.278047136221\n",
      "  (0, 32)\t0.278047136221\n",
      "  (0, 13)\t0.278047136221\n",
      "  (0, 14)\t0.278047136221\n",
      "  (0, 42)\t0.278047136221\n",
      "  (0, 38)\t0.278047136221\n",
      "  (1, 33)\t0.402445803565\n",
      "  (1, 21)\t0.339772400806\n",
      "  (1, 27)\t0.490779003505\n",
      "  (1, 11)\t0.490779003505\n",
      "  (1, 45)\t0.490779003505\n",
      "  (2, 40)\t0.340283403883\n",
      "  (2, 1)\t0.272323542716\n",
      "  (2, 33)\t0.272323542716\n",
      "  (2, 12)\t0.332096087824\n",
      "  (2, 20)\t0.332096087824\n",
      "  (2, 17)\t0.332096087824\n",
      "  :\t:\n",
      "  (3, 2)\t0.526471329144\n",
      "  (3, 6)\t0.263235664572\n",
      "  (3, 29)\t0.431714021175\n",
      "  (3, 35)\t0.263235664572\n",
      "  (3, 10)\t0.263235664572\n",
      "  (3, 19)\t0.263235664572\n",
      "  (3, 39)\t0.263235664572\n",
      "  (3, 22)\t0.263235664572\n",
      "  (3, 25)\t0.263235664572\n",
      "  (4, 40)\t0.520870942094\n",
      "  (4, 4)\t0.277896636805\n",
      "  (4, 29)\t0.277896636805\n",
      "  (4, 36)\t0.338892425465\n",
      "  (4, 24)\t0.338892425465\n",
      "  (4, 18)\t0.338892425465\n",
      "  (4, 34)\t0.338892425465\n",
      "  (4, 37)\t0.338892425465\n",
      "  (5, 40)\t0.197314899559\n",
      "  (5, 21)\t0.266633670911\n",
      "  (5, 0)\t0.385134893241\n",
      "  (5, 8)\t0.385134893241\n",
      "  (5, 26)\t0.385134893241\n",
      "  (5, 28)\t0.385134893241\n",
      "  (5, 31)\t0.385134893241\n",
      "  (5, 43)\t0.385134893241\n"
     ]
    }
   ],
   "source": [
    "dataset = [query, doc1,doc2,doc3,doc4,doc5]\n",
    "mat = tfidf.fit_transform(dataset)\n",
    "print mat"
   ]
  },
  {
   "cell_type": "code",
   "execution_count": 10,
   "metadata": {},
   "outputs": [
    {
     "data": {
      "text/plain": [
       "(6, 6)"
      ]
     },
     "execution_count": 10,
     "metadata": {},
     "output_type": "execute_result"
    }
   ],
   "source": [
    "from sklearn.metrics.pairwise import cosine_similarity\n",
    "\n",
    "c = cosine_similarity(mat)\n",
    "c.shape"
   ]
  },
  {
   "cell_type": "code",
   "execution_count": 29,
   "metadata": {
    "scrolled": true
   },
   "outputs": [
    {
     "name": "stdout",
     "output_type": "stream",
     "text": [
      "[ 1.          0.          0.11056419  0.01921132  0.07419858  0.0281077 ]\n",
      "The goats are used to keep grasses and other plants from getting too tall.  has mas similarity with :  River flows into the ground and becomes dry at the end  \n",
      "Cosine similarity value :  0.110564187906\n"
     ]
    }
   ],
   "source": [
    "## query similarity with others\n",
    "\n",
    "res = c[0,:]\n",
    "print res\n",
    "max_index = res.argsort()[-2]\n",
    "\n",
    "print query,\" has mas similarity with : \",dataset[max_index],\" \\nCosine similarity value : \",res[max_index]"
   ]
  },
  {
   "cell_type": "markdown",
   "metadata": {},
   "source": [
    "### 2. Modify the program to read strings from files."
   ]
  },
  {
   "cell_type": "code",
   "execution_count": 43,
   "metadata": {},
   "outputs": [
    {
     "name": "stdout",
     "output_type": "stream",
     "text": [
      "  (0, 26)\t0.644502992261\n",
      "  (0, 10)\t0.644502992261\n",
      "  (0, 17)\t0.411377911334\n",
      "  (1, 17)\t0.13226075713\n",
      "  (1, 33)\t0.207212033948\n",
      "  (1, 31)\t0.207212033948\n",
      "  (1, 1)\t0.207212033948\n",
      "  (1, 45)\t0.396782271389\n",
      "  (1, 23)\t0.207212033948\n",
      "  (1, 32)\t0.490105042884\n",
      "  (1, 25)\t0.207212033948\n",
      "  (1, 6)\t0.207212033948\n",
      "  (1, 3)\t0.207212033948\n",
      "  (1, 2)\t0.207212033948\n",
      "  (1, 5)\t0.163368347628\n",
      "  (1, 0)\t0.207212033948\n",
      "  (1, 11)\t0.207212033948\n",
      "  (1, 29)\t0.207212033948\n",
      "  (1, 22)\t0.207212033948\n",
      "  (1, 38)\t0.207212033948\n",
      "  (2, 45)\t0.2193412459\n",
      "  (2, 5)\t0.13546503773\n",
      "  (2, 27)\t0.171820223466\n",
      "  (2, 30)\t0.343640446933\n",
      "  (2, 37)\t0.171820223466\n",
      "  :\t:\n",
      "  (2, 48)\t0.13546503773\n",
      "  (2, 4)\t0.171820223466\n",
      "  (2, 16)\t0.171820223466\n",
      "  (2, 35)\t0.171820223466\n",
      "  (2, 34)\t0.171820223466\n",
      "  (2, 47)\t0.171820223466\n",
      "  (3, 17)\t0.132183426075\n",
      "  (3, 45)\t0.396550278224\n",
      "  (3, 32)\t0.16327282839\n",
      "  (3, 48)\t0.16327282839\n",
      "  (3, 7)\t0.207090879907\n",
      "  (3, 20)\t0.414181759814\n",
      "  (3, 12)\t0.207090879907\n",
      "  (3, 36)\t0.207090879907\n",
      "  (3, 13)\t0.207090879907\n",
      "  (3, 40)\t0.207090879907\n",
      "  (3, 24)\t0.207090879907\n",
      "  (3, 49)\t0.207090879907\n",
      "  (3, 44)\t0.207090879907\n",
      "  (3, 51)\t0.207090879907\n",
      "  (3, 15)\t0.207090879907\n",
      "  (3, 41)\t0.207090879907\n",
      "  (3, 18)\t0.207090879907\n",
      "  (3, 46)\t0.207090879907\n",
      "  (3, 19)\t0.207090879907\n"
     ]
    }
   ],
   "source": [
    "import pandas as pd\n",
    "\n",
    "content = open('input_file').readlines()\n",
    "dataset = [i.strip() for i in content]\n",
    "mat2 = tfidf.fit_transform(dataset)\n",
    "print mat2"
   ]
  },
  {
   "cell_type": "code",
   "execution_count": 44,
   "metadata": {},
   "outputs": [
    {
     "data": {
      "text/plain": [
       "(4, 4)"
      ]
     },
     "execution_count": 44,
     "metadata": {},
     "output_type": "execute_result"
    }
   ],
   "source": [
    "c = cosine_similarity(mat2)\n",
    "c.shape"
   ]
  },
  {
   "cell_type": "code",
   "execution_count": 45,
   "metadata": {},
   "outputs": [
    {
     "name": "stdout",
     "output_type": "stream",
     "text": [
      "[ 1.          0.05440915  0.          0.05437734]\n",
      "Indian banknote demonetisation.  has mas similarity with :  On 8 November 2016, the Government of India announced the demonetisation of all 500 and 1000 banknotes of the Mahatma Gandhi Series.  \n",
      "Cosine similarity value :  0.0544091540194\n"
     ]
    }
   ],
   "source": [
    "res = c[0,:]\n",
    "print res\n",
    "max_index = res.argsort()[-2]\n",
    "\n",
    "print dataset[0],\" has mas similarity with : \",dataset[max_index],\" \\nCosine similarity value : \",res[max_index]"
   ]
  },
  {
   "cell_type": "code",
   "execution_count": null,
   "metadata": {},
   "outputs": [],
   "source": []
  }
 ],
 "metadata": {
  "kernelspec": {
   "display_name": "Python 2",
   "language": "python",
   "name": "python2"
  },
  "language_info": {
   "codemirror_mode": {
    "name": "ipython",
    "version": 2
   },
   "file_extension": ".py",
   "mimetype": "text/x-python",
   "name": "python",
   "nbconvert_exporter": "python",
   "pygments_lexer": "ipython2",
   "version": "2.7.15"
  }
 },
 "nbformat": 4,
 "nbformat_minor": 2
}
