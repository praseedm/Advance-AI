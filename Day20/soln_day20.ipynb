{
 "cells": [
  {
   "cell_type": "markdown",
   "metadata": {},
   "source": [
    "### 1 Create a numpy structured array using the emp.csv file available in common folder.\n",
    "#### 1.1 display all the records.\n",
    "#### 1.2 display names of officers.\n",
    "#### 1.3 display all the scientists records.\n",
    "#### 1.4 display the total salary.\n",
    "#### 1.5 display average salary of engineers.\n",
    "#### 1.6 display employees in the ascending order of salary.\n",
    "#### 1.7 display employees in the ascending order of designation and then salary.\n",
    "#### 1.8 display the lowest salary for scientist designation.\n",
    "#### 1.9 display records of employees who are scientists and are drawing the lowest salary(without using sort).\n",
    " "
   ]
  },
  {
   "cell_type": "code",
   "execution_count": 1,
   "metadata": {},
   "outputs": [],
   "source": [
    "import numpy as np\n",
    "\n"
   ]
  },
  {
   "cell_type": "code",
   "execution_count": 2,
   "metadata": {},
   "outputs": [],
   "source": [
    "datype = np.dtype({'names': ['ename','eno','edesign','esal','ephone'],'formats':['S20','i8','S20','f8','S20']})\n",
    "\n",
    "atf = np.loadtxt('emp.csv',delimiter=',',skiprows=1,dtype=datype)\n"
   ]
  },
  {
   "cell_type": "markdown",
   "metadata": {},
   "source": [
    "### np.loadtxt vs pandas"
   ]
  },
  {
   "cell_type": "code",
   "execution_count": 3,
   "metadata": {},
   "outputs": [
    {
     "name": "stdout",
     "output_type": "stream",
     "text": [
      "<type 'numpy.ndarray'>\n",
      "(10, 5)\n",
      "[['K.Raj' 101 'scientist' 50000.0 '(0493)-2287278']\n",
      " ['Mohan Raj M.' 102 'engineer' 50000.0 '[0496]-2287278']\n",
      " ['M.Ram' 104 'scientist' 80000.0 '(0491)-4287275']\n",
      " ['Ram Kumar' 104 'scientist' 60000.0 '(0491)-4287335']\n",
      " ['Mohan Babu K.K.' 106 'officer' 50000.0 '{0496}-2387278']\n",
      " ['K.Gopal' 107 'scientist' 50000.0 '(0493)-2287278']\n",
      " ['Anil Raj M.' 108 'engineer' 50000.0 '{0496]-2287278']\n",
      " ['Amala P.' 201 'scientist' 70000.0 '(0498)-9287275']\n",
      " ['Uma ' 204 'officer' 60000.0 '(0491)-4287335']\n",
      " ['Suma' 206 'engineer' 50000.0 '0496_2387278']]\n",
      "<type 'numpy.ndarray'>\n",
      "(10,)\n",
      "[('K.Raj', 101, 'scientist',  50000., '(0493)-2287278')\n",
      " ('Mohan Raj M.', 102, 'engineer',  50000., '[0496]-2287278')\n",
      " ('M.Ram', 104, 'scientist',  80000., '(0491)-4287275')\n",
      " ('Ram Kumar', 104, 'scientist',  60000., '(0491)-4287335')\n",
      " ('Mohan Babu K.K.', 106, 'officer',  50000., '{0496}-2387278')\n",
      " ('K.Gopal', 107, 'scientist',  50000., '(0493)-2287278')\n",
      " ('Anil Raj M.', 108, 'engineer',  50000., '{0496]-2287278')\n",
      " ('Amala P.', 201, 'scientist',  70000., '(0498)-9287275')\n",
      " ('Uma ', 204, 'officer',  60000., '(0491)-4287335')\n",
      " ('Suma', 206, 'engineer',  50000., '0496_2387278')]\n"
     ]
    }
   ],
   "source": [
    "import pandas as pd\n",
    "\n",
    "dd = pd.read_csv('emp.csv')\n",
    "temp = dd.as_matrix()\n",
    "\n",
    "print type(temp)\n",
    "print temp.shape\n",
    "\n",
    "print temp\n",
    "\n",
    "print type(atf)\n",
    "print atf.shape\n",
    "\n",
    "print atf"
   ]
  },
  {
   "cell_type": "code",
   "execution_count": 4,
   "metadata": {},
   "outputs": [
    {
     "data": {
      "text/plain": [
       "array(['K.Raj', 'Mohan Raj M.', 'M.Ram', 'Ram Kumar', 'Mohan Babu K.K.',\n",
       "       'K.Gopal', 'Anil Raj M.', 'Amala P.', 'Uma ', 'Suma'],\n",
       "      dtype='|S20')"
      ]
     },
     "execution_count": 4,
     "metadata": {},
     "output_type": "execute_result"
    }
   ],
   "source": [
    "# names of officers\n",
    "atf['ename']"
   ]
  },
  {
   "cell_type": "code",
   "execution_count": 5,
   "metadata": {},
   "outputs": [
    {
     "data": {
      "text/plain": [
       "array([('K.Raj', 101, 'scientist',  50000., '(0493)-2287278'),\n",
       "       ('M.Ram', 104, 'scientist',  80000., '(0491)-4287275'),\n",
       "       ('Ram Kumar', 104, 'scientist',  60000., '(0491)-4287335'),\n",
       "       ('K.Gopal', 107, 'scientist',  50000., '(0493)-2287278'),\n",
       "       ('Amala P.', 201, 'scientist',  70000., '(0498)-9287275')],\n",
       "      dtype=[('ename', 'S20'), ('eno', '<i8'), ('edesign', 'S20'), ('esal', '<f8'), ('ephone', 'S20')])"
      ]
     },
     "execution_count": 5,
     "metadata": {},
     "output_type": "execute_result"
    }
   ],
   "source": [
    "# scientists records\n",
    "atf[atf['edesign'] == 'scientist']"
   ]
  },
  {
   "cell_type": "code",
   "execution_count": 6,
   "metadata": {},
   "outputs": [
    {
     "data": {
      "text/plain": [
       "570000.0"
      ]
     },
     "execution_count": 6,
     "metadata": {},
     "output_type": "execute_result"
    }
   ],
   "source": [
    "# total salary\n",
    "atf['esal'].sum()"
   ]
  },
  {
   "cell_type": "code",
   "execution_count": 7,
   "metadata": {},
   "outputs": [
    {
     "data": {
      "text/plain": [
       "50000.0"
      ]
     },
     "execution_count": 7,
     "metadata": {},
     "output_type": "execute_result"
    }
   ],
   "source": [
    "# average salary of engineers\n",
    "atf[atf['edesign'] == 'engineer']['esal'].mean()"
   ]
  },
  {
   "cell_type": "code",
   "execution_count": 8,
   "metadata": {},
   "outputs": [
    {
     "data": {
      "text/plain": [
       "[4, 3, 2, 1]"
      ]
     },
     "execution_count": 8,
     "metadata": {},
     "output_type": "execute_result"
    }
   ],
   "source": [
    "# test reversal :: op\n",
    "l1 = [1,2,3,4]\n",
    "l1[::-1]"
   ]
  },
  {
   "cell_type": "code",
   "execution_count": 9,
   "metadata": {},
   "outputs": [
    {
     "name": "stdout",
     "output_type": "stream",
     "text": [
      "[('Anil Raj M.', 108, 'engineer',  50000., '{0496]-2287278')\n",
      " ('K.Gopal', 107, 'scientist',  50000., '(0493)-2287278')\n",
      " ('K.Raj', 101, 'scientist',  50000., '(0493)-2287278')\n",
      " ('Mohan Babu K.K.', 106, 'officer',  50000., '{0496}-2387278')\n",
      " ('Mohan Raj M.', 102, 'engineer',  50000., '[0496]-2287278')\n",
      " ('Suma', 206, 'engineer',  50000., '0496_2387278')\n",
      " ('Ram Kumar', 104, 'scientist',  60000., '(0491)-4287335')\n",
      " ('Uma ', 204, 'officer',  60000., '(0491)-4287335')\n",
      " ('Amala P.', 201, 'scientist',  70000., '(0498)-9287275')\n",
      " ('M.Ram', 104, 'scientist',  80000., '(0491)-4287275')]\n"
     ]
    }
   ],
   "source": [
    "#  employees in the ascending order of salary\n",
    "atf.sort(order='esal')\n",
    "print atf"
   ]
  },
  {
   "cell_type": "code",
   "execution_count": 10,
   "metadata": {},
   "outputs": [],
   "source": [
    "# employees in the ascending order of designation and then salary."
   ]
  },
  {
   "cell_type": "code",
   "execution_count": 11,
   "metadata": {},
   "outputs": [
    {
     "data": {
      "text/plain": [
       "50000.0"
      ]
     },
     "execution_count": 11,
     "metadata": {},
     "output_type": "execute_result"
    }
   ],
   "source": [
    "# lowest salary for scientist designation\n",
    "min_sc_sal = atf[atf['edesign'] == 'scientist']['esal'].min()\n",
    "min_sc_sal"
   ]
  },
  {
   "cell_type": "code",
   "execution_count": 57,
   "metadata": {},
   "outputs": [
    {
     "ename": "ValueError",
     "evalue": "The truth value of an array with more than one element is ambiguous. Use a.any() or a.all()",
     "output_type": "error",
     "traceback": [
      "\u001b[0;31m---------------------------------------------------------------------------\u001b[0m",
      "\u001b[0;31mValueError\u001b[0m                                Traceback (most recent call last)",
      "\u001b[0;32m<ipython-input-57-58f609f9f1ed>\u001b[0m in \u001b[0;36m<module>\u001b[0;34m()\u001b[0m\n\u001b[1;32m      1\u001b[0m \u001b[0;31m# records of employees who are scientists and are drawing the lowest salary(without using sort).\u001b[0m\u001b[0;34m\u001b[0m\u001b[0;34m\u001b[0m\u001b[0m\n\u001b[0;32m----> 2\u001b[0;31m \u001b[0mlist\u001b[0m\u001b[0;34m(\u001b[0m\u001b[0matf\u001b[0m\u001b[0;34m[\u001b[0m\u001b[0;34m'edesign'\u001b[0m\u001b[0;34m]\u001b[0m \u001b[0;34m==\u001b[0m \u001b[0;34m'scientist'\u001b[0m \u001b[0;32mand\u001b[0m \u001b[0matf\u001b[0m\u001b[0;34m[\u001b[0m\u001b[0;34m'esal'\u001b[0m\u001b[0;34m]\u001b[0m \u001b[0;34m==\u001b[0m \u001b[0mmin_sc_sal\u001b[0m\u001b[0;34m)\u001b[0m\u001b[0;34m\u001b[0m\u001b[0m\n\u001b[0m",
      "\u001b[0;31mValueError\u001b[0m: The truth value of an array with more than one element is ambiguous. Use a.any() or a.all()"
     ]
    }
   ],
   "source": [
    "# records of employees who are scientists and are drawing the lowest salary(without using sort).\n",
    "#atf['edesign'] == 'scientist' and atf['esal'] == min_sc_sal)\n",
    "\n"
   ]
  },
  {
   "cell_type": "code",
   "execution_count": 56,
   "metadata": {},
   "outputs": [
    {
     "data": {
      "text/plain": [
       "True"
      ]
     },
     "execution_count": 56,
     "metadata": {},
     "output_type": "execute_result"
    }
   ],
   "source": [
    "True and True"
   ]
  },
  {
   "cell_type": "code",
   "execution_count": null,
   "metadata": {},
   "outputs": [],
   "source": []
  }
 ],
 "metadata": {
  "kernelspec": {
   "display_name": "Python 2",
   "language": "python",
   "name": "python2"
  },
  "language_info": {
   "codemirror_mode": {
    "name": "ipython",
    "version": 2
   },
   "file_extension": ".py",
   "mimetype": "text/x-python",
   "name": "python",
   "nbconvert_exporter": "python",
   "pygments_lexer": "ipython2",
   "version": "2.7.15"
  }
 },
 "nbformat": 4,
 "nbformat_minor": 2
}
