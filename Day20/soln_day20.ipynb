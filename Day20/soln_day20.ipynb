{
 "cells": [
  {
   "cell_type": "markdown",
   "metadata": {},
   "source": [
    "### 1 Create a numpy structured array using the emp.csv file available in common folder.\n",
    "#### 1.1 display all the records.\n",
    "#### 1.2 display names of officers.\n",
    "#### 1.3 display all the scientists records.\n",
    "#### 1.4 display the total salary.\n",
    "#### 1.5 display average salary of engineers.\n",
    "#### 1.6 display employees in the ascending order of salary.\n",
    "#### 1.7 display employees in the ascending order of designation and then salary.\n",
    "#### 1.8 display the lowest salary for scientist designation.\n",
    "#### 1.9 display records of employees who are scientists and are drawing the lowest salary(without using sort).\n",
    " "
   ]
  },
  {
   "cell_type": "code",
   "execution_count": 18,
   "metadata": {},
   "outputs": [],
   "source": [
    "import numpy as np\n",
    "\n"
   ]
  },
  {
   "cell_type": "code",
   "execution_count": 19,
   "metadata": {},
   "outputs": [
    {
     "data": {
      "text/plain": [
       "array([('K.Raj', 101, 'scientist',  50000., '(0493)-2287278'),\n",
       "       ('Mohan Raj M.', 102, 'engineer',  50000., '[0496]-2287278'),\n",
       "       ('M.Ram', 104, 'scientist',  80000., '(0491)-4287275'),\n",
       "       ('Ram Kumar', 104, 'scientist',  60000., '(0491)-4287335'),\n",
       "       ('Mohan Babu K.K.', 106, 'officer',  50000., '{0496}-2387278'),\n",
       "       ('K.Gopal', 107, 'scientist',  50000., '(0493)-2287278'),\n",
       "       ('Anil Raj M.', 108, 'engineer',  50000., '{0496]-2287278'),\n",
       "       ('Amala P.', 201, 'scientist',  70000., '(0498)-9287275'),\n",
       "       ('Uma ', 204, 'officer',  60000., '(0491)-4287335'),\n",
       "       ('Suma', 206, 'engineer',  50000., '0496_2387278')],\n",
       "      dtype=[('ename', 'S20'), ('eno', '<i8'), ('edesign', 'S20'), ('esal', '<f8'), ('ephone', 'S20')])"
      ]
     },
     "execution_count": 19,
     "metadata": {},
     "output_type": "execute_result"
    }
   ],
   "source": [
    "datype = np.dtype({'names': ['ename','eno','edesign','esal','ephone'],'formats':['S20','i8','S20','f8','S20']})\n",
    "\n",
    "atf = np.loadtxt('emp.csv',delimiter=',',dtype=datype)\n",
    "atf"
   ]
  },
  {
   "cell_type": "code",
   "execution_count": 14,
   "metadata": {},
   "outputs": [
    {
     "data": {
      "text/plain": [
       "array([['Mohan Raj M.', 102, 'engineer', 50000.0, '[0496]-2287278'],\n",
       "       ['M.Ram', 104, 'scientist', 80000.0, '(0491)-4287275'],\n",
       "       ['Ram Kumar', 104, 'scientist', 60000.0, '(0491)-4287335'],\n",
       "       ['Mohan Babu K.K.', 106, 'officer', 50000.0, '{0496}-2387278'],\n",
       "       ['K.Gopal', 107, 'scientist', 50000.0, '(0493)-2287278'],\n",
       "       ['Anil Raj M.', 108, 'engineer', 50000.0, '{0496]-2287278'],\n",
       "       ['Amala P.', 201, 'scientist', 70000.0, '(0498)-9287275'],\n",
       "       ['Uma ', 204, 'officer', 60000.0, '(0491)-4287335'],\n",
       "       ['Suma', 206, 'engineer', 50000.0, '0496_2387278']], dtype=object)"
      ]
     },
     "execution_count": 14,
     "metadata": {},
     "output_type": "execute_result"
    }
   ],
   "source": [
    "import pandas as pd\n",
    "\n",
    "dd = pd.read_csv('emp.csv')\n",
    "temp = dd.as_matrix()\n",
    "\n",
    "temp"
   ]
  },
  {
   "cell_type": "code",
   "execution_count": null,
   "metadata": {},
   "outputs": [],
   "source": []
  }
 ],
 "metadata": {
  "kernelspec": {
   "display_name": "Python 2",
   "language": "python",
   "name": "python2"
  },
  "language_info": {
   "codemirror_mode": {
    "name": "ipython",
    "version": 2
   },
   "file_extension": ".py",
   "mimetype": "text/x-python",
   "name": "python",
   "nbconvert_exporter": "python",
   "pygments_lexer": "ipython2",
   "version": "2.7.15"
  }
 },
 "nbformat": 4,
 "nbformat_minor": 2
}
