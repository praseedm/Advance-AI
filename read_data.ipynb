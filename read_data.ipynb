{
 "cells": [
  {
   "cell_type": "code",
   "execution_count": 43,
   "metadata": {},
   "outputs": [],
   "source": [
    "import pandas as pd\n",
    "import os\n",
    "from sqlalchemy import create_engine\n",
    "from datetime import datetime\n",
    "import datetime as dt"
   ]
  },
  {
   "cell_type": "code",
   "execution_count": 44,
   "metadata": {},
   "outputs": [
    {
     "data": {
      "text/plain": [
       "datetime.datetime(2019, 1, 1, 15, 9, 34, 618554)"
      ]
     },
     "execution_count": 44,
     "metadata": {},
     "output_type": "execute_result"
    }
   ],
   "source": [
    "dt.datetime.now()"
   ]
  },
  {
   "cell_type": "code",
   "execution_count": 45,
   "metadata": {},
   "outputs": [
    {
     "data": {
      "text/plain": [
       "datetime.datetime(2019, 1, 1, 15, 9, 35, 54398)"
      ]
     },
     "execution_count": 45,
     "metadata": {},
     "output_type": "execute_result"
    }
   ],
   "source": [
    "datetime.now()"
   ]
  },
  {
   "cell_type": "markdown",
   "metadata": {},
   "source": [
    "As SQLite connects to local files, the URL format is slightly different. The “file” portion of the URL is the filename of the database. For a relative file path, this requires three slashes:\n",
    "\n",
    "# sqlite://<nohostname>/<path>\n",
    "# where <path> is relative:\n",
    "engine = create_engine('sqlite:///foo.db')\n",
    "\n",
    "And for an absolute file path, the three slashes are followed by the absolute path:\n",
    "\n",
    "#Unix/Mac - 4 initial slashes in total\n",
    "engine = create_engine('sqlite:////absolute/path/to/foo.db')"
   ]
  },
  {
   "cell_type": "code",
   "execution_count": 90,
   "metadata": {},
   "outputs": [
    {
     "name": "stdout",
     "output_type": "stream",
     "text": [
      "180000 rows\n",
      "360000 rows\n",
      "540000 rows\n",
      "720000 rows\n",
      "900000 rows\n",
      "1080000 rows\n",
      "1260000 rows\n",
      "1440000 rows\n",
      "1620000 rows\n",
      "1800000 rows\n",
      "1980000 rows\n",
      "2160000 rows\n",
      "Time taken : 0:01:50.257397\n"
     ]
    }
   ],
   "source": [
    "\n",
    "\n",
    "#Creating db file from csv\n",
    "#Learn SQL: https://www.w3schools.com/sql/default.asp\n",
    "if not os.path.isfile('/data/so_pred/test.db'):\n",
    "    start = datetime.now()\n",
    "    disk_engine = create_engine('sqlite:////data/so_pred/test.db')\n",
    "    #start = dt.datetime.now()\n",
    "    chunksize = 180000\n",
    "    j = 0\n",
    "    index_start = 1\n",
    "    for df in pd.read_csv('/data/so_pred/Test.csv', names=['Id', 'Title', 'Body'], chunksize=chunksize, iterator=True, encoding='utf-8', ):\n",
    "        df.index += index_start\n",
    "        j+=1\n",
    "        print('{} rows'.format(j*chunksize))\n",
    "        df.to_sql('data', disk_engine, if_exists='append')\n",
    "        index_start = df.index[-1] + 1\n",
    "    print \"Time taken :\", datetime.now() - start\n",
    "else:\n",
    "    print \"Already Exists\""
   ]
  },
  {
   "cell_type": "code",
   "execution_count": 91,
   "metadata": {},
   "outputs": [],
   "source": [
    "import sqlite3"
   ]
  },
  {
   "cell_type": "code",
   "execution_count": 94,
   "metadata": {},
   "outputs": [
    {
     "name": "stdout",
     "output_type": "stream",
     "text": [
      "Number of rows in the database : \n",
      "2013338\n",
      "Time taken  : 0:00:00.018579\n"
     ]
    }
   ],
   "source": [
    "\n",
    "\n",
    "if os.path.isfile('/data/so_pred/test.db'):\n",
    "    start = datetime.now()\n",
    "    con = sqlite3.connect('/data/so_pred/test.db')\n",
    "    num_rows = pd.read_sql_query(\"\"\"SELECT count(*) FROM data\"\"\", con)\n",
    "    #Always remember to close the database\n",
    "    print \"Number of rows in the database :\",\"\\n\",num_rows['count(*)'].values[0]\n",
    "    con.close()\n",
    "    print \"Time taken  :\", datetime.now() - start\n",
    "else:\n",
    "    print \"Error !! DB file not found\"\n",
    "\n"
   ]
  },
  {
   "cell_type": "code",
   "execution_count": 104,
   "metadata": {},
   "outputs": [
    {
     "name": "stdout",
     "output_type": "stream",
     "text": [
      "   index       Id                                              Title  \\\n",
      "0      2  6034196               Getting rid of site-specific hotkeys   \n",
      "1      3  6034197  Nodes inside Cisco VPN. Incoming SSH requests ...   \n",
      "2      4  6034198  Remove old vCenter servers from VMWare vSphere...   \n",
      "3      5  6034199    Replace <span> element with var containing html   \n",
      "4      6  6034200      Will PHP included html content affect my seo?   \n",
      "\n",
      "                                                Body  \n",
      "0  <p>How do I disable site-specific hotkeys if (...  \n",
      "1  <p>I've a gateway-to-gateway VPN setup between...  \n",
      "2  <p>After changing our vCenter servers recently...  \n",
      "3  <p>I have a variable i lifted the contents of,...  \n",
      "4  <p>Today i purchase a small CMS system. With t...  \n",
      "\n",
      " Time taken : 0:00:00.007573\n"
     ]
    }
   ],
   "source": [
    "if os.path.isfile('/data/so_pred/test.db'):\n",
    "    start = datetime.now()\n",
    "    con = sqlite3.connect('/data/so_pred/test.db')\n",
    "    res = pd.read_sql_query(\"\"\"SELECT * FROM data LIMIT 1,5\"\"\", con)\n",
    "    #Always remember to close the database\n",
    "    #print(\"Number of rows in the database :\",\"\\n\",num_rows['count(*)'].values[0])\n",
    "    print(res)\n",
    "    con.close()\n",
    "    print \"\\n Time taken :\", datetime.now() - start\n",
    "else:\n",
    "    print \"Error !! DB file not found\""
   ]
  },
  {
   "cell_type": "code",
   "execution_count": 105,
   "metadata": {},
   "outputs": [
    {
     "name": "stdout",
     "output_type": "stream",
     "text": [
      "        Id                                              Title  \\\n",
      "0  6034196               Getting rid of site-specific hotkeys   \n",
      "1  6034197  Nodes inside Cisco VPN. Incoming SSH requests ...   \n",
      "2  6034198  Remove old vCenter servers from VMWare vSphere...   \n",
      "3  6034199    Replace <span> element with var containing html   \n",
      "4  6034200      Will PHP included html content affect my seo?   \n",
      "\n",
      "                                                Body  \n",
      "0  <p>How do I disable site-specific hotkeys if (...  \n",
      "1  <p>I've a gateway-to-gateway VPN setup between...  \n",
      "2  <p>After changing our vCenter servers recently...  \n",
      "3  <p>I have a variable i lifted the contents of,...  \n",
      "4  <p>Today i purchase a small CMS system. With t...  \n",
      "\n",
      " Time taken : 0:00:00.007925\n"
     ]
    }
   ],
   "source": [
    "start = datetime.now()\n",
    "da = pd.read_csv('/data/so_pred/Test.csv',nrows=5)\n",
    "print da.head()\n",
    "print \"\\n Time taken :\", datetime.now() - start"
   ]
  },
  {
   "cell_type": "code",
   "execution_count": 57,
   "metadata": {},
   "outputs": [
    {
     "data": {
      "text/plain": [
       "(6034195, 4)"
      ]
     },
     "execution_count": 57,
     "metadata": {},
     "output_type": "execute_result"
    }
   ],
   "source": [
    "da.shape"
   ]
  },
  {
   "cell_type": "code",
   "execution_count": 58,
   "metadata": {},
   "outputs": [
    {
     "data": {
      "text/plain": [
       "\"<p>I'd like to check if an uploaded file is an image file (e.g png, jpg, jpeg, gif, bmp) or another file. The problem is that I'm using Uploadify to upload the files, which changes the mime type and gives a 'text/octal' or something as the mime type, no matter which file type you upload.</p>\\n\\n<p>Is there a way to check if the uploaded file is an image apart from checking the file extension using PHP?</p>\\n\""
      ]
     },
     "execution_count": 58,
     "metadata": {},
     "output_type": "execute_result"
    }
   ],
   "source": [
    "da.iloc[0]['Body']"
   ]
  },
  {
   "cell_type": "code",
   "execution_count": 59,
   "metadata": {},
   "outputs": [
    {
     "data": {
      "text/plain": [
       "'<p>In my favorite editor (vim), I regularly use ctrl-w to execute a certain action. Now, it quite often happens to me that firefox is the active window (on windows) while I still look at vim (thinking vim is the active window) and press ctrl-w which closes firefox. This is not what I want. Is there a way to stop ctrl-w from closing firefox?</p>\\n\\n<p>Rene</p>\\n'"
      ]
     },
     "execution_count": 59,
     "metadata": {},
     "output_type": "execute_result"
    }
   ],
   "source": [
    "da.iloc[1]['Body']"
   ]
  },
  {
   "cell_type": "code",
   "execution_count": 60,
   "metadata": {},
   "outputs": [
    {
     "data": {
      "text/plain": [
       "Index([u'Id', u'Title', u'Body', u'Tags'], dtype='object')"
      ]
     },
     "execution_count": 60,
     "metadata": {},
     "output_type": "execute_result"
    }
   ],
   "source": [
    "da.columns"
   ]
  },
  {
   "cell_type": "code",
   "execution_count": 62,
   "metadata": {},
   "outputs": [],
   "source": [
    "dup_group = da.groupby(['Title','Body','Tags'])"
   ]
  },
  {
   "cell_type": "code",
   "execution_count": 68,
   "metadata": {},
   "outputs": [
    {
     "ename": "AttributeError",
     "evalue": "'dict' object has no attribute 'count'",
     "output_type": "error",
     "traceback": [
      "\u001b[0;31m---------------------------------------------------------------------------\u001b[0m",
      "\u001b[0;31mAttributeError\u001b[0m                            Traceback (most recent call last)",
      "\u001b[0;32m<ipython-input-68-9571f4af05a9>\u001b[0m in \u001b[0;36m<module>\u001b[0;34m()\u001b[0m\n\u001b[0;32m----> 1\u001b[0;31m \u001b[0mdup_group\u001b[0m\u001b[0;34m.\u001b[0m\u001b[0mgroups\u001b[0m\u001b[0;34m.\u001b[0m\u001b[0mcount\u001b[0m\u001b[0;34m(\u001b[0m\u001b[0;34m)\u001b[0m\u001b[0;34m\u001b[0m\u001b[0m\n\u001b[0m",
      "\u001b[0;31mAttributeError\u001b[0m: 'dict' object has no attribute 'count'"
     ]
    }
   ],
   "source": [
    "dup_group.groups"
   ]
  },
  {
   "cell_type": "code",
   "execution_count": 87,
   "metadata": {},
   "outputs": [
    {
     "name": "stdout",
     "output_type": "stream",
     "text": [
      "2019-01-01 15:37:59.471578\n"
     ]
    }
   ],
   "source": [
    "s = datetime.now()\n",
    "print s "
   ]
  },
  {
   "cell_type": "code",
   "execution_count": null,
   "metadata": {},
   "outputs": [],
   "source": []
  }
 ],
 "metadata": {
  "kernelspec": {
   "display_name": "Python 2",
   "language": "python",
   "name": "python2"
  },
  "language_info": {
   "codemirror_mode": {
    "name": "ipython",
    "version": 2
   },
   "file_extension": ".py",
   "mimetype": "text/x-python",
   "name": "python",
   "nbconvert_exporter": "python",
   "pygments_lexer": "ipython2",
   "version": "2.7.15"
  }
 },
 "nbformat": 4,
 "nbformat_minor": 2
}
