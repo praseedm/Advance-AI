{
 "cells": [
  {
   "cell_type": "markdown",
   "metadata": {},
   "source": [
    "### 1. write a program to print the length of a string (without using len() function) using for loop."
   ]
  },
  {
   "cell_type": "code",
   "execution_count": 1,
   "metadata": {},
   "outputs": [
    {
     "name": "stdout",
     "output_type": "stream",
     "text": [
      "Enter string : abc\n",
      "abc  : length : 3\n"
     ]
    }
   ],
   "source": [
    "def str_len(string):\n",
    "    count = 0\n",
    "    for i in string:\n",
    "        count += 1\n",
    "    print string,\" : length :\",count\n",
    "\n",
    "s=raw_input(\"Enter string : \")\n",
    "\n",
    "str_len(s)"
   ]
  },
  {
   "cell_type": "markdown",
   "metadata": {},
   "source": [
    "### Write a program to reverse a given string."
   ]
  },
  {
   "cell_type": "code",
   "execution_count": null,
   "metadata": {},
   "outputs": [],
   "source": [
    "s=raw_input(\"Enter string : \")\n",
    "print \"reverse : \",s[::-1]"
   ]
  },
  {
   "cell_type": "markdown",
   "metadata": {},
   "source": [
    "### Write a program to print the no. of occurences of a given character in a given string.\n"
   ]
  },
  {
   "cell_type": "code",
   "execution_count": null,
   "metadata": {},
   "outputs": [],
   "source": [
    "def char_occ(string,character):\n",
    "    count = 0\n",
    "    for i in string:\n",
    "        if(i == character):\n",
    "            count += 1\n",
    "    return count\n",
    "\n",
    "s=raw_input(\"Enter string : \")\n",
    "c=raw_input(\"Enter character : \")\n",
    "\n",
    "print s,\" has \",char_occ(s,c),\" occurences of \",c"
   ]
  },
  {
   "cell_type": "markdown",
   "metadata": {},
   "source": [
    "### Write a program to check for at least two vowels in a given string. "
   ]
  },
  {
   "cell_type": "code",
   "execution_count": null,
   "metadata": {},
   "outputs": [],
   "source": [
    "vowels=['a','e','i','o','u','A','E','I','O','U']\n",
    "\n",
    "def vowel_check(string):\n",
    "    count = 0\n",
    "    for i in string:\n",
    "        if(i in vowels):\n",
    "            count += 1\n",
    "        if(count == 2):\n",
    "            return \"TRUE\"\n",
    "    return \"FALSE\"\n",
    "\n",
    "s=raw_input(\"Enter string : \")\n",
    "\n",
    "print \"atleast 2 vowels : \",vowel_check(s)"
   ]
  }
 ],
 "metadata": {
  "kernelspec": {
   "display_name": "Python 3",
   "language": "python",
   "name": "python3"
  },
  "language_info": {
   "codemirror_mode": {
    "name": "ipython",
    "version": 3
   },
   "file_extension": ".py",
   "mimetype": "text/x-python",
   "name": "python",
   "nbconvert_exporter": "python",
   "pygments_lexer": "ipython3",
   "version": "3.7.0"
  }
 },
 "nbformat": 4,
 "nbformat_minor": 2
}
