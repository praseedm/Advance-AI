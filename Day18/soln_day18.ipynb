{
 "cells": [
  {
   "cell_type": "markdown",
   "metadata": {},
   "source": [
    "### \t1.Create an integer(32bit) array of shape 2,3\n",
    "\t\n",
    "### \t2.Create another array using the values from the above array (Qno.1) but with a type of float64\n",
    " \n",
    "### \t3.Create another array using the values from the above array (Qno.1) but with a type of int64\n",
    "\t\n",
    "### \t4.Create another array using the values from the above array (Qno.1) but with a type of str\n",
    "\t\n",
    "### \t5.Create another array using the values from the above array (Qno.4) but with a type of str"
   ]
  },
  {
   "cell_type": "code",
   "execution_count": null,
   "metadata": {},
   "outputs": [],
   "source": []
  }
 ],
 "metadata": {
  "kernelspec": {
   "display_name": "Python 2",
   "language": "python",
   "name": "python2"
  },
  "language_info": {
   "codemirror_mode": {
    "name": "ipython",
    "version": 2
   },
   "file_extension": ".py",
   "mimetype": "text/x-python",
   "name": "python",
   "nbconvert_exporter": "python",
   "pygments_lexer": "ipython2",
   "version": "2.7.15"
  }
 },
 "nbformat": 4,
 "nbformat_minor": 2
}
