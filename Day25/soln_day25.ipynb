{
 "cells": [
  {
   "cell_type": "markdown",
   "metadata": {},
   "source": [
    "### 1.Using the emp.csv file available in common folder,create a data frame object named ef1."
   ]
  },
  {
   "cell_type": "code",
   "execution_count": 3,
   "metadata": {},
   "outputs": [
    {
     "data": {
      "text/html": [
       "<div>\n",
       "<style scoped>\n",
       "    .dataframe tbody tr th:only-of-type {\n",
       "        vertical-align: middle;\n",
       "    }\n",
       "\n",
       "    .dataframe tbody tr th {\n",
       "        vertical-align: top;\n",
       "    }\n",
       "\n",
       "    .dataframe thead th {\n",
       "        text-align: right;\n",
       "    }\n",
       "</style>\n",
       "<table border=\"1\" class=\"dataframe\">\n",
       "  <thead>\n",
       "    <tr style=\"text-align: right;\">\n",
       "      <th></th>\n",
       "      <th>ename</th>\n",
       "      <th>eno</th>\n",
       "      <th>edesig</th>\n",
       "      <th>esalary</th>\n",
       "      <th>ephno</th>\n",
       "    </tr>\n",
       "  </thead>\n",
       "  <tbody>\n",
       "    <tr>\n",
       "      <th>0</th>\n",
       "      <td>K.Raj</td>\n",
       "      <td>101</td>\n",
       "      <td>scientist</td>\n",
       "      <td>50000.0</td>\n",
       "      <td>(0493)-2287278</td>\n",
       "    </tr>\n",
       "    <tr>\n",
       "      <th>1</th>\n",
       "      <td>Mohan Raj M.</td>\n",
       "      <td>102</td>\n",
       "      <td>engineer</td>\n",
       "      <td>50000.0</td>\n",
       "      <td>[0496]-2287278</td>\n",
       "    </tr>\n",
       "    <tr>\n",
       "      <th>2</th>\n",
       "      <td>M.Ram</td>\n",
       "      <td>104</td>\n",
       "      <td>scientist</td>\n",
       "      <td>80000.0</td>\n",
       "      <td>(0491)-4287275</td>\n",
       "    </tr>\n",
       "    <tr>\n",
       "      <th>3</th>\n",
       "      <td>Ram Kumar</td>\n",
       "      <td>104</td>\n",
       "      <td>scientist</td>\n",
       "      <td>60000.0</td>\n",
       "      <td>(0491)-4287335</td>\n",
       "    </tr>\n",
       "    <tr>\n",
       "      <th>4</th>\n",
       "      <td>Mohan Babu K.K.</td>\n",
       "      <td>106</td>\n",
       "      <td>officer</td>\n",
       "      <td>50000.0</td>\n",
       "      <td>{0496}-2387278</td>\n",
       "    </tr>\n",
       "    <tr>\n",
       "      <th>5</th>\n",
       "      <td>K.Gopal</td>\n",
       "      <td>107</td>\n",
       "      <td>scientist</td>\n",
       "      <td>50000.0</td>\n",
       "      <td>(0493)-2287278</td>\n",
       "    </tr>\n",
       "    <tr>\n",
       "      <th>6</th>\n",
       "      <td>Anil Raj M.</td>\n",
       "      <td>108</td>\n",
       "      <td>engineer</td>\n",
       "      <td>50000.0</td>\n",
       "      <td>{0496]-2287278</td>\n",
       "    </tr>\n",
       "    <tr>\n",
       "      <th>7</th>\n",
       "      <td>Amala P.</td>\n",
       "      <td>201</td>\n",
       "      <td>scientist</td>\n",
       "      <td>70000.0</td>\n",
       "      <td>(0498)-9287275</td>\n",
       "    </tr>\n",
       "    <tr>\n",
       "      <th>8</th>\n",
       "      <td>Uma</td>\n",
       "      <td>204</td>\n",
       "      <td>officer</td>\n",
       "      <td>60000.0</td>\n",
       "      <td>(0491)-4287335</td>\n",
       "    </tr>\n",
       "    <tr>\n",
       "      <th>9</th>\n",
       "      <td>Suma</td>\n",
       "      <td>206</td>\n",
       "      <td>engineer</td>\n",
       "      <td>50000.0</td>\n",
       "      <td>0496_2387278</td>\n",
       "    </tr>\n",
       "  </tbody>\n",
       "</table>\n",
       "</div>"
      ],
      "text/plain": [
       "             ename  eno     edesig  esalary           ephno\n",
       "0            K.Raj  101  scientist  50000.0  (0493)-2287278\n",
       "1     Mohan Raj M.  102   engineer  50000.0  [0496]-2287278\n",
       "2            M.Ram  104  scientist  80000.0  (0491)-4287275\n",
       "3        Ram Kumar  104  scientist  60000.0  (0491)-4287335\n",
       "4  Mohan Babu K.K.  106    officer  50000.0  {0496}-2387278\n",
       "5          K.Gopal  107  scientist  50000.0  (0493)-2287278\n",
       "6      Anil Raj M.  108   engineer  50000.0  {0496]-2287278\n",
       "7         Amala P.  201  scientist  70000.0  (0498)-9287275\n",
       "8             Uma   204    officer  60000.0  (0491)-4287335\n",
       "9             Suma  206   engineer  50000.0    0496_2387278"
      ]
     },
     "execution_count": 3,
     "metadata": {},
     "output_type": "execute_result"
    }
   ],
   "source": [
    "import pandas as pd\n",
    "\n",
    "dfe = pd.read_csv('emp.csv')\n",
    "dfe"
   ]
  },
  {
   "cell_type": "markdown",
   "metadata": {},
   "source": [
    "### 2.Remove all the non digit characters from ephno column and store the new data in ef2."
   ]
  },
  {
   "cell_type": "code",
   "execution_count": 55,
   "metadata": {},
   "outputs": [
    {
     "name": "stdout",
     "output_type": "stream",
     "text": [
      "             ename  eno     edesig  esalary        ephno\n",
      "0            K.Raj  101  scientist  50000.0  04932287278\n",
      "1     Mohan Raj M.  102   engineer  50000.0  04962287278\n",
      "2            M.Ram  104  scientist  80000.0  04914287275\n",
      "3        Ram Kumar  104  scientist  60000.0  04914287335\n",
      "4  Mohan Babu K.K.  106    officer  50000.0  04962387278\n",
      "5          K.Gopal  107  scientist  50000.0  04932287278\n",
      "6      Anil Raj M.  108   engineer  50000.0  04962287278\n",
      "7         Amala P.  201  scientist  70000.0  04989287275\n",
      "8             Uma   204    officer  60000.0  04914287335\n",
      "9             Suma  206   engineer  50000.0  04962387278\n"
     ]
    }
   ],
   "source": [
    "### using apply\n",
    "import re\n",
    "\n",
    "def fn_rm_nd(n):\n",
    "    return re.sub('[^0-9]','',str(n))\n",
    "\n",
    "dfe['ephno'] = dfe['ephno'].apply(fn_rm_nd)\n",
    "print dfe\n",
    "\n",
    "dfe.to_excel('emp.xlsx',index=False)"
   ]
  },
  {
   "cell_type": "markdown",
   "metadata": {},
   "source": [
    "### 3.Write the three columns ename,edesig and esalary to the excel file empx.xlsx with sheet name as salary"
   ]
  },
  {
   "cell_type": "code",
   "execution_count": 25,
   "metadata": {},
   "outputs": [],
   "source": [
    "dfe.to_excel('out.xlsx',columns=['ename','edesig','esalary'],index=False)"
   ]
  },
  {
   "cell_type": "markdown",
   "metadata": {},
   "source": [
    "### 4.Write the two columns ename and  ephno to the same excel file empx.xlsx with sheet name as phone"
   ]
  },
  {
   "cell_type": "code",
   "execution_count": 27,
   "metadata": {},
   "outputs": [],
   "source": [
    "dfe.to_excel('out2.xlsx',columns=['ename','ephno'],index=False,sheet_name='phone')"
   ]
  },
  {
   "cell_type": "markdown",
   "metadata": {},
   "source": [
    "### 5.In the data frame  make edesig and eno as row index & store the new data frame"
   ]
  },
  {
   "cell_type": "code",
   "execution_count": 30,
   "metadata": {},
   "outputs": [
    {
     "name": "stdout",
     "output_type": "stream",
     "text": [
      "             ename  eno     edesig  esalary        ephno\n",
      "0            K.Raj  101  scientist  50000.0  04932287278\n",
      "1     Mohan Raj M.  102   engineer  50000.0  04962287278\n",
      "2            M.Ram  104  scientist  80000.0  04914287275\n",
      "3        Ram Kumar  104  scientist  60000.0  04914287335\n",
      "4  Mohan Babu K.K.  106    officer  50000.0  04962387278\n"
     ]
    }
   ],
   "source": [
    "print dfe.head()"
   ]
  },
  {
   "cell_type": "code",
   "execution_count": 34,
   "metadata": {},
   "outputs": [
    {
     "data": {
      "text/html": [
       "<div>\n",
       "<style scoped>\n",
       "    .dataframe tbody tr th:only-of-type {\n",
       "        vertical-align: middle;\n",
       "    }\n",
       "\n",
       "    .dataframe tbody tr th {\n",
       "        vertical-align: top;\n",
       "    }\n",
       "\n",
       "    .dataframe thead th {\n",
       "        text-align: right;\n",
       "    }\n",
       "</style>\n",
       "<table border=\"1\" class=\"dataframe\">\n",
       "  <thead>\n",
       "    <tr style=\"text-align: right;\">\n",
       "      <th></th>\n",
       "      <th></th>\n",
       "      <th>ename</th>\n",
       "      <th>esalary</th>\n",
       "      <th>ephno</th>\n",
       "    </tr>\n",
       "    <tr>\n",
       "      <th>edesig</th>\n",
       "      <th>eno</th>\n",
       "      <th></th>\n",
       "      <th></th>\n",
       "      <th></th>\n",
       "    </tr>\n",
       "  </thead>\n",
       "  <tbody>\n",
       "    <tr>\n",
       "      <th>scientist</th>\n",
       "      <th>101</th>\n",
       "      <td>K.Raj</td>\n",
       "      <td>50000.0</td>\n",
       "      <td>04932287278</td>\n",
       "    </tr>\n",
       "    <tr>\n",
       "      <th>engineer</th>\n",
       "      <th>102</th>\n",
       "      <td>Mohan Raj M.</td>\n",
       "      <td>50000.0</td>\n",
       "      <td>04962287278</td>\n",
       "    </tr>\n",
       "    <tr>\n",
       "      <th rowspan=\"2\" valign=\"top\">scientist</th>\n",
       "      <th>104</th>\n",
       "      <td>M.Ram</td>\n",
       "      <td>80000.0</td>\n",
       "      <td>04914287275</td>\n",
       "    </tr>\n",
       "    <tr>\n",
       "      <th>104</th>\n",
       "      <td>Ram Kumar</td>\n",
       "      <td>60000.0</td>\n",
       "      <td>04914287335</td>\n",
       "    </tr>\n",
       "    <tr>\n",
       "      <th>officer</th>\n",
       "      <th>106</th>\n",
       "      <td>Mohan Babu K.K.</td>\n",
       "      <td>50000.0</td>\n",
       "      <td>04962387278</td>\n",
       "    </tr>\n",
       "    <tr>\n",
       "      <th>scientist</th>\n",
       "      <th>107</th>\n",
       "      <td>K.Gopal</td>\n",
       "      <td>50000.0</td>\n",
       "      <td>04932287278</td>\n",
       "    </tr>\n",
       "    <tr>\n",
       "      <th>engineer</th>\n",
       "      <th>108</th>\n",
       "      <td>Anil Raj M.</td>\n",
       "      <td>50000.0</td>\n",
       "      <td>04962287278</td>\n",
       "    </tr>\n",
       "    <tr>\n",
       "      <th>scientist</th>\n",
       "      <th>201</th>\n",
       "      <td>Amala P.</td>\n",
       "      <td>70000.0</td>\n",
       "      <td>04989287275</td>\n",
       "    </tr>\n",
       "    <tr>\n",
       "      <th>officer</th>\n",
       "      <th>204</th>\n",
       "      <td>Uma</td>\n",
       "      <td>60000.0</td>\n",
       "      <td>04914287335</td>\n",
       "    </tr>\n",
       "    <tr>\n",
       "      <th>engineer</th>\n",
       "      <th>206</th>\n",
       "      <td>Suma</td>\n",
       "      <td>50000.0</td>\n",
       "      <td>04962387278</td>\n",
       "    </tr>\n",
       "  </tbody>\n",
       "</table>\n",
       "</div>"
      ],
      "text/plain": [
       "                         ename  esalary        ephno\n",
       "edesig    eno                                       \n",
       "scientist 101            K.Raj  50000.0  04932287278\n",
       "engineer  102     Mohan Raj M.  50000.0  04962287278\n",
       "scientist 104            M.Ram  80000.0  04914287275\n",
       "          104        Ram Kumar  60000.0  04914287335\n",
       "officer   106  Mohan Babu K.K.  50000.0  04962387278\n",
       "scientist 107          K.Gopal  50000.0  04932287278\n",
       "engineer  108      Anil Raj M.  50000.0  04962287278\n",
       "scientist 201         Amala P.  70000.0  04989287275\n",
       "officer   204             Uma   60000.0  04914287335\n",
       "engineer  206             Suma  50000.0  04962387278"
      ]
     },
     "execution_count": 34,
     "metadata": {},
     "output_type": "execute_result"
    }
   ],
   "source": [
    "dfnew = dfe.set_index(['edesig','eno'])\n",
    "dfnew"
   ]
  },
  {
   "cell_type": "markdown",
   "metadata": {},
   "source": [
    "### 6.In result sort the index edesig "
   ]
  },
  {
   "cell_type": "code",
   "execution_count": 46,
   "metadata": {
    "scrolled": true
   },
   "outputs": [
    {
     "data": {
      "text/html": [
       "<div>\n",
       "<style scoped>\n",
       "    .dataframe tbody tr th:only-of-type {\n",
       "        vertical-align: middle;\n",
       "    }\n",
       "\n",
       "    .dataframe tbody tr th {\n",
       "        vertical-align: top;\n",
       "    }\n",
       "\n",
       "    .dataframe thead th {\n",
       "        text-align: right;\n",
       "    }\n",
       "</style>\n",
       "<table border=\"1\" class=\"dataframe\">\n",
       "  <thead>\n",
       "    <tr style=\"text-align: right;\">\n",
       "      <th></th>\n",
       "      <th></th>\n",
       "      <th>ename</th>\n",
       "      <th>esalary</th>\n",
       "      <th>ephno</th>\n",
       "    </tr>\n",
       "    <tr>\n",
       "      <th>edesig</th>\n",
       "      <th>eno</th>\n",
       "      <th></th>\n",
       "      <th></th>\n",
       "      <th></th>\n",
       "    </tr>\n",
       "  </thead>\n",
       "  <tbody>\n",
       "    <tr>\n",
       "      <th rowspan=\"3\" valign=\"top\">engineer</th>\n",
       "      <th>102</th>\n",
       "      <td>Mohan Raj M.</td>\n",
       "      <td>50000.0</td>\n",
       "      <td>04962287278</td>\n",
       "    </tr>\n",
       "    <tr>\n",
       "      <th>108</th>\n",
       "      <td>Anil Raj M.</td>\n",
       "      <td>50000.0</td>\n",
       "      <td>04962287278</td>\n",
       "    </tr>\n",
       "    <tr>\n",
       "      <th>206</th>\n",
       "      <td>Suma</td>\n",
       "      <td>50000.0</td>\n",
       "      <td>04962387278</td>\n",
       "    </tr>\n",
       "    <tr>\n",
       "      <th rowspan=\"2\" valign=\"top\">officer</th>\n",
       "      <th>106</th>\n",
       "      <td>Mohan Babu K.K.</td>\n",
       "      <td>50000.0</td>\n",
       "      <td>04962387278</td>\n",
       "    </tr>\n",
       "    <tr>\n",
       "      <th>204</th>\n",
       "      <td>Uma</td>\n",
       "      <td>60000.0</td>\n",
       "      <td>04914287335</td>\n",
       "    </tr>\n",
       "    <tr>\n",
       "      <th rowspan=\"5\" valign=\"top\">scientist</th>\n",
       "      <th>101</th>\n",
       "      <td>K.Raj</td>\n",
       "      <td>50000.0</td>\n",
       "      <td>04932287278</td>\n",
       "    </tr>\n",
       "    <tr>\n",
       "      <th>104</th>\n",
       "      <td>M.Ram</td>\n",
       "      <td>80000.0</td>\n",
       "      <td>04914287275</td>\n",
       "    </tr>\n",
       "    <tr>\n",
       "      <th>104</th>\n",
       "      <td>Ram Kumar</td>\n",
       "      <td>60000.0</td>\n",
       "      <td>04914287335</td>\n",
       "    </tr>\n",
       "    <tr>\n",
       "      <th>107</th>\n",
       "      <td>K.Gopal</td>\n",
       "      <td>50000.0</td>\n",
       "      <td>04932287278</td>\n",
       "    </tr>\n",
       "    <tr>\n",
       "      <th>201</th>\n",
       "      <td>Amala P.</td>\n",
       "      <td>70000.0</td>\n",
       "      <td>04989287275</td>\n",
       "    </tr>\n",
       "  </tbody>\n",
       "</table>\n",
       "</div>"
      ],
      "text/plain": [
       "                         ename  esalary        ephno\n",
       "edesig    eno                                       \n",
       "engineer  102     Mohan Raj M.  50000.0  04962287278\n",
       "          108      Anil Raj M.  50000.0  04962287278\n",
       "          206             Suma  50000.0  04962387278\n",
       "officer   106  Mohan Babu K.K.  50000.0  04962387278\n",
       "          204             Uma   60000.0  04914287335\n",
       "scientist 101            K.Raj  50000.0  04932287278\n",
       "          104            M.Ram  80000.0  04914287275\n",
       "          104        Ram Kumar  60000.0  04914287335\n",
       "          107          K.Gopal  50000.0  04932287278\n",
       "          201         Amala P.  70000.0  04989287275"
      ]
     },
     "execution_count": 46,
     "metadata": {},
     "output_type": "execute_result"
    }
   ],
   "source": [
    "dfisort = dfnew.sort_index(level='edesig')\n",
    "dfisort"
   ]
  },
  {
   "cell_type": "markdown",
   "metadata": {},
   "source": [
    "###  6.1.Using  display all the scientists records.\n",
    "### 6.2.Display average salary of engineers.\n",
    "### 6.3.Display the lowest salary for scientist designation."
   ]
  },
  {
   "cell_type": "code",
   "execution_count": 48,
   "metadata": {},
   "outputs": [
    {
     "data": {
      "text/html": [
       "<div>\n",
       "<style scoped>\n",
       "    .dataframe tbody tr th:only-of-type {\n",
       "        vertical-align: middle;\n",
       "    }\n",
       "\n",
       "    .dataframe tbody tr th {\n",
       "        vertical-align: top;\n",
       "    }\n",
       "\n",
       "    .dataframe thead th {\n",
       "        text-align: right;\n",
       "    }\n",
       "</style>\n",
       "<table border=\"1\" class=\"dataframe\">\n",
       "  <thead>\n",
       "    <tr style=\"text-align: right;\">\n",
       "      <th></th>\n",
       "      <th>ename</th>\n",
       "      <th>esalary</th>\n",
       "      <th>ephno</th>\n",
       "    </tr>\n",
       "    <tr>\n",
       "      <th>eno</th>\n",
       "      <th></th>\n",
       "      <th></th>\n",
       "      <th></th>\n",
       "    </tr>\n",
       "  </thead>\n",
       "  <tbody>\n",
       "    <tr>\n",
       "      <th>101</th>\n",
       "      <td>K.Raj</td>\n",
       "      <td>50000.0</td>\n",
       "      <td>04932287278</td>\n",
       "    </tr>\n",
       "    <tr>\n",
       "      <th>104</th>\n",
       "      <td>M.Ram</td>\n",
       "      <td>80000.0</td>\n",
       "      <td>04914287275</td>\n",
       "    </tr>\n",
       "    <tr>\n",
       "      <th>104</th>\n",
       "      <td>Ram Kumar</td>\n",
       "      <td>60000.0</td>\n",
       "      <td>04914287335</td>\n",
       "    </tr>\n",
       "    <tr>\n",
       "      <th>107</th>\n",
       "      <td>K.Gopal</td>\n",
       "      <td>50000.0</td>\n",
       "      <td>04932287278</td>\n",
       "    </tr>\n",
       "    <tr>\n",
       "      <th>201</th>\n",
       "      <td>Amala P.</td>\n",
       "      <td>70000.0</td>\n",
       "      <td>04989287275</td>\n",
       "    </tr>\n",
       "  </tbody>\n",
       "</table>\n",
       "</div>"
      ],
      "text/plain": [
       "         ename  esalary        ephno\n",
       "eno                                 \n",
       "101      K.Raj  50000.0  04932287278\n",
       "104      M.Ram  80000.0  04914287275\n",
       "104  Ram Kumar  60000.0  04914287335\n",
       "107    K.Gopal  50000.0  04932287278\n",
       "201   Amala P.  70000.0  04989287275"
      ]
     },
     "execution_count": 48,
     "metadata": {},
     "output_type": "execute_result"
    }
   ],
   "source": [
    "dfisort.loc['scientist']"
   ]
  },
  {
   "cell_type": "code",
   "execution_count": 51,
   "metadata": {},
   "outputs": [
    {
     "data": {
      "text/plain": [
       "50000.0"
      ]
     },
     "execution_count": 51,
     "metadata": {},
     "output_type": "execute_result"
    }
   ],
   "source": [
    "dfisort.loc['engineer']['esalary'].mean()"
   ]
  },
  {
   "cell_type": "code",
   "execution_count": 52,
   "metadata": {},
   "outputs": [
    {
     "data": {
      "text/plain": [
       "50000.0"
      ]
     },
     "execution_count": 52,
     "metadata": {},
     "output_type": "execute_result"
    }
   ],
   "source": [
    "dfisort.loc['scientist']['esalary'].min()"
   ]
  },
  {
   "cell_type": "code",
   "execution_count": null,
   "metadata": {},
   "outputs": [],
   "source": []
  }
 ],
 "metadata": {
  "kernelspec": {
   "display_name": "Python 2",
   "language": "python",
   "name": "python2"
  },
  "language_info": {
   "codemirror_mode": {
    "name": "ipython",
    "version": 2
   },
   "file_extension": ".py",
   "mimetype": "text/x-python",
   "name": "python",
   "nbconvert_exporter": "python",
   "pygments_lexer": "ipython2",
   "version": "2.7.15"
  }
 },
 "nbformat": 4,
 "nbformat_minor": 2
}
