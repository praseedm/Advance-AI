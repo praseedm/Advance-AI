{
 "cells": [
  {
   "cell_type": "markdown",
   "metadata": {},
   "source": [
    "### 1. Prepare an ML model using KNN Classifier to predict the Species information for\n",
    "a given iris flower using Sepal Length, Sepal Width, Petal Length & Petal Width. Use\n",
    "the complete iris dataset for training. Use it to predict the species of an iris flower."
   ]
  },
  {
   "cell_type": "code",
   "execution_count": 29,
   "metadata": {},
   "outputs": [
    {
     "name": "stdout",
     "output_type": "stream",
     "text": [
      "[2]\n"
     ]
    }
   ],
   "source": [
    "from sklearn.datasets import load_iris\n",
    "from sklearn.neighbors import KNeighborsClassifier\n",
    "\n",
    "iris = load_iris()\n",
    "\n",
    "# iris_data.data iris_data.target\n",
    "model = KNeighborsClassifier(n_neighbors = 1)\n",
    "\n",
    "model.fit(iris.data,iris.target)\n",
    "\n",
    "p = model.predict([[3,5,4,3]])\n",
    "print p"
   ]
  },
  {
   "cell_type": "markdown",
   "metadata": {},
   "source": [
    "### 2. Print the Accuracy Score and Confusion matrix for KNN Classifier using iris data.\n",
    "(Split iris dataset to train and test sets.)"
   ]
  },
  {
   "cell_type": "code",
   "execution_count": 38,
   "metadata": {},
   "outputs": [
    {
     "name": "stdout",
     "output_type": "stream",
     "text": [
      "Confusion_Matrix :\n",
      "[[ 9  0  0]\n",
      " [ 0 11  0]\n",
      " [ 0  1  9]]\n",
      "Accuracy_Score :\n",
      "0.966666666667\n"
     ]
    }
   ],
   "source": [
    "from sklearn.model_selection import train_test_split\n",
    "from sklearn.metrics import accuracy_score, confusion_matrix\n",
    "\n",
    "X=iris.data\n",
    "y=iris.target\n",
    "\n",
    "X_train,X_test,y_train,y_test = train_test_split(X,y,test_size=0.2)\n",
    "\n",
    "#print X_train.shape, X_test.shape\n",
    "\n",
    "model = KNeighborsClassifier()\n",
    "model.fit(X_train,y_train)\n",
    "\n",
    "p = model.predict(X_test)\n",
    "\n",
    "print \"Confusion_Matrix :\\n\",confusion_matrix(y_test,p)\n",
    "print \"Accuracy_Score :\\n\",accuracy_score(y_test,p)"
   ]
  },
  {
   "cell_type": "markdown",
   "metadata": {},
   "source": [
    "### 3. The dataset (Immunotherapy.csv) contains information about wart treatment\n",
    "results of 90 patients using immunotherapy. Develop a KNN Classifier to predict the\n",
    "success of the treatment. Print confusion matrix. Also plot the graph showing the\n",
    "variation of accuracy score for the different values of k."
   ]
  },
  {
   "cell_type": "code",
   "execution_count": 73,
   "metadata": {},
   "outputs": [
    {
     "name": "stdout",
     "output_type": "stream",
     "text": [
      "[0.60869565217391308, 0.56521739130434778, 0.73913043478260865, 0.47826086956521741, 0.82608695652173914, 0.65217391304347827, 0.82608695652173914, 0.82608695652173914, 0.82608695652173914, 0.82608695652173914, 0.82608695652173914, 0.82608695652173914, 0.82608695652173914, 0.82608695652173914, 0.82608695652173914, 0.82608695652173914, 0.82608695652173914, 0.82608695652173914, 0.82608695652173914]\n"
     ]
    },
    {
     "data": {
      "image/png": "[encoded data removed]",
      "text/plain": [
       "<Figure size 432x288 with 1 Axes>"
      ]
     },
     "metadata": {},
     "output_type": "display_data"
    }
   ],
   "source": [
    "import pandas as pd\n",
    "import matplotlib.pyplot as plt\n",
    "\n",
    "data = pd.read_csv('Immunotherapy.csv')\n",
    "data = data.as_matrix()\n",
    "#type(data) - numpy.ndarray\n",
    "X_train,X_test,y_train,y_test = train_test_split(data[:,0:6],data[:,7]) \n",
    "\n",
    "accu_scores = []\n",
    "\n",
    "for i in range(1,20):\n",
    "    model = KNeighborsClassifier(n_neighbors=i)\n",
    "    model.fit(X_train,y_train)\n",
    "    p = model.predict(X_test)\n",
    "    accu_scores.append(accuracy_score(y_test,p))\n",
    "\n",
    "print accu_scores   \n",
    "plt.plot(range(1,20),accu_scores)\n",
    "plt.xlabel(\"K values\")\n",
    "plt.ylabel(\"Accuracy Scores\")\n",
    "plt.show()\n",
    "\n"
   ]
  },
  {
   "cell_type": "markdown",
   "metadata": {},
   "source": [
    "### 4. Identify a suitable dataset from your area of interest for a classification problem\n",
    "(Should not be the same as Day1 solution). Develop an ML model to do prediction.\n",
    "Print confusion matrix and accuracy score."
   ]
  },
  {
   "cell_type": "code",
   "execution_count": 77,
   "metadata": {},
   "outputs": [
    {
     "name": "stdout",
     "output_type": "stream",
     "text": [
      "Confusion_Matrix :\n",
      "[[18 15]\n",
      " [ 0 55]]\n",
      "Accuracy_Score :\n",
      "0.829545454545\n"
     ]
    }
   ],
   "source": [
    "data = pd.read_csv('ionosphere.data',delimiter=' ')\n",
    "data = data.as_matrix()\n",
    "#type(data) - numpy.ndarray\n",
    "X_train,X_test,y_train,y_test = train_test_split(data[:,0:34],data[:,34])\n",
    "\n",
    "model = KNeighborsClassifier(n_neighbors=3)\n",
    "model.fit(X_train,y_train)\n",
    "p = model.predict(X_test)\n",
    "print \"Confusion_Matrix :\\n\",confusion_matrix(y_test,p)\n",
    "print \"Accuracy_Score :\\n\",accuracy_score(y_test,p)"
   ]
  },
  {
   "cell_type": "code",
   "execution_count": null,
   "metadata": {},
   "outputs": [],
   "source": []
  }
 ],
 "metadata": {
  "kernelspec": {
   "display_name": "Python 2",
   "language": "python",
   "name": "python2"
  },
  "language_info": {
   "codemirror_mode": {
    "name": "ipython",
    "version": 2
   },
   "file_extension": ".py",
   "mimetype": "text/x-python",
   "name": "python",
   "nbconvert_exporter": "python",
   "pygments_lexer": "ipython2",
   "version": "2.7.15"
  }
 },
 "nbformat": 4,
 "nbformat_minor": 2
}
