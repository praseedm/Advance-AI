{
 "cells": [
  {
   "cell_type": "markdown",
   "metadata": {},
   "source": [
    "## 1. Develop a model to do iris classification problem using Keras\n",
    "Sequential model. Run the model for varying number of epochs\n",
    "and batch sizes and observe the accuracy"
   ]
  },
  {
   "cell_type": "code",
   "execution_count": 2,
   "metadata": {},
   "outputs": [],
   "source": [
    "from sklearn.datasets import load_iris\n",
    "from sklearn.preprocessing import OneHotEncoder\n",
    "\n",
    "from keras.models import Sequential\n",
    "from keras.layers import Dense\n",
    "from keras.optimizers import Adam\n"
   ]
  },
  {
   "cell_type": "code",
   "execution_count": 17,
   "metadata": {},
   "outputs": [
    {
     "name": "stdout",
     "output_type": "stream",
     "text": [
      "(150, 1)\n"
     ]
    }
   ],
   "source": [
    "iris = load_iris()\n",
    "X = iris.data\n",
    "y = iris.target.reshape(-1,1)\n",
    "print y.shape"
   ]
  },
  {
   "cell_type": "code",
   "execution_count": 18,
   "metadata": {},
   "outputs": [],
   "source": [
    "encoder = OneHotEncoder()\n",
    "y = encoder.fit_transform(y) #OneHotEncoding required for class label other than binary classification"
   ]
  },
  {
   "cell_type": "code",
   "execution_count": 29,
   "metadata": {},
   "outputs": [
    {
     "name": "stdout",
     "output_type": "stream",
     "text": [
      "_________________________________________________________________\n",
      "Layer (type)                 Output Shape              Param #   \n",
      "=================================================================\n",
      "dense_8 (Dense)              (None, 4)                 20        \n",
      "_________________________________________________________________\n",
      "dense_9 (Dense)              (None, 10)                50        \n",
      "_________________________________________________________________\n",
      "dense_10 (Dense)             (None, 3)                 33        \n",
      "=================================================================\n",
      "Total params: 103\n",
      "Trainable params: 103\n",
      "Non-trainable params: 0\n",
      "_________________________________________________________________\n",
      "None\n"
     ]
    }
   ],
   "source": [
    "model = Sequential()\n",
    "model.add(Dense(4,input_shape=(4,),activation='relu'))\n",
    "model.add(Dense(10,activation='relu'))\n",
    "model.add(Dense(3,activation='softmax'))\n",
    "optimizer = Adam(lr=0.001)\n",
    "model.compile(optimizer,loss='categorical_crossentropy',metrics=['accuracy'])\n",
    "print model.summary()"
   ]
  },
  {
   "cell_type": "code",
   "execution_count": 25,
   "metadata": {},
   "outputs": [
    {
     "name": "stdout",
     "output_type": "stream",
     "text": [
      "Epoch 1/50\n",
      " - 1s - loss: 1.0757 - acc: 0.4267\n",
      "Epoch 2/50\n",
      " - 1s - loss: 1.0669 - acc: 0.5600\n",
      "Epoch 3/50\n",
      " - 1s - loss: 1.0586 - acc: 0.5867\n",
      "Epoch 4/50\n",
      " - 1s - loss: 1.0514 - acc: 0.6133\n",
      "Epoch 5/50\n",
      " - 1s - loss: 1.0440 - acc: 0.6133\n",
      "Epoch 6/50\n",
      " - 1s - loss: 1.0360 - acc: 0.6133\n",
      "Epoch 7/50\n",
      " - 0s - loss: 1.0283 - acc: 0.6200\n",
      "Epoch 8/50\n",
      " - 1s - loss: 1.0203 - acc: 0.6333\n",
      "Epoch 9/50\n",
      " - 1s - loss: 1.0117 - acc: 0.6400\n",
      "Epoch 10/50\n",
      " - 1s - loss: 1.0032 - acc: 0.6533\n",
      "Epoch 11/50\n",
      " - 1s - loss: 0.9939 - acc: 0.6533\n",
      "Epoch 12/50\n",
      " - 1s - loss: 0.9843 - acc: 0.6533\n",
      "Epoch 13/50\n",
      " - 1s - loss: 0.9747 - acc: 0.6533\n",
      "Epoch 14/50\n",
      " - 0s - loss: 0.9643 - acc: 0.6600\n",
      "Epoch 15/50\n",
      " - 1s - loss: 0.9535 - acc: 0.6600\n",
      "Epoch 16/50\n",
      " - 1s - loss: 0.9430 - acc: 0.6600\n",
      "Epoch 17/50\n",
      " - 0s - loss: 0.9320 - acc: 0.6600\n",
      "Epoch 18/50\n",
      " - 1s - loss: 0.9205 - acc: 0.6600\n",
      "Epoch 19/50\n",
      " - 1s - loss: 0.9091 - acc: 0.6733\n",
      "Epoch 20/50\n",
      " - 1s - loss: 0.8971 - acc: 0.6733\n",
      "Epoch 21/50\n",
      " - 1s - loss: 0.8851 - acc: 0.6600\n",
      "Epoch 22/50\n",
      " - 0s - loss: 0.8740 - acc: 0.6800\n",
      "Epoch 23/50\n",
      " - 1s - loss: 0.8627 - acc: 0.7333\n",
      "Epoch 24/50\n",
      " - 1s - loss: 0.8523 - acc: 0.7267\n",
      "Epoch 25/50\n",
      " - 1s - loss: 0.8417 - acc: 0.7267\n",
      "Epoch 26/50\n",
      " - 1s - loss: 0.8326 - acc: 0.7600\n",
      "Epoch 27/50\n",
      " - 1s - loss: 0.8232 - acc: 0.7467\n",
      "Epoch 28/50\n",
      " - 1s - loss: 0.8146 - acc: 0.7733\n",
      "Epoch 29/50\n",
      " - 0s - loss: 0.8061 - acc: 0.7733\n",
      "Epoch 30/50\n",
      " - 1s - loss: 0.7976 - acc: 0.7667\n",
      "Epoch 31/50\n",
      " - 0s - loss: 0.7895 - acc: 0.7867\n",
      "Epoch 32/50\n",
      " - 1s - loss: 0.7816 - acc: 0.7933\n",
      "Epoch 33/50\n",
      " - 1s - loss: 0.7735 - acc: 0.8067\n",
      "Epoch 34/50\n",
      " - 1s - loss: 0.7656 - acc: 0.8267\n",
      "Epoch 35/50\n",
      " - 1s - loss: 0.7578 - acc: 0.8333\n",
      "Epoch 36/50\n",
      " - 1s - loss: 0.7502 - acc: 0.8333\n",
      "Epoch 37/50\n",
      " - 1s - loss: 0.7427 - acc: 0.8533\n",
      "Epoch 38/50\n",
      " - 1s - loss: 0.7355 - acc: 0.8533\n",
      "Epoch 39/50\n",
      " - 1s - loss: 0.7285 - acc: 0.8533\n",
      "Epoch 40/50\n",
      " - 1s - loss: 0.7214 - acc: 0.8600\n",
      "Epoch 41/50\n",
      " - 1s - loss: 0.7145 - acc: 0.8733\n",
      "Epoch 42/50\n",
      " - 1s - loss: 0.7077 - acc: 0.8933\n",
      "Epoch 43/50\n",
      " - 1s - loss: 0.7011 - acc: 0.9000\n",
      "Epoch 44/50\n",
      " - 1s - loss: 0.6945 - acc: 0.9133\n",
      "Epoch 45/50\n",
      " - 1s - loss: 0.6880 - acc: 0.9133\n",
      "Epoch 46/50\n",
      " - 1s - loss: 0.6816 - acc: 0.9133\n",
      "Epoch 47/50\n",
      " - 1s - loss: 0.6753 - acc: 0.9133\n",
      "Epoch 48/50\n",
      " - 1s - loss: 0.6690 - acc: 0.9133\n",
      "Epoch 49/50\n",
      " - 1s - loss: 0.6628 - acc: 0.9200\n",
      "Epoch 50/50\n",
      " - 1s - loss: 0.6567 - acc: 0.9333\n"
     ]
    },
    {
     "data": {
      "text/plain": [
       "<keras.callbacks.History at 0x7f84e8f05fd0>"
      ]
     },
     "execution_count": 25,
     "metadata": {},
     "output_type": "execute_result"
    }
   ],
   "source": [
    "model.fit(X,y,verbose=2,epochs=50)"
   ]
  },
  {
   "cell_type": "code",
   "execution_count": 28,
   "metadata": {},
   "outputs": [
    {
     "name": "stdout",
     "output_type": "stream",
     "text": [
      "150/150 [==============================] - 0s 2ms/step\n",
      "[0.65290673573811853, 0.93333333333333335]\n"
     ]
    }
   ],
   "source": [
    "result = model.evaluate(X,y)\n",
    "print result ### result : 0 => loss , 1 => accuracy\n"
   ]
  },
  {
   "cell_type": "markdown",
   "metadata": {},
   "source": [
    "## 2. Develop a model to do classification in the sonar.csv dataset."
   ]
  },
  {
   "cell_type": "code",
   "execution_count": 34,
   "metadata": {},
   "outputs": [
    {
     "data": {
      "text/html": [
       "<div>\n",
       "<style scoped>\n",
       "    .dataframe tbody tr th:only-of-type {\n",
       "        vertical-align: middle;\n",
       "    }\n",
       "\n",
       "    .dataframe tbody tr th {\n",
       "        vertical-align: top;\n",
       "    }\n",
       "\n",
       "    .dataframe thead th {\n",
       "        text-align: right;\n",
       "    }\n",
       "</style>\n",
       "<table border=\"1\" class=\"dataframe\">\n",
       "  <thead>\n",
       "    <tr style=\"text-align: right;\">\n",
       "      <th></th>\n",
       "      <th>0</th>\n",
       "      <th>1</th>\n",
       "      <th>2</th>\n",
       "      <th>3</th>\n",
       "      <th>4</th>\n",
       "      <th>5</th>\n",
       "      <th>6</th>\n",
       "      <th>7</th>\n",
       "      <th>8</th>\n",
       "      <th>9</th>\n",
       "      <th>...</th>\n",
       "      <th>51</th>\n",
       "      <th>52</th>\n",
       "      <th>53</th>\n",
       "      <th>54</th>\n",
       "      <th>55</th>\n",
       "      <th>56</th>\n",
       "      <th>57</th>\n",
       "      <th>58</th>\n",
       "      <th>59</th>\n",
       "      <th>60</th>\n",
       "    </tr>\n",
       "  </thead>\n",
       "  <tbody>\n",
       "    <tr>\n",
       "      <th>0</th>\n",
       "      <td>0.0200</td>\n",
       "      <td>0.0371</td>\n",
       "      <td>0.0428</td>\n",
       "      <td>0.0207</td>\n",
       "      <td>0.0954</td>\n",
       "      <td>0.0986</td>\n",
       "      <td>0.1539</td>\n",
       "      <td>0.1601</td>\n",
       "      <td>0.3109</td>\n",
       "      <td>0.2111</td>\n",
       "      <td>...</td>\n",
       "      <td>0.0027</td>\n",
       "      <td>0.0065</td>\n",
       "      <td>0.0159</td>\n",
       "      <td>0.0072</td>\n",
       "      <td>0.0167</td>\n",
       "      <td>0.0180</td>\n",
       "      <td>0.0084</td>\n",
       "      <td>0.0090</td>\n",
       "      <td>0.0032</td>\n",
       "      <td>R</td>\n",
       "    </tr>\n",
       "    <tr>\n",
       "      <th>1</th>\n",
       "      <td>0.0453</td>\n",
       "      <td>0.0523</td>\n",
       "      <td>0.0843</td>\n",
       "      <td>0.0689</td>\n",
       "      <td>0.1183</td>\n",
       "      <td>0.2583</td>\n",
       "      <td>0.2156</td>\n",
       "      <td>0.3481</td>\n",
       "      <td>0.3337</td>\n",
       "      <td>0.2872</td>\n",
       "      <td>...</td>\n",
       "      <td>0.0084</td>\n",
       "      <td>0.0089</td>\n",
       "      <td>0.0048</td>\n",
       "      <td>0.0094</td>\n",
       "      <td>0.0191</td>\n",
       "      <td>0.0140</td>\n",
       "      <td>0.0049</td>\n",
       "      <td>0.0052</td>\n",
       "      <td>0.0044</td>\n",
       "      <td>R</td>\n",
       "    </tr>\n",
       "    <tr>\n",
       "      <th>2</th>\n",
       "      <td>0.0262</td>\n",
       "      <td>0.0582</td>\n",
       "      <td>0.1099</td>\n",
       "      <td>0.1083</td>\n",
       "      <td>0.0974</td>\n",
       "      <td>0.2280</td>\n",
       "      <td>0.2431</td>\n",
       "      <td>0.3771</td>\n",
       "      <td>0.5598</td>\n",
       "      <td>0.6194</td>\n",
       "      <td>...</td>\n",
       "      <td>0.0232</td>\n",
       "      <td>0.0166</td>\n",
       "      <td>0.0095</td>\n",
       "      <td>0.0180</td>\n",
       "      <td>0.0244</td>\n",
       "      <td>0.0316</td>\n",
       "      <td>0.0164</td>\n",
       "      <td>0.0095</td>\n",
       "      <td>0.0078</td>\n",
       "      <td>R</td>\n",
       "    </tr>\n",
       "    <tr>\n",
       "      <th>3</th>\n",
       "      <td>0.0100</td>\n",
       "      <td>0.0171</td>\n",
       "      <td>0.0623</td>\n",
       "      <td>0.0205</td>\n",
       "      <td>0.0205</td>\n",
       "      <td>0.0368</td>\n",
       "      <td>0.1098</td>\n",
       "      <td>0.1276</td>\n",
       "      <td>0.0598</td>\n",
       "      <td>0.1264</td>\n",
       "      <td>...</td>\n",
       "      <td>0.0121</td>\n",
       "      <td>0.0036</td>\n",
       "      <td>0.0150</td>\n",
       "      <td>0.0085</td>\n",
       "      <td>0.0073</td>\n",
       "      <td>0.0050</td>\n",
       "      <td>0.0044</td>\n",
       "      <td>0.0040</td>\n",
       "      <td>0.0117</td>\n",
       "      <td>R</td>\n",
       "    </tr>\n",
       "    <tr>\n",
       "      <th>4</th>\n",
       "      <td>0.0762</td>\n",
       "      <td>0.0666</td>\n",
       "      <td>0.0481</td>\n",
       "      <td>0.0394</td>\n",
       "      <td>0.0590</td>\n",
       "      <td>0.0649</td>\n",
       "      <td>0.1209</td>\n",
       "      <td>0.2467</td>\n",
       "      <td>0.3564</td>\n",
       "      <td>0.4459</td>\n",
       "      <td>...</td>\n",
       "      <td>0.0031</td>\n",
       "      <td>0.0054</td>\n",
       "      <td>0.0105</td>\n",
       "      <td>0.0110</td>\n",
       "      <td>0.0015</td>\n",
       "      <td>0.0072</td>\n",
       "      <td>0.0048</td>\n",
       "      <td>0.0107</td>\n",
       "      <td>0.0094</td>\n",
       "      <td>R</td>\n",
       "    </tr>\n",
       "  </tbody>\n",
       "</table>\n",
       "<p>5 rows × 61 columns</p>\n",
       "</div>"
      ],
      "text/plain": [
       "       0       1       2       3       4       5       6       7       8   \\\n",
       "0  0.0200  0.0371  0.0428  0.0207  0.0954  0.0986  0.1539  0.1601  0.3109   \n",
       "1  0.0453  0.0523  0.0843  0.0689  0.1183  0.2583  0.2156  0.3481  0.3337   \n",
       "2  0.0262  0.0582  0.1099  0.1083  0.0974  0.2280  0.2431  0.3771  0.5598   \n",
       "3  0.0100  0.0171  0.0623  0.0205  0.0205  0.0368  0.1098  0.1276  0.0598   \n",
       "4  0.0762  0.0666  0.0481  0.0394  0.0590  0.0649  0.1209  0.2467  0.3564   \n",
       "\n",
       "       9  ...      51      52      53      54      55      56      57      58  \\\n",
       "0  0.2111 ...  0.0027  0.0065  0.0159  0.0072  0.0167  0.0180  0.0084  0.0090   \n",
       "1  0.2872 ...  0.0084  0.0089  0.0048  0.0094  0.0191  0.0140  0.0049  0.0052   \n",
       "2  0.6194 ...  0.0232  0.0166  0.0095  0.0180  0.0244  0.0316  0.0164  0.0095   \n",
       "3  0.1264 ...  0.0121  0.0036  0.0150  0.0085  0.0073  0.0050  0.0044  0.0040   \n",
       "4  0.4459 ...  0.0031  0.0054  0.0105  0.0110  0.0015  0.0072  0.0048  0.0107   \n",
       "\n",
       "       59  60  \n",
       "0  0.0032   R  \n",
       "1  0.0044   R  \n",
       "2  0.0078   R  \n",
       "3  0.0117   R  \n",
       "4  0.0094   R  \n",
       "\n",
       "[5 rows x 61 columns]"
      ]
     },
     "execution_count": 34,
     "metadata": {},
     "output_type": "execute_result"
    }
   ],
   "source": [
    "import pandas as pd\n",
    "\n",
    "sonar_data = pd.read_csv('sonar.csv',header=None)\n",
    "sonar_data.head()\n"
   ]
  },
  {
   "cell_type": "code",
   "execution_count": 43,
   "metadata": {},
   "outputs": [
    {
     "name": "stdout",
     "output_type": "stream",
     "text": [
      "(208, 60)\n",
      "(208, 1)\n"
     ]
    },
    {
     "name": "stderr",
     "output_type": "stream",
     "text": [
      "/opt/anaconda2/lib/python2.7/site-packages/ipykernel_launcher.py:2: FutureWarning: reshape is deprecated and will raise in a subsequent release. Please use .values.reshape(...) instead\n",
      "  \n"
     ]
    }
   ],
   "source": [
    "X = sonar_data.iloc[:,:-1]\n",
    "y = sonar_data.iloc[:,-1].reshape(-1,1)\n",
    "print X.shape\n",
    "print y.shape"
   ]
  },
  {
   "cell_type": "code",
   "execution_count": null,
   "metadata": {},
   "outputs": [],
   "source": []
  }
 ],
 "metadata": {
  "kernelspec": {
   "display_name": "Python 2",
   "language": "python",
   "name": "python2"
  },
  "language_info": {
   "codemirror_mode": {
    "name": "ipython",
    "version": 2
   },
   "file_extension": ".py",
   "mimetype": "text/x-python",
   "name": "python",
   "nbconvert_exporter": "python",
   "pygments_lexer": "ipython2",
   "version": "2.7.15"
  }
 },
 "nbformat": 4,
 "nbformat_minor": 2
}
