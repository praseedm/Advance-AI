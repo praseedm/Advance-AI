{
 "cells": [
  {
   "cell_type": "markdown",
   "metadata": {},
   "source": [
    "## 1. Create a tensor of the shape [2, 3] with all elements set to zero."
   ]
  },
  {
   "cell_type": "code",
   "execution_count": 1,
   "metadata": {},
   "outputs": [],
   "source": [
    "import tensorflow as tf"
   ]
  },
  {
   "cell_type": "code",
   "execution_count": 3,
   "metadata": {},
   "outputs": [
    {
     "name": "stdout",
     "output_type": "stream",
     "text": [
      "[[0 0 0]\n",
      " [0 0 0]]\n"
     ]
    }
   ],
   "source": [
    "x = tf.zeros([2,3],tf.int32)\n",
    "a = tf.zeros_like(x,tf.int32)\n",
    "ses = tf.Session()\n",
    "print ses.run(a)\n",
    "ses.close()"
   ]
  },
  {
   "cell_type": "markdown",
   "metadata": {},
   "source": [
    "## 2. Let X be a tensor of [[1,2,3], [4,5,6]].Create a tensor of the same shape and dtype as X with all elements set to zero"
   ]
  },
  {
   "cell_type": "code",
   "execution_count": 6,
   "metadata": {},
   "outputs": [
    {
     "name": "stdout",
     "output_type": "stream",
     "text": [
      "[[0 0 0]\n",
      " [0 0 0]]\n"
     ]
    }
   ],
   "source": [
    "x = tf.zeros_like([[1,2,3],[4,5,6]],tf.int32)\n",
    "se1 = tf.Session()\n",
    "print se1.run(x)\n",
    "se1.close()"
   ]
  },
  {
   "cell_type": "markdown",
   "metadata": {},
   "source": [
    "## 3. Create a tensor of shape [2, 3] with all elements set to one."
   ]
  },
  {
   "cell_type": "code",
   "execution_count": 8,
   "metadata": {},
   "outputs": [
    {
     "name": "stdout",
     "output_type": "stream",
     "text": [
      "[[1 1 1]\n",
      " [1 1 1]]\n"
     ]
    }
   ],
   "source": [
    "y = tf.ones([2,3],tf.int32)\n",
    "with tf.Session() as s:\n",
    "    print s.run(y)"
   ]
  },
  {
   "cell_type": "markdown",
   "metadata": {},
   "source": [
    "## 4. Let X be a tensor of [[1,2,3], [4,5,6]].Create a tensor of the same shape and dtype as X with all elements set to one."
   ]
  },
  {
   "cell_type": "code",
   "execution_count": 9,
   "metadata": {},
   "outputs": [
    {
     "name": "stdout",
     "output_type": "stream",
     "text": [
      "[[1 1 1]\n",
      " [1 1 1]]\n"
     ]
    }
   ],
   "source": [
    "x = tf.ones_like([[1,2,3],[4,5,6]],tf.int32)\n",
    "se1 = tf.Session()\n",
    "print se1.run(x)\n",
    "se1.close()"
   ]
  },
  {
   "cell_type": "markdown",
   "metadata": {},
   "source": [
    "## 5. Create a tensor of the shape [3, 2], with all elements of 5."
   ]
  },
  {
   "cell_type": "code",
   "execution_count": 11,
   "metadata": {},
   "outputs": [
    {
     "name": "stdout",
     "output_type": "stream",
     "text": [
      "[[5 5]\n",
      " [5 5]\n",
      " [5 5]]\n"
     ]
    }
   ],
   "source": [
    "z = tf.fill([3,2],5)\n",
    "with tf.Session() as s:\n",
    "    print s.run(z)"
   ]
  },
  {
   "cell_type": "markdown",
   "metadata": {},
   "source": [
    "## 6. Create a constant tensor of [[1, 3, 5], [4, 6, 8]], with dtype=float32"
   ]
  },
  {
   "cell_type": "code",
   "execution_count": 13,
   "metadata": {},
   "outputs": [
    {
     "name": "stdout",
     "output_type": "stream",
     "text": [
      "[[ 1.  3.  5.]\n",
      " [ 4.  6.  8.]]\n"
     ]
    }
   ],
   "source": [
    "m = tf.constant([[1,3,5],[4,6,8]],tf.float32)\n",
    "with tf.Session() as s:\n",
    "    print s.run(m)"
   ]
  },
  {
   "cell_type": "markdown",
   "metadata": {},
   "source": [
    "## 7. Create a constant tensor of the shape [2, 3], with all elements set to 4."
   ]
  },
  {
   "cell_type": "code",
   "execution_count": 14,
   "metadata": {},
   "outputs": [
    {
     "name": "stdout",
     "output_type": "stream",
     "text": [
      "[[4 4 4]\n",
      " [4 4 4]]\n"
     ]
    }
   ],
   "source": [
    "z = tf.fill([2,3],4)\n",
    "with tf.Session() as s:\n",
    "    print s.run(z)"
   ]
  },
  {
   "cell_type": "markdown",
   "metadata": {},
   "source": [
    "## 8. Create a 1-D tensor of 50 evenly spaced elements between 5 and 10 inclusive."
   ]
  },
  {
   "cell_type": "code",
   "execution_count": 17,
   "metadata": {},
   "outputs": [
    {
     "name": "stdout",
     "output_type": "stream",
     "text": [
      "[  5.           5.10204077   5.20408154   5.3061223    5.40816307\n",
      "   5.51020432   5.61224508   5.71428585   5.81632662   5.91836739\n",
      "   6.02040815   6.12244892   6.22448969   6.32653046   6.4285717\n",
      "   6.53061247   6.63265324   6.734694     6.83673477   6.93877554\n",
      "   7.04081631   7.14285755   7.24489784   7.34693909   7.44897938\n",
      "   7.55102062   7.65306139   7.75510216   7.85714293   7.95918369\n",
      "   8.06122494   8.16326523   8.26530647   8.36734676   8.46938801\n",
      "   8.5714283    8.67346954   8.77551079   8.87755108   8.97959232\n",
      "   9.08163261   9.18367386   9.2857151    9.38775539   9.48979568\n",
      "   9.59183693   9.69387817   9.79591846   9.89795876  10.        ]\n"
     ]
    }
   ],
   "source": [
    "z = tf.linspace(5.0,10.0,50)\n",
    "with tf.Session() as s:\n",
    "    print s.run(z)"
   ]
  },
  {
   "cell_type": "markdown",
   "metadata": {},
   "source": [
    "## 9. Create a random tensor of the shape [3, 2], with elements from a normal distribution of mean=0, standard deviation=2."
   ]
  },
  {
   "cell_type": "code",
   "execution_count": 26,
   "metadata": {},
   "outputs": [
    {
     "name": "stdout",
     "output_type": "stream",
     "text": [
      "[[ 3.18424726 -1.89639187]\n",
      " [-1.07781088  0.92440683]\n",
      " [ 2.52287388  2.85007596]]\n"
     ]
    }
   ],
   "source": [
    "t = tf.random_normal([3,2], mean=0, stddev=2)\n",
    "with tf.Session() as s:\n",
    "    print s.run(t)"
   ]
  },
  {
   "cell_type": "code",
   "execution_count": 25,
   "metadata": {},
   "outputs": [],
   "source": [
    "tf.random_normal?"
   ]
  },
  {
   "cell_type": "markdown",
   "metadata": {},
   "source": [
    "## 10. Create a random tensor of the shape [3, 2], with all elements from a uniform distribution that ranges from 0 to 2 (exclusive)."
   ]
  },
  {
   "cell_type": "code",
   "execution_count": 27,
   "metadata": {},
   "outputs": [
    {
     "name": "stdout",
     "output_type": "stream",
     "text": [
      "[[ 0.24982166  1.998281  ]\n",
      " [ 0.57182026  0.82784986]\n",
      " [ 1.71381235  1.48331571]]\n"
     ]
    }
   ],
   "source": [
    "t = tf.random_uniform([3,2], minval=0, maxval=2)\n",
    "with tf.Session() as s:\n",
    "    print s.run(t)"
   ]
  },
  {
   "cell_type": "markdown",
   "metadata": {},
   "source": [
    "## 11. Let X be a tensor of [[1, 2], [3, 4], [5, 6]]. Shuffle X along its first dimension."
   ]
  },
  {
   "cell_type": "code",
   "execution_count": 29,
   "metadata": {},
   "outputs": [
    {
     "name": "stdout",
     "output_type": "stream",
     "text": [
      "[[5 6]\n",
      " [3 4]\n",
      " [1 2]]\n"
     ]
    }
   ],
   "source": [
    "l = tf.constant([[1, 2], [3, 4], [5, 6]],tf.int32)\n",
    "t = tf.random_shuffle(l)\n",
    "with tf.Session() as s:\n",
    "    print s.run(t)"
   ]
  },
  {
   "cell_type": "markdown",
   "metadata": {},
   "source": [
    "## 12. Let X be a random tensor of the shape [10, 10, 3], with elements from a unit normal distribution. Crop X with the shape of [5, 5, 3]. (hint: out = tf.random_crop(X, [5,5,3]) )"
   ]
  },
  {
   "cell_type": "code",
   "execution_count": 32,
   "metadata": {},
   "outputs": [
    {
     "name": "stdout",
     "output_type": "stream",
     "text": [
      "[[[-2.25479102  0.19219224 -0.50493437]\n",
      "  [-2.02904248  1.18725693 -0.1959991 ]\n",
      "  [ 0.19129457 -1.39116657 -0.35917014]\n",
      "  [-1.14059746  0.58750051 -0.42988452]\n",
      "  [ 0.79011852 -1.49989629 -0.89853102]]\n",
      "\n",
      " [[ 0.00262695  0.00530771 -1.04073346]\n",
      "  [-0.55103862 -0.03189308 -1.19502699]\n",
      "  [-0.64844692  1.7435683  -1.03321636]\n",
      "  [-0.43397316 -0.30157846  0.29871434]\n",
      "  [-0.29526454  0.29136842 -0.70288032]]\n",
      "\n",
      " [[-1.32678974  2.48848367 -0.80178213]\n",
      "  [-1.54260457  0.17088076 -0.12080465]\n",
      "  [ 0.19527587 -0.52706772  0.89695781]\n",
      "  [-0.33262971 -0.63767409 -0.48092553]\n",
      "  [-0.77542478 -0.9559226  -0.08050168]]\n",
      "\n",
      " [[ 1.11779666 -1.7412076  -0.39962307]\n",
      "  [ 1.7129451  -1.06941104  1.67979562]\n",
      "  [-0.703556   -0.16996045 -2.0222981 ]\n",
      "  [-0.58781677  0.0217834  -0.40021902]\n",
      "  [ 1.2035414  -0.06040459 -0.57230806]]\n",
      "\n",
      " [[-0.66352117 -0.69251758  0.08682822]\n",
      "  [ 0.21092357 -0.62765718 -0.49711373]\n",
      "  [-1.76011682  1.87086022 -0.15324575]\n",
      "  [ 0.47807938 -0.06836385  0.67896384]\n",
      "  [ 0.27003139  0.76635462  0.70902616]]]\n"
     ]
    }
   ],
   "source": [
    "k = tf.random_normal([10,10,3])\n",
    "l = tf.random_crop(k,[5,5,3])\n",
    "with tf.Session() as s:\n",
    "    print s.run(l)"
   ]
  },
  {
   "cell_type": "markdown",
   "metadata": {},
   "source": [
    "## 13. Let X be a tensor [[-1, -2, -3], [0, 1, 2]] and Y be a tensor of zeros with the same shape as x. Return a boolean tensor that yields True if X does not equal Y elementwise."
   ]
  },
  {
   "cell_type": "code",
   "execution_count": 34,
   "metadata": {},
   "outputs": [
    {
     "name": "stdout",
     "output_type": "stream",
     "text": [
      "[[ True  True  True]\n",
      " [False  True  True]]\n"
     ]
    }
   ],
   "source": [
    "x = tf.constant([[-1, -2, -3], [0, 1, 2]],tf.int32)\n",
    "y = tf.zeros_like(x,tf.int32)\n",
    "z = tf.not_equal(x,y)\n",
    "with tf.Session() as s:\n",
    "    print s.run(z)"
   ]
  },
  {
   "cell_type": "code",
   "execution_count": null,
   "metadata": {},
   "outputs": [],
   "source": [
    "z = tf.not_equal"
   ]
  },
  {
   "cell_type": "markdown",
   "metadata": {},
   "source": [
    "## 14. Add x and y element-wise."
   ]
  },
  {
   "cell_type": "code",
   "execution_count": 35,
   "metadata": {},
   "outputs": [
    {
     "name": "stdout",
     "output_type": "stream",
     "text": [
      "[[-1 -1 -1]\n",
      " [-1 -1 -1]]\n"
     ]
    }
   ],
   "source": [
    "x = tf.constant([[-1, -2, -3], [0, 1, 2]],tf.int32)\n",
    "y = tf.constant([[0, 1, 2],[-1, -2, -3]],tf.int32)\n",
    "z = tf.add(x,y)\n",
    "with tf.Session() as s:\n",
    "    print s.run(z)"
   ]
  },
  {
   "cell_type": "markdown",
   "metadata": {},
   "source": [
    "## 15. Subtract y from x element-wise."
   ]
  },
  {
   "cell_type": "code",
   "execution_count": 37,
   "metadata": {},
   "outputs": [
    {
     "name": "stdout",
     "output_type": "stream",
     "text": [
      "[[-1 -3 -5]\n",
      " [ 1  3  5]]\n"
     ]
    }
   ],
   "source": [
    "z = tf.subtract(x,y)\n",
    "with tf.Session() as s:\n",
    "    print s.run(z)"
   ]
  },
  {
   "cell_type": "markdown",
   "metadata": {},
   "source": [
    "## 16. Multiply x by y element-wise."
   ]
  },
  {
   "cell_type": "code",
   "execution_count": 40,
   "metadata": {},
   "outputs": [
    {
     "name": "stdout",
     "output_type": "stream",
     "text": [
      "[[ 0 -2 -6]\n",
      " [ 0 -2 -6]]\n"
     ]
    }
   ],
   "source": [
    "z = tf.multiply(x,y) ## same as x*y\n",
    "with tf.Session() as s:\n",
    "    print s.run(z)"
   ]
  },
  {
   "cell_type": "markdown",
   "metadata": {},
   "source": [
    "## 17. Multiply x by 5 element-wise."
   ]
  },
  {
   "cell_type": "code",
   "execution_count": 41,
   "metadata": {},
   "outputs": [
    {
     "name": "stdout",
     "output_type": "stream",
     "text": [
      "[[ -5 -10 -15]\n",
      " [  0   5  10]]\n"
     ]
    }
   ],
   "source": [
    "z = tf.multiply(x,5) ## same as x*5\n",
    "with tf.Session() as s:\n",
    "    print s.run(z)"
   ]
  },
  {
   "cell_type": "markdown",
   "metadata": {},
   "source": [
    "## 18. Add x, y, and z element-wise."
   ]
  },
  {
   "cell_type": "code",
   "execution_count": 46,
   "metadata": {},
   "outputs": [
    {
     "name": "stdout",
     "output_type": "stream",
     "text": [
      "[[ -6 -11 -16]\n",
      " [ -1   4   9]]\n"
     ]
    }
   ],
   "source": [
    "l = tf.add_n([x,y,z]) \n",
    "with tf.Session() as s:\n",
    "    print s.run(l)"
   ]
  },
  {
   "cell_type": "code",
   "execution_count": 45,
   "metadata": {},
   "outputs": [],
   "source": [
    "tf.add_n?"
   ]
  },
  {
   "cell_type": "markdown",
   "metadata": {},
   "source": [
    "## 19. View the output using tensorboard for random questions"
   ]
  },
  {
   "cell_type": "code",
   "execution_count": 47,
   "metadata": {},
   "outputs": [
    {
     "name": "stdout",
     "output_type": "stream",
     "text": [
      "[[ -6 -11 -16]\n",
      " [ -1   4   9]]\n"
     ]
    }
   ],
   "source": [
    "l = tf.add_n([x,y,z]) ## same as x*y\n",
    "with tf.Session() as s:\n",
    "    writer = tf.summary.FileWriter('./tb1',s.graph)\n",
    "    writer.close()\n",
    "    print s.run(l)"
   ]
  },
  {
   "cell_type": "markdown",
   "metadata": {},
   "source": [
    "### cmand line : tensorboard --logdir=tb1 --port=8008"
   ]
  },
  {
   "cell_type": "markdown",
   "metadata": {},
   "source": [
    "## 20. Create a variable w with an initial value of 1.0 and name weight. Then, print out the value of w."
   ]
  },
  {
   "cell_type": "code",
   "execution_count": 52,
   "metadata": {},
   "outputs": [
    {
     "name": "stdout",
     "output_type": "stream",
     "text": [
      "1.0\n"
     ]
    }
   ],
   "source": [
    "l = tf.Variable(1.0,name='weight')\n",
    "init = tf.global_variables_initializer()\n",
    "with tf.Session() as s:\n",
    "    s.run(init)\n",
    "    print s.run(l)"
   ]
  },
  {
   "cell_type": "markdown",
   "metadata": {},
   "source": [
    "## 21. Write a program with three variables and get the sum of these three variables"
   ]
  },
  {
   "cell_type": "code",
   "execution_count": 53,
   "metadata": {},
   "outputs": [
    {
     "name": "stdout",
     "output_type": "stream",
     "text": [
      "6.0\n"
     ]
    }
   ],
   "source": [
    "l1 = tf.Variable(1.0)\n",
    "l2 = tf.Variable(2.0)\n",
    "l3 = tf.Variable(3.0)\n",
    "ll = l1+l2+l3\n",
    "init = tf.global_variables_initializer()\n",
    "with tf.Session() as s:\n",
    "    s.run(init)\n",
    "    print s.run(ll)\n"
   ]
  },
  {
   "cell_type": "markdown",
   "metadata": {},
   "source": [
    "## 22. Create a Placeholder. Assign a value to it and print the same."
   ]
  },
  {
   "cell_type": "code",
   "execution_count": 55,
   "metadata": {},
   "outputs": [
    {
     "name": "stdout",
     "output_type": "stream",
     "text": [
      "3\n"
     ]
    }
   ],
   "source": [
    "k = tf.placeholder(tf.int32)\n",
    "\n",
    "with tf.Session() as s:\n",
    "    s.run(tf.global_variables_initializer())\n",
    "    print s.run(k,feed_dict={k:3.5})"
   ]
  },
  {
   "cell_type": "markdown",
   "metadata": {},
   "source": [
    "## 23. Write a program with three Placeholders and get the sum of the three values given to these variables."
   ]
  },
  {
   "cell_type": "code",
   "execution_count": 59,
   "metadata": {},
   "outputs": [
    {
     "name": "stdout",
     "output_type": "stream",
     "text": [
      "9\n"
     ]
    }
   ],
   "source": [
    "k1 = tf.placeholder(tf.int32)\n",
    "k2 = tf.placeholder(tf.int32)\n",
    "k3 = tf.placeholder(tf.int32)\n",
    "se = k1+k2+k3\n",
    "\n",
    "with tf.Session() as s:\n",
    "    s.run(tf.global_variables_initializer())\n",
    "    print s.run(se,feed_dict={k1:3.5,k2:2,k3:4})"
   ]
  },
  {
   "cell_type": "code",
   "execution_count": null,
   "metadata": {},
   "outputs": [],
   "source": []
  }
 ],
 "metadata": {
  "kernelspec": {
   "display_name": "Python 2",
   "language": "python",
   "name": "python2"
  },
  "language_info": {
   "codemirror_mode": {
    "name": "ipython",
    "version": 2
   },
   "file_extension": ".py",
   "mimetype": "text/x-python",
   "name": "python",
   "nbconvert_exporter": "python",
   "pygments_lexer": "ipython2",
   "version": "2.7.15"
  }
 },
 "nbformat": 4,
 "nbformat_minor": 2
}
