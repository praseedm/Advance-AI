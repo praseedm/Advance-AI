{
 "cells": [
  {
   "cell_type": "markdown",
   "metadata": {},
   "source": [
    "## 1) Try to remove the noise from the man.jpg image by doing erosion and dilation in a sequence."
   ]
  },
  {
   "cell_type": "code",
   "execution_count": 6,
   "metadata": {},
   "outputs": [],
   "source": [
    "import cv2 as cv\n",
    "import numpy as np"
   ]
  },
  {
   "cell_type": "code",
   "execution_count": 7,
   "metadata": {},
   "outputs": [],
   "source": [
    "m_img = cv.imread('man.jpg',0)\n",
    "#cv.imshow('k',m_img)\n",
    "#cv.waitKey(0)"
   ]
  },
  {
   "cell_type": "markdown",
   "metadata": {},
   "source": [
    "### Input Image\n",
    "<div style=\"float:left;width:250;\">\n",
    "        <img src=\"man.jpg\" align=\"left\"  />\n",
    "</div>"
   ]
  },
  {
   "cell_type": "code",
   "execution_count": 10,
   "metadata": {},
   "outputs": [
    {
     "data": {
      "text/plain": [
       "True"
      ]
     },
     "execution_count": 10,
     "metadata": {},
     "output_type": "execute_result"
    }
   ],
   "source": [
    "m_inv = np.bitwise_not(m_img)\n",
    "kernel = np.ones((2,2),np.uint8)\n",
    "erosion = cv.erode(m_inv,kernel,iterations=2)\n",
    "dial = cv.dilate(erosion,kernel,iterations=2)\n",
    "res = np.bitwise_not(dial)\n",
    "cv.imwrite('res1.jpg',res)\n",
    "#cv.waitKey(0)"
   ]
  },
  {
   "cell_type": "markdown",
   "metadata": {},
   "source": [
    "### Output ( not -> erode -> dilate -> not)\n",
    "<div style=\"float:left;width:300;\">\n",
    "        <img src=\"res1.jpg\" align=\"left\"  />\n",
    "</div>"
   ]
  },
  {
   "cell_type": "code",
   "execution_count": 11,
   "metadata": {},
   "outputs": [
    {
     "data": {
      "text/plain": [
       "True"
      ]
     },
     "execution_count": 11,
     "metadata": {},
     "output_type": "execute_result"
    }
   ],
   "source": [
    "m_inv = np.bitwise_not(m_img)\n",
    "kernel = np.ones((2,2),np.uint8)\n",
    "erosion = cv.erode(m_inv,kernel,iterations=2)\n",
    "res = np.bitwise_not(erosion)\n",
    "dial = cv.dilate(res,kernel,iterations=2)\n",
    "\n",
    "cv.imwrite('res2.jpg',dial)"
   ]
  },
  {
   "cell_type": "markdown",
   "metadata": {},
   "source": [
    "### Output ( not -> erode -> not -> dilate)\n",
    "<div style=\"float:left;width:300;\">\n",
    "        <img src=\"res2.jpg\" align=\"left\"  />\n",
    "</div>"
   ]
  },
  {
   "cell_type": "code",
   "execution_count": null,
   "metadata": {},
   "outputs": [],
   "source": []
  }
 ],
 "metadata": {
  "kernelspec": {
   "display_name": "Python 2",
   "language": "python",
   "name": "python2"
  },
  "language_info": {
   "codemirror_mode": {
    "name": "ipython",
    "version": 2
   },
   "file_extension": ".py",
   "mimetype": "text/x-python",
   "name": "python",
   "nbconvert_exporter": "python",
   "pygments_lexer": "ipython2",
   "version": "2.7.15"
  }
 },
 "nbformat": 4,
 "nbformat_minor": 2
}
