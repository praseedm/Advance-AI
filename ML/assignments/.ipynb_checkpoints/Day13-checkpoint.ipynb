{
 "cells": [
  {
   "cell_type": "markdown",
   "metadata": {},
   "source": [
    "## 1) Try to remove the noise from the man.jpg image by doing erosion and dilation in a sequence."
   ]
  },
  {
   "cell_type": "code",
   "execution_count": 41,
   "metadata": {},
   "outputs": [],
   "source": [
    "import cv2 as cv\n",
    "import numpy as np"
   ]
  },
  {
   "cell_type": "code",
   "execution_count": 42,
   "metadata": {},
   "outputs": [],
   "source": [
    "m_img = cv.imread('man.jpg',0)\n",
    "#cv.imshow('k',m_img)\n",
    "#cv.waitKey(0)"
   ]
  },
  {
   "cell_type": "markdown",
   "metadata": {},
   "source": [
    "### Input\n",
    "<div style=\"float:left;width:150;\">\n",
    "        <img src=\"man.jpg\" align=\"left\"  />\n",
    "</div>"
   ]
  },
  {
   "cell_type": "code",
   "execution_count": 43,
   "metadata": {},
   "outputs": [
    {
     "data": {
      "text/plain": [
       "True"
      ]
     },
     "execution_count": 43,
     "metadata": {},
     "output_type": "execute_result"
    }
   ],
   "source": [
    "m_inv = np.bitwise_not(m_img)\n",
    "kernel = np.ones((2,2),np.uint8)\n",
    "erosion = cv.erode(m_inv,kernel,iterations=2)\n",
    "dial = cv.dilate(erosion,kernel,iterations=2)\n",
    "res = np.bitwise_not(dial)\n",
    "cv.imwrite('res1.jpg',res)\n",
    "#cv.waitKey(0)"
   ]
  },
  {
   "cell_type": "code",
   "execution_count": 44,
   "metadata": {},
   "outputs": [
    {
     "data": {
      "text/plain": [
       "True"
      ]
     },
     "execution_count": 44,
     "metadata": {},
     "output_type": "execute_result"
    }
   ],
   "source": [
    "m_inv = np.bitwise_not(m_img)\n",
    "kernel = np.ones((2,2),np.uint8)\n",
    "erosion = cv.erode(m_inv,kernel,iterations=2)\n",
    "res = np.bitwise_not(erosion)\n",
    "dial = cv.dilate(res,kernel,iterations=2)\n",
    "\n",
    "cv.imwrite('res2.jpg',dial)"
   ]
  },
  {
   "cell_type": "code",
   "execution_count": 45,
   "metadata": {},
   "outputs": [
    {
     "data": {
      "text/plain": [
       "True"
      ]
     },
     "execution_count": 45,
     "metadata": {},
     "output_type": "execute_result"
    }
   ],
   "source": [
    "kernel = np.ones((2,2),np.uint8)\n",
    "erosion = cv.erode(m_img,kernel,iterations=2)\n",
    "dial = cv.dilate(erosion,kernel,iterations=2)\n",
    "\n",
    "cv.imwrite('res3.jpg',dial)"
   ]
  },
  {
   "cell_type": "markdown",
   "metadata": {},
   "source": [
    "<table><tr>\n",
    "    <td> <div> <h2>Original</h2><img src=\"man.jpg\" alt=\"ml\" style=\"width: 250;\"/> </div></td>\n",
    "    <td> <div> <h2>( not -> erode -> dilate -> not)</h2><img src=\"res1.jpg\" alt=\"ml\" style=\"width: 250;\"/> </div></td>\n",
    "    <td> <div> <h2>( not -> erode -> not -> dilate)</h2><img src=\"res2.jpg\" alt=\"ml\" style=\"width: 250;\"/> </div></td>\n",
    "    <td> <div> <h2>( erode ->  dilate)</h2><img src=\"res3.jpg\" alt=\"ml\" style=\"width: 250;\"/> </div></td>\n",
    "</tr></table>"
   ]
  },
  {
   "cell_type": "markdown",
   "metadata": {},
   "source": [
    "### 2) Try to remove the noise from the man.jpg by using\n",
    "morphologyEx() function. Get resultantant images for the two\n",
    "arguments\n",
    "* cv.MORPH_CLOSE\n",
    "* cv.MORPH_OPEN"
   ]
  },
  {
   "cell_type": "code",
   "execution_count": 46,
   "metadata": {},
   "outputs": [
    {
     "data": {
      "text/plain": [
       "True"
      ]
     },
     "execution_count": 46,
     "metadata": {},
     "output_type": "execute_result"
    }
   ],
   "source": [
    "\n",
    "res = cv.morphologyEx(m_img,cv.MORPH_OPEN,kernel)\n",
    "#res = np.bitwise_not(res)\n",
    "cv.imwrite('res45.jpg',res)"
   ]
  },
  {
   "cell_type": "code",
   "execution_count": 47,
   "metadata": {},
   "outputs": [
    {
     "data": {
      "text/plain": [
       "True"
      ]
     },
     "execution_count": 47,
     "metadata": {},
     "output_type": "execute_result"
    }
   ],
   "source": [
    "res2 = cv.morphologyEx(m_img,cv.MORPH_CLOSE,kernel)\n",
    "#res = np.bitwise_not(res)\n",
    "cv.imwrite('res44.jpg',res2)"
   ]
  },
  {
   "cell_type": "markdown",
   "metadata": {},
   "source": [
    "<table><tr>\n",
    "    <td> <div> <h2>Original</h2><img src=\"man.jpg\" alt=\"ml\" style=\"width: 250;\"/> </div></td>\n",
    "    <td> <div> <h2>cv.MORPH_OPEN</h2><img src=\"res45.jpg\" alt=\"ml\" style=\"width: 250;\"/> </div></td>\n",
    "    <td> <div> <h2>cv.MORPH_CLOSE</h2><img src=\"res44.jpg\" alt=\"ml\" style=\"width: 250;\"/> </div></td>\n",
    "</tr></table>"
   ]
  },
  {
   "cell_type": "markdown",
   "metadata": {},
   "source": [
    "### 3) Do noise removal in the girl.jpg image using the above program."
   ]
  },
  {
   "cell_type": "code",
   "execution_count": 48,
   "metadata": {},
   "outputs": [
    {
     "data": {
      "text/plain": [
       "True"
      ]
     },
     "execution_count": 48,
     "metadata": {},
     "output_type": "execute_result"
    }
   ],
   "source": [
    "g_img = cv.imread('girl.jpg',0)\n",
    "res = cv.morphologyEx(g_img,cv.MORPH_OPEN,kernel)\n",
    "cv.imwrite('girlop1.jpg',res)\n",
    "\n",
    "res2 = cv.morphologyEx(g_img,cv.MORPH_CLOSE,kernel)\n",
    "cv.imwrite('girlcl1.jpg',res2)"
   ]
  },
  {
   "cell_type": "markdown",
   "metadata": {},
   "source": [
    "<table>\n",
    "    <tr>        \n",
    "    <td> <div> <h2>Original</h2><img src=\"girl.jpg\" alt=\"ml\" style=\"width: 350;\"/> </div></td>\n",
    "    </tr>    \n",
    "    <tr>\n",
    "    <td> <div> <h2>cv.MORPH_OPEN</h2><img src=\"girlop1.jpg\" alt=\"ml\" style=\"width: 350;\"/> </div></td>\n",
    "    <td> <div> <h2>cv.MORPH_CLOSE</h2><img src=\"girlcl1.jpg\" alt=\"ml\" style=\"width: 350;\"/> </div></td>\n",
    "</tr></table>"
   ]
  },
  {
   "cell_type": "markdown",
   "metadata": {},
   "source": [
    "## 4) Apply sobel feature detection functions on the ‘building.png’ picture."
   ]
  },
  {
   "cell_type": "code",
   "execution_count": 51,
   "metadata": {},
   "outputs": [
    {
     "data": {
      "text/plain": [
       "True"
      ]
     },
     "execution_count": 51,
     "metadata": {},
     "output_type": "execute_result"
    }
   ],
   "source": [
    "b_img = cv.imread('building.png',0)\n",
    "\n",
    "sobelx = cv.Sobel(b_img,cv.CV_16U,1,0,ksize=1)\n",
    "cv.imwrite('buil_sobx.jpg',sobelx)\n",
    "\n",
    "sobely = cv.Sobel(b_img,cv.CV_16U,0,1,ksize=1)\n",
    "cv.imwrite('buil_soby.jpg',sobely)\n"
   ]
  },
  {
   "cell_type": "markdown",
   "metadata": {},
   "source": [
    "<table><tr>\n",
    "    <td> <div> <h2>Original</h2><img src=\"building.png\" alt=\"ml\" style=\"width: 100%;\"/> </div></td></tr>\n",
    "    <tr>\n",
    "    <td> <div> <h2>Horizontal</h2><img src=\"buil_sobx.jpg\" alt=\"ml\" style=\"width: 100%;\"/> </div></td>\n",
    "    <td> <div> <h2>Vertical</h2><img src=\"buil_soby.jpg\" alt=\"ml\" style=\"width: 100%;\"/> </div></td>\n",
    "</tr></table>"
   ]
  },
  {
   "cell_type": "code",
   "execution_count": null,
   "metadata": {},
   "outputs": [],
   "source": []
  }
 ],
 "metadata": {
  "kernelspec": {
   "display_name": "Python 2",
   "language": "python",
   "name": "python2"
  },
  "language_info": {
   "codemirror_mode": {
    "name": "ipython",
    "version": 2
   },
   "file_extension": ".py",
   "mimetype": "text/x-python",
   "name": "python",
   "nbconvert_exporter": "python",
   "pygments_lexer": "ipython2",
   "version": "2.7.15"
  }
 },
 "nbformat": 4,
 "nbformat_minor": 2
}
