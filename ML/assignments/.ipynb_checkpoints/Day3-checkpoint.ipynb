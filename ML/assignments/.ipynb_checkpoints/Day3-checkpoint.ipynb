{
 "cells": [
  {
   "cell_type": "markdown",
   "metadata": {},
   "source": [
    "### 1. Develop an ML model for predicting sales for the Advertising data\n",
    "(Advertising.csv file) using Linear Regression."
   ]
  },
  {
   "cell_type": "code",
   "execution_count": 13,
   "metadata": {
    "scrolled": true
   },
   "outputs": [
    {
     "data": {
      "image/png": "[encoded data removed]",
      "text/plain": [
       "<Figure size 432x288 with 1 Axes>"
      ]
     },
     "metadata": {},
     "output_type": "display_data"
    }
   ],
   "source": [
    "import pandas as pd\n",
    "import numpy as np\n",
    "import matplotlib.pyplot as plt\n",
    "from sklearn.linear_model import LinearRegression\n",
    "from sklearn.model_selection import train_test_split\n",
    "\n",
    "data = pd.read_csv(\"Advertising.csv\")\n",
    "#print(data.head())\n",
    "data = data.as_matrix()\n",
    "X = data[:,1:4]\n",
    "y = data[:,-1] \n",
    "\n",
    "X_train,X_test,y_train,y_test = train_test_split(X,y,test_size = 0.2)\n",
    "\n",
    "model = LinearRegression()\n",
    "model.fit(X_train,y_train)\n",
    "\n",
    "p = model.predict(X_test)\n",
    "\n",
    "plt.scatter(y_test,p)\n",
    "plt.show()"
   ]
  },
  {
   "cell_type": "markdown",
   "metadata": {},
   "source": [
    "### 2. Develop an ML model to predict the home price from interest rate.(loan.csv file)"
   ]
  },
  {
   "cell_type": "code",
   "execution_count": 15,
   "metadata": {},
   "outputs": [
    {
     "name": "stdout",
     "output_type": "stream",
     "text": [
      "   Year  interest rate percentage  Median home price\n",
      "0  1988                      10.3           183800.0\n",
      "1  1989                      10.3           183200.0\n",
      "2  1990                      10.1           174900.0\n",
      "3  1991                       9.3           173500.0\n",
      "4  1992                       8.4           172900.0\n"
     ]
    }
   ],
   "source": [
    "data = pd.read_csv(\"loan.csv\")\n",
    "print(data.head())\n",
    "data = data.as_matrix()"
   ]
  },
  {
   "cell_type": "code",
   "execution_count": 26,
   "metadata": {},
   "outputs": [
    {
     "data": {
      "image/png": "[encoded data removed]",
      "text/plain": [
       "<Figure size 432x288 with 1 Axes>"
      ]
     },
     "metadata": {},
     "output_type": "display_data"
    }
   ],
   "source": [
    "X = data[:,0:2]\n",
    "\n",
    "y = data[:,-1] \n",
    "X_train,X_test,y_train,y_test = train_test_split(X,y,test_size=0.2)\n",
    "\n",
    "model = LinearRegression()\n",
    "model.fit(X_train,y_train)\n",
    "p = model.predict(X_test)\n",
    "\n",
    "plt.scatter(y_test,p)\n",
    "plt.show()"
   ]
  },
  {
   "cell_type": "markdown",
   "metadata": {},
   "source": [
    "### 3. Develop an ML model to predict diabetes(last column in the datset) from the\n",
    "pima Indians dataset using Logistic Regression. This dataset is from the\n",
    "National Institute of Diabetes and Digestive and Kidney Diseases. The\n",
    "objective is to predict based on diagnostic measurements whether a patient\n",
    "has diabetes. Several constraints were placed on the selection of these\n",
    "instances from a larger database. In particular, all patients here are females\n",
    "at least 21 years old of Pima Indian heritage (pimaindians.csv )"
   ]
  },
  {
   "cell_type": "code",
   "execution_count": 30,
   "metadata": {},
   "outputs": [
    {
     "name": "stdout",
     "output_type": "stream",
     "text": [
      "   A    B   C   D    E     F      G   H  I\n",
      "0  6  148  72  35    0  33.6  0.627  50  1\n",
      "1  1   85  66  29    0  26.6  0.351  31  0\n",
      "2  8  183  64   0    0  23.3  0.672  32  1\n",
      "3  1   89  66  23   94  28.1  0.167  21  0\n",
      "4  0  137  40  35  168  43.1  2.288  33  1\n"
     ]
    }
   ],
   "source": [
    "data = pd.read_csv(\"pimaindians.csv\")\n",
    "print(data.head())\n",
    "data = data.as_matrix()"
   ]
  },
  {
   "cell_type": "code",
   "execution_count": 42,
   "metadata": {},
   "outputs": [
    {
     "data": {
      "image/png": "[encoded data removed]",
      "text/plain": [
       "<Figure size 432x288 with 1 Axes>"
      ]
     },
     "metadata": {},
     "output_type": "display_data"
    },
    {
     "name": "stdout",
     "output_type": "stream",
     "text": [
      "             precision    recall  f1-score   support\n",
      "\n",
      "        0.0       0.73      0.91      0.81        88\n",
      "        1.0       0.82      0.56      0.67        66\n",
      "\n",
      "avg / total       0.77      0.76      0.75       154\n",
      "\n",
      "[[80  8]\n",
      " [29 37]]\n"
     ]
    }
   ],
   "source": [
    "from sklearn.linear_model import LogisticRegression\n",
    "from sklearn.metrics import classification_report,confusion_matrix\n",
    "\n",
    "X = data[:,0:8]\n",
    "y = data[:,-1]\n",
    "\n",
    "X_train,X_test,y_train,y_test = train_test_split(X,y,test_size=0.2)\n",
    "\n",
    "model = LogisticRegression()\n",
    "model.fit(X_train,y_train)\n",
    "p = model.predict(X_test)\n",
    "\n",
    "plt.scatter(y_test,p)\n",
    "plt.show()\n",
    "print classification_report(y_test,p)\n",
    "print confusion_matrix(y_test,p)"
   ]
  },
  {
   "cell_type": "markdown",
   "metadata": {},
   "source": [
    "### 4.Apply Linear Regression on any suitable dataset from this\n",
    "(https://people.sc.fsu.edu/~jburkardt/datasets/regression/regression.html)\n",
    "link\n",
    "Split the data as train and test sets before developing the model. Plot the actual\n",
    "and predicted points for test data. Obtain mean squared error & RMSE value\n",
    "\n",
    " Data set: Gas consumption\n",
    "\n",
    "    For one year, the consumption of petrol was measured in 48 states.\n",
    "    The relevant variables are the petrol tax, the per capita\n",
    "    income, the number of miles of paved highway, and\n",
    "    the proportion of the population with driver's licenses.\n",
    "\n",
    "    There are 48 rows of data.  The data include:\n",
    "\n",
    "      I,  the index;\n",
    "      A0, 1;\n",
    "      A1, the petrol tax;\n",
    "      A2, the per capita income;\n",
    "      A3, the number of miles of paved highway;\n",
    "      A4, the proportion of drivers;\n",
    "      B,  the consumption of petrol."
   ]
  },
  {
   "cell_type": "code",
   "execution_count": 77,
   "metadata": {},
   "outputs": [
    {
     "name": "stdout",
     "output_type": "stream",
     "text": [
      "   A  B  Petrol tax  Avg income  Paved Highways  \\\n",
      "0  1  1         9.0        3571            1976   \n",
      "1  2  1         9.0        4092            1250   \n",
      "2  3  1         9.0        3865            1586   \n",
      "3  4  1         7.5        4870            2351   \n",
      "4  5  1         8.0        4399             431   \n",
      "\n",
      "   Proportion of population with driver's  consumption of petrol  \n",
      "0                                   0.525                    541  \n",
      "1                                   0.572                    524  \n",
      "2                                   0.580                    561  \n",
      "3                                   0.529                    414  \n",
      "4                                   0.544                    410  \n"
     ]
    }
   ],
   "source": [
    "data = pd.read_csv(\"gas_consmption.csv\")\n",
    "print(data.head())"
   ]
  },
  {
   "cell_type": "code",
   "execution_count": 78,
   "metadata": {},
   "outputs": [
    {
     "data": {
      "image/png": "[encoded data removed]",
      "text/plain": [
       "<Figure size 432x288 with 1 Axes>"
      ]
     },
     "metadata": {},
     "output_type": "display_data"
    }
   ],
   "source": [
    "data = data.as_matrix()\n",
    "X = data[:,2:7]\n",
    "y = data[:,-1] \n",
    "X_train,X_test,y_train,y_test = train_test_split(X,y,test_size=0.2)\n",
    "\n",
    "model = LinearRegression()\n",
    "model.fit(X_train,y_train)\n",
    "p = model.predict(X_test)\n",
    "\n",
    "plt.scatter(y_test,p)\n",
    "plt.show()"
   ]
  },
  {
   "cell_type": "code",
   "execution_count": 82,
   "metadata": {},
   "outputs": [
    {
     "name": "stdout",
     "output_type": "stream",
     "text": [
      "Mean_ABS_E 1.36424205266e-13\n",
      "Mean_Sq_E 3.03730381172e-26\n",
      "Root_Mean_Sq_E 3.69356474515e-07\n"
     ]
    }
   ],
   "source": [
    "from sklearn import metrics \n",
    "\n",
    "print \"Mean_ABS_E\", metrics.mean_absolute_error(y_test,p)\n",
    "print \"Mean_Sq_E\", metrics.mean_squared_error(y_test,p)\n",
    "print \"Root_Mean_Sq_E\", np.sqrt(metrics.mean_absolute_error(y_test,p))"
   ]
  },
  {
   "cell_type": "markdown",
   "metadata": {},
   "source": [
    "### 5. Develop an ML model to predict the average parking rates per month for a city\n",
    "from the city related data (city.csv)"
   ]
  },
  {
   "cell_type": "code",
   "execution_count": 97,
   "metadata": {},
   "outputs": [
    {
     "name": "stdout",
     "output_type": "stream",
     "text": [
      "   City   Number of weekly riders  Price per week  Population of city  \\\n",
      "0      1                 192000.0            15.0           1800000.0   \n",
      "1      2                 190400.0            15.0           1790000.0   \n",
      "2      3                 191200.0            15.0           1780000.0   \n",
      "3      4                 177600.0            25.0           1778000.0   \n",
      "4      5                 176800.0            25.0           1750000.0   \n",
      "\n",
      "   Monthly income of riders  Average parking rates per month  Unnamed: 6  \n",
      "0                    5800.0                             50.0         NaN  \n",
      "1                    6200.0                             50.0         NaN  \n",
      "2                    6400.0                             60.0         NaN  \n",
      "3                    6500.0                             60.0         NaN  \n",
      "4                    6550.0                             60.0         NaN  \n"
     ]
    }
   ],
   "source": [
    "data = pd.read_csv(\"city.csv\")\n",
    "print(data.head())"
   ]
  },
  {
   "cell_type": "code",
   "execution_count": 98,
   "metadata": {},
   "outputs": [
    {
     "data": {
      "image/png": "[encoded data removed]",
      "text/plain": [
       "<Figure size 432x288 with 1 Axes>"
      ]
     },
     "metadata": {},
     "output_type": "display_data"
    }
   ],
   "source": [
    "data = data.as_matrix()\n",
    "X = data[:,1:5]\n",
    "y = data[:,-2] \n",
    "X_train,X_test,y_train,y_test = train_test_split(X,y,test_size=0.2)\n",
    "\n",
    "model = LinearRegression()\n",
    "model.fit(X_train,y_train)\n",
    "p = model.predict(X_test)\n",
    "\n",
    "plt.scatter(y_test,p)\n",
    "plt.show()"
   ]
  },
  {
   "cell_type": "markdown",
   "metadata": {},
   "source": [
    "### 6. Develop a KNN model and do accuracy computation with cross validation. Also\n",
    "obtain Precision , Recall and F1 Score using classification report."
   ]
  },
  {
   "cell_type": "code",
   "execution_count": 100,
   "metadata": {},
   "outputs": [
    {
     "name": "stdout",
     "output_type": "stream",
     "text": [
      "[ -2.10586315 -26.04090978   0.           0.          -6.86876055\n",
      " -95.25204306  -6.42830178  -9.03793831   0.         -60.69089007]\n"
     ]
    }
   ],
   "source": [
    "from sklearn.model_selection import cross_val_score\n",
    "score =  cross_val_score(model,X,y,cv=10)\n",
    "print score"
   ]
  },
  {
   "cell_type": "code",
   "execution_count": null,
   "metadata": {},
   "outputs": [],
   "source": []
  }
 ],
 "metadata": {
  "kernelspec": {
   "display_name": "Python 2",
   "language": "python",
   "name": "python2"
  },
  "language_info": {
   "codemirror_mode": {
    "name": "ipython",
    "version": 2
   },
   "file_extension": ".py",
   "mimetype": "text/x-python",
   "name": "python",
   "nbconvert_exporter": "python",
   "pygments_lexer": "ipython2",
   "version": "2.7.15"
  }
 },
 "nbformat": 4,
 "nbformat_minor": 2
}
