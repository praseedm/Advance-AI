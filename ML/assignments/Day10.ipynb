{
 "cells": [
  {
   "cell_type": "markdown",
   "metadata": {},
   "source": [
    "### 1. Write a program to apply translation with translation factors\n",
    "tx=200 and ty=100 on the image of apple"
   ]
  },
  {
   "cell_type": "code",
   "execution_count": 2,
   "metadata": {},
   "outputs": [],
   "source": [
    "import numpy as np\n",
    "import cv2 as cv\n",
    "\n",
    "img = cv.imread('apple.jpg',0)\n",
    "cols,rows = img.shape"
   ]
  },
  {
   "cell_type": "code",
   "execution_count": 4,
   "metadata": {},
   "outputs": [
    {
     "data": {
      "text/plain": [
       "True"
      ]
     },
     "execution_count": 4,
     "metadata": {},
     "output_type": "execute_result"
    }
   ],
   "source": [
    "# Translation\n",
    "t_matrix = np.float32([[1,0,100],[0,1,50]])\n",
    "dst = cv.warpAffine(img,t_matrix,(cols,rows))\n",
    "cv.imwrite(\"apple_translated.jpg\",dst)"
   ]
  },
  {
   "cell_type": "markdown",
   "metadata": {},
   "source": [
    "### 2. Write a program apply scaling on the image of the apple with\n",
    "scaling factor 2 on both x and y axes."
   ]
  },
  {
   "cell_type": "code",
   "execution_count": 6,
   "metadata": {},
   "outputs": [
    {
     "data": {
      "text/plain": [
       "True"
      ]
     },
     "execution_count": 6,
     "metadata": {},
     "output_type": "execute_result"
    }
   ],
   "source": [
    "dst2 = cv.resize(img,None,fx=2,fy=2,interpolation = cv.INTER_CUBIC)\n",
    "cv.imwrite(\"apple_scaled.jpg\",dst2)"
   ]
  },
  {
   "cell_type": "markdown",
   "metadata": {},
   "source": [
    "### 3. Write a program to rotate the apple image 45 degrees"
   ]
  },
  {
   "cell_type": "code",
   "execution_count": 7,
   "metadata": {},
   "outputs": [
    {
     "data": {
      "text/plain": [
       "True"
      ]
     },
     "execution_count": 7,
     "metadata": {},
     "output_type": "execute_result"
    }
   ],
   "source": [
    "r_matrix = cv.getRotationMatrix2D(((cols-1)/2,(rows-1)/2),45,1)\n",
    "dst3 = cv.warpAffine(img,r_matrix,(cols,rows))\n",
    "cv.imwrite(\"apple_rotated.jpg\",dst3)"
   ]
  },
  {
   "cell_type": "markdown",
   "metadata": {},
   "source": [
    "### 4. Write a program to blend the images of apple and orange to get\n",
    "the image in result.jpg"
   ]
  },
  {
   "cell_type": "code",
   "execution_count": 36,
   "metadata": {},
   "outputs": [
    {
     "name": "stdout",
     "output_type": "stream",
     "text": [
      "(512, 512, 3)\n",
      "(512, 512, 3)\n"
     ]
    }
   ],
   "source": [
    "img_a = cv.imread('apple.jpg')\n",
    "img_o = cv.imread('orange.jpg')\n",
    "\n",
    "print img_a.shape\n",
    "print img_o.shape"
   ]
  },
  {
   "cell_type": "code",
   "execution_count": 24,
   "metadata": {},
   "outputs": [
    {
     "data": {
      "text/plain": [
       "True"
      ]
     },
     "execution_count": 24,
     "metadata": {},
     "output_type": "execute_result"
    }
   ],
   "source": [
    "new_img = img_a.copy()\n",
    "new_img[:,256:] = img_o[:,256:]\n",
    "cv.imwrite(\"apple_orange.jpg\",new_img)"
   ]
  },
  {
   "cell_type": "markdown",
   "metadata": {},
   "source": [
    "### 5. Write a program to obtain the negative of a grayscale image\n",
    "(hint:subtract 255 from all pixels values)"
   ]
  },
  {
   "cell_type": "code",
   "execution_count": 26,
   "metadata": {},
   "outputs": [
    {
     "data": {
      "text/plain": [
       "True"
      ]
     },
     "execution_count": 26,
     "metadata": {},
     "output_type": "execute_result"
    }
   ],
   "source": [
    "img_neg = np.bitwise_not(img_a)\n",
    "cv.imwrite(\"apple_negative.jpg\",img_neg)"
   ]
  },
  {
   "cell_type": "markdown",
   "metadata": {},
   "source": [
    "### 6. Write a program to find out whether there is any difference\n",
    "between two images."
   ]
  },
  {
   "cell_type": "code",
   "execution_count": 39,
   "metadata": {},
   "outputs": [],
   "source": [
    "def show_diff(img1,img2):\n",
    "    res = img1 - img2 \n",
    "    if(res.sum() == 0 ):\n",
    "        print \"Both same\"\n",
    "    else:\n",
    "        print \"Different Images\"\n",
    "    cv.imwrite(\"Img_diff.jpg\",res)    "
   ]
  },
  {
   "cell_type": "code",
   "execution_count": 44,
   "metadata": {},
   "outputs": [
    {
     "name": "stdout",
     "output_type": "stream",
     "text": [
      "Different Images\n"
     ]
    }
   ],
   "source": [
    "img_c = cv.imread('apple_orange.jpg')\n",
    "show_diff(img_c,img_a)"
   ]
  },
  {
   "cell_type": "code",
   "execution_count": null,
   "metadata": {},
   "outputs": [],
   "source": []
  }
 ],
 "metadata": {
  "kernelspec": {
   "display_name": "Python 2",
   "language": "python",
   "name": "python2"
  },
  "language_info": {
   "codemirror_mode": {
    "name": "ipython",
    "version": 2
   },
   "file_extension": ".py",
   "mimetype": "text/x-python",
   "name": "python",
   "nbconvert_exporter": "python",
   "pygments_lexer": "ipython2",
   "version": "2.7.15"
  }
 },
 "nbformat": 4,
 "nbformat_minor": 2
}
