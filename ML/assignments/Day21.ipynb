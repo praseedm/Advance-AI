{
 "cells": [
  {
   "cell_type": "markdown",
   "metadata": {},
   "source": [
    "# RNN & LSTM"
   ]
  },
  {
   "cell_type": "code",
   "execution_count": 1,
   "metadata": {},
   "outputs": [],
   "source": [
    "import numpy as np\n",
    "import pandas as pd\n",
    "import matplotlib.pyplot as plt"
   ]
  },
  {
   "cell_type": "code",
   "execution_count": 2,
   "metadata": {},
   "outputs": [
    {
     "name": "stdout",
     "output_type": "stream",
     "text": [
      "         Date     Open     High      Low    Close  Adj Close  Volume\n",
      "0  2010-07-16  0.04951  0.04951  0.04951  0.04951    0.04951       0\n",
      "1  2010-07-17  0.04951  0.08585  0.05941  0.08584    0.08584       5\n",
      "2  2010-07-18  0.08584  0.09307  0.07723  0.08080    0.08080      49\n",
      "3  2010-07-19  0.08080  0.08181  0.07426  0.07474    0.07474      20\n",
      "4  2010-07-20  0.07474  0.07921  0.06634  0.07921    0.07921      42\n",
      "(2765, 7)\n"
     ]
    }
   ],
   "source": [
    "d_train = pd.read_csv('BTC-USD.csv') \n",
    "print d_train.head()\n",
    "print d_train.shape"
   ]
  },
  {
   "cell_type": "code",
   "execution_count": 3,
   "metadata": {},
   "outputs": [
    {
     "name": "stdout",
     "output_type": "stream",
     "text": [
      "0    0.04951\n",
      "1    0.04951\n",
      "2    0.08584\n",
      "3    0.08080\n",
      "4    0.07474\n",
      "Name: Open, dtype: float64\n"
     ]
    }
   ],
   "source": [
    "d_open = d_train['Open']\n",
    "print d_open.head()"
   ]
  },
  {
   "cell_type": "code",
   "execution_count": 4,
   "metadata": {},
   "outputs": [],
   "source": [
    "d_open = d_open.values ## convert to ndarray\n"
   ]
  },
  {
   "cell_type": "code",
   "execution_count": 5,
   "metadata": {},
   "outputs": [
    {
     "name": "stdout",
     "output_type": "stream",
     "text": [
      "<type 'numpy.ndarray'>\n",
      "(2765,)\n",
      "(2765, 1)\n"
     ]
    }
   ],
   "source": [
    "print type(d_open)\n",
    "print d_open.shape\n",
    "d_open = d_open.reshape(-1, 1)\n",
    "print d_open.shape"
   ]
  },
  {
   "cell_type": "code",
   "execution_count": 99,
   "metadata": {},
   "outputs": [
    {
     "data": {
      "image/png": "[encoded data removed]",
      "text/plain": [
       "<Figure size 432x288 with 1 Axes>"
      ]
     },
     "metadata": {},
     "output_type": "display_data"
    }
   ],
   "source": [
    "plt.plot(d_open, color = 'green', label = 'BTC values')\n",
    "plt.title('Train Dataset')\n",
    "plt.xlabel('Days')\n",
    "plt.ylabel('BTC Value')\n",
    "plt.legend()\n",
    "plt.show()"
   ]
  },
  {
   "cell_type": "code",
   "execution_count": 6,
   "metadata": {},
   "outputs": [],
   "source": [
    "#Scaling the data\n",
    "\n",
    "from sklearn.preprocessing import MinMaxScaler\n",
    "\n",
    "scaler = MinMaxScaler()\n",
    "d_open = scaler.fit_transform(d_open)"
   ]
  },
  {
   "cell_type": "code",
   "execution_count": 7,
   "metadata": {},
   "outputs": [
    {
     "data": {
      "text/plain": [
       "(2764, 1)"
      ]
     },
     "execution_count": 7,
     "metadata": {},
     "output_type": "execute_result"
    }
   ],
   "source": [
    "xtrain = d_open[:-1]\n",
    "xtrain.shape"
   ]
  },
  {
   "cell_type": "code",
   "execution_count": 8,
   "metadata": {},
   "outputs": [
    {
     "data": {
      "text/plain": [
       "(2764, 1)"
      ]
     },
     "execution_count": 8,
     "metadata": {},
     "output_type": "execute_result"
    }
   ],
   "source": [
    "ytrain = d_open[1:]\n",
    "ytrain.shape"
   ]
  },
  {
   "cell_type": "code",
   "execution_count": 9,
   "metadata": {},
   "outputs": [
    {
     "data": {
      "text/plain": [
       "array([ 0.])"
      ]
     },
     "execution_count": 9,
     "metadata": {},
     "output_type": "execute_result"
    }
   ],
   "source": [
    "xtrain[1]"
   ]
  },
  {
   "cell_type": "code",
   "execution_count": 10,
   "metadata": {},
   "outputs": [
    {
     "data": {
      "text/plain": [
       "array([ 0.])"
      ]
     },
     "execution_count": 10,
     "metadata": {},
     "output_type": "execute_result"
    }
   ],
   "source": [
    "ytrain[0]"
   ]
  },
  {
   "cell_type": "code",
   "execution_count": 11,
   "metadata": {},
   "outputs": [
    {
     "name": "stdout",
     "output_type": "stream",
     "text": [
      "(2764, 1, 1)\n"
     ]
    }
   ],
   "source": [
    "xtrain = xtrain.reshape(xtrain.shape[0], 1, 1)     #Reshaping into required shape for Keras\n",
    "print xtrain.shape"
   ]
  },
  {
   "cell_type": "code",
   "execution_count": 60,
   "metadata": {},
   "outputs": [],
   "source": [
    "from keras.models import Sequential\n",
    "from keras.layers import Dense\n",
    "from keras.layers import LSTM\n",
    "from keras import backend as bk\n",
    "from keras.callbacks import ModelCheckpoint\n",
    "\n",
    "import os.path"
   ]
  },
  {
   "cell_type": "code",
   "execution_count": 61,
   "metadata": {},
   "outputs": [],
   "source": [
    "resume_weights = \"./bitcoin/bitcoin-rnn-best.hdf5\""
   ]
  },
  {
   "cell_type": "code",
   "execution_count": 62,
   "metadata": {},
   "outputs": [
    {
     "name": "stdout",
     "output_type": "stream",
     "text": [
      "_________________________________________________________________\n",
      "Layer (type)                 Output Shape              Param #   \n",
      "=================================================================\n",
      "lstm_4 (LSTM)                (None, 4)                 96        \n",
      "_________________________________________________________________\n",
      "dense_4 (Dense)              (None, 1)                 5         \n",
      "=================================================================\n",
      "Total params: 101\n",
      "Trainable params: 101\n",
      "Non-trainable params: 0\n",
      "_________________________________________________________________\n"
     ]
    }
   ],
   "source": [
    "regressor=Sequential() \n",
    "regressor.add(LSTM(units=4,activation='sigmoid',input_shape=(None,1)))      #adding input layerand the LSTM layer\n",
    "regressor.add(Dense(units=1))                                               #adding output layers\n",
    "regressor.summary()"
   ]
  },
  {
   "cell_type": "code",
   "execution_count": 63,
   "metadata": {},
   "outputs": [],
   "source": [
    "import tensorflow as tf\n",
    "\n",
    "writer = tf.summary.FileWriter('./bitcoin/tb1',bk.get_session().graph)\n",
    "writer.close()"
   ]
  },
  {
   "cell_type": "markdown",
   "metadata": {},
   "source": [
    "### cmand line : tensorboard --logdir=tb1 --port=8008\n",
    "\n",
    "<img src=\"./bitcoin/bitcoin_lstm_tfgraph.png\" />"
   ]
  },
  {
   "cell_type": "code",
   "execution_count": 86,
   "metadata": {},
   "outputs": [
    {
     "name": "stdout",
     "output_type": "stream",
     "text": [
      "Resumed model's weights from ./bitcoin/bitcoin-rnn-best.hdf5\n"
     ]
    }
   ],
   "source": [
    "# If exists a best model, load its weights!\n",
    "if os.path.isfile(resume_weights):\n",
    "        print (\"Resumed model's weights from {}\".format(resume_weights))\n",
    "        # load weights\n",
    "        regressor.load_weights(resume_weights)\n",
    "\n",
    "# adam\n",
    "regressor.compile(optimizer='adam',loss='mean_squared_error')                      #fitting the RNN to the training set "
   ]
  },
  {
   "cell_type": "code",
   "execution_count": 87,
   "metadata": {},
   "outputs": [],
   "source": [
    "# Checkpoint In the folder\n",
    "filepath = resume_weights\n",
    "\n",
    "# Keep only a single checkpoint, the best over test accuracy.\n",
    "checkpoint = ModelCheckpoint(filepath,monitor='loss',verbose=1,save_best_only=True,mode='min')"
   ]
  },
  {
   "cell_type": "markdown",
   "metadata": {},
   "source": [
    "### regressor was fit using large number of epochs, reusing model weights."
   ]
  },
  {
   "cell_type": "code",
   "execution_count": 88,
   "metadata": {},
   "outputs": [
    {
     "name": "stdout",
     "output_type": "stream",
     "text": [
      "Epoch 1/2\n",
      "2764/2764 [==============================] - 2s 706us/step - loss: 8.3813e-05\n",
      "\n",
      "Epoch 00001: loss improved from inf to 0.00008, saving model to ./bitcoin/bitcoin-rnn-best.hdf5\n",
      "Epoch 2/2\n",
      "2764/2764 [==============================] - 1s 264us/step - loss: 8.4204e-05\n",
      "\n",
      "Epoch 00002: loss did not improve from 0.00008\n"
     ]
    },
    {
     "data": {
      "text/plain": [
       "<keras.callbacks.History at 0x7fa3690aa410>"
      ]
     },
     "execution_count": 88,
     "metadata": {},
     "output_type": "execute_result"
    }
   ],
   "source": [
    "             #Fit RNN \n",
    "regressor.fit(xtrain,ytrain,batch_size=32,epochs=2,verbose=1,callbacks=[checkpoint])  "
   ]
  },
  {
   "cell_type": "code",
   "execution_count": 89,
   "metadata": {},
   "outputs": [
    {
     "name": "stdout",
     "output_type": "stream",
     "text": [
      "         Date          Open          High           Low         Close  \\\n",
      "0  2017-12-01   9947.080078  10942.799805   9420.929688  10861.469727   \n",
      "1  2017-12-02  10861.469727  11175.230469  10715.549805  10912.730469   \n",
      "2  2017-12-03  10912.719727  11851.089844  10578.429688  11246.209961   \n",
      "3  2017-12-04  11244.200195  11624.629883  10917.809570  11623.910156   \n",
      "4  2017-12-05  11624.370117  11901.870117  11486.129883  11667.129883   \n",
      "\n",
      "      Adj Close      Volume  \n",
      "0  10861.469727  1353669597  \n",
      "1  10912.730469   950474241  \n",
      "2  11246.209961  1380012064  \n",
      "3  11623.910156  1057859226  \n",
      "4  11667.129883  1048839303  \n",
      "(8, 7)\n"
     ]
    }
   ],
   "source": [
    "# Reading CSV file into test set\n",
    "d_test = pd.read_csv('BTCtest.csv')\n",
    "print d_test.head()\n",
    "print d_test.shape"
   ]
  },
  {
   "cell_type": "code",
   "execution_count": 90,
   "metadata": {},
   "outputs": [],
   "source": [
    "actual_open = d_test['Open'].values.reshape(-1,1)"
   ]
  },
  {
   "cell_type": "code",
   "execution_count": 91,
   "metadata": {},
   "outputs": [],
   "source": [
    "#getting the predicted BTC value of the first week of Dec 2017  \n",
    "inputs = actual_open\n",
    "inputs = scaler.transform(inputs)"
   ]
  },
  {
   "cell_type": "code",
   "execution_count": 92,
   "metadata": {},
   "outputs": [
    {
     "name": "stdout",
     "output_type": "stream",
     "text": [
      "(8, 1, 1)\n"
     ]
    }
   ],
   "source": [
    "inputs = inputs.reshape(inputs.shape[0], 1, 1)     #Reshaping into required shape for Keras\n",
    "print inputs.shape"
   ]
  },
  {
   "cell_type": "code",
   "execution_count": 93,
   "metadata": {},
   "outputs": [],
   "source": [
    "predict_open = regressor.predict(inputs)\n",
    "predict_open = scaler.inverse_transform(predict_open)"
   ]
  },
  {
   "cell_type": "code",
   "execution_count": 94,
   "metadata": {},
   "outputs": [
    {
     "name": "stdout",
     "output_type": "stream",
     "text": [
      "(8, 1)\n",
      "(8, 1)\n"
     ]
    }
   ],
   "source": [
    "print actual_open.shape\n",
    "print predict_open.shape"
   ]
  },
  {
   "cell_type": "code",
   "execution_count": 95,
   "metadata": {},
   "outputs": [
    {
     "data": {
      "image/png": "[encoded data removed]",
      "text/plain": [
       "<Figure size 432x288 with 1 Axes>"
      ]
     },
     "metadata": {},
     "output_type": "display_data"
    }
   ],
   "source": [
    "plt.plot(actual_open, color = 'green', label = 'Current BTC Value')\n",
    "plt.plot(predict_open, color = 'red', label = 'Predicted BTC Value')\n",
    "plt.title('BTC Value Prediction')\n",
    "plt.xlabel('Days')\n",
    "plt.ylabel('BTC Value')\n",
    "plt.legend()\n",
    "plt.show()\n"
   ]
  },
  {
   "cell_type": "code",
   "execution_count": 101,
   "metadata": {},
   "outputs": [
    {
     "name": "stdout",
     "output_type": "stream",
     "text": [
      "(2764, 1)\n"
     ]
    }
   ],
   "source": [
    "inputs = d_open[:-1]\n",
    "print inputs.shape"
   ]
  },
  {
   "cell_type": "code",
   "execution_count": null,
   "metadata": {},
   "outputs": [],
   "source": [
    "predict_open = regressor.predict(inputs)\n",
    "predict_open = scaler.inverse_transform(predict_open)"
   ]
  }
 ],
 "metadata": {
  "kernelspec": {
   "display_name": "Python 2",
   "language": "python",
   "name": "python2"
  },
  "language_info": {
   "codemirror_mode": {
    "name": "ipython",
    "version": 2
   },
   "file_extension": ".py",
   "mimetype": "text/x-python",
   "name": "python",
   "nbconvert_exporter": "python",
   "pygments_lexer": "ipython2",
   "version": "2.7.15"
  }
 },
 "nbformat": 4,
 "nbformat_minor": 2
}
