{
 "cells": [
  {
   "cell_type": "markdown",
   "metadata": {},
   "source": [
    "# RNN & LSTM"
   ]
  },
  {
   "cell_type": "code",
   "execution_count": 6,
   "metadata": {},
   "outputs": [],
   "source": [
    "import numpy as np\n",
    "import pandas as pd\n",
    "import matplotlib.pyplot as plt"
   ]
  },
  {
   "cell_type": "code",
   "execution_count": 7,
   "metadata": {},
   "outputs": [
    {
     "name": "stdout",
     "output_type": "stream",
     "text": [
      "         Date     Open     High      Low    Close  Adj Close  Volume\n",
      "0  2010-07-16  0.04951  0.04951  0.04951  0.04951    0.04951       0\n",
      "1  2010-07-17  0.04951  0.08585  0.05941  0.08584    0.08584       5\n",
      "2  2010-07-18  0.08584  0.09307  0.07723  0.08080    0.08080      49\n",
      "3  2010-07-19  0.08080  0.08181  0.07426  0.07474    0.07474      20\n",
      "4  2010-07-20  0.07474  0.07921  0.06634  0.07921    0.07921      42\n",
      "(2765, 7)\n"
     ]
    }
   ],
   "source": [
    "d_train = pd.read_csv('BTC-USD.csv') \n",
    "print d_train.head()\n",
    "print d_train.shape"
   ]
  },
  {
   "cell_type": "code",
   "execution_count": 8,
   "metadata": {},
   "outputs": [
    {
     "name": "stdout",
     "output_type": "stream",
     "text": [
      "0    0.04951\n",
      "1    0.04951\n",
      "2    0.08584\n",
      "3    0.08080\n",
      "4    0.07474\n",
      "Name: Open, dtype: float64\n"
     ]
    }
   ],
   "source": [
    "d_open = d_train['Open']\n",
    "print d_open.head()"
   ]
  },
  {
   "cell_type": "code",
   "execution_count": 9,
   "metadata": {},
   "outputs": [],
   "source": [
    "d_open = d_open.values ## convert to ndarray\n"
   ]
  },
  {
   "cell_type": "code",
   "execution_count": 10,
   "metadata": {},
   "outputs": [
    {
     "name": "stdout",
     "output_type": "stream",
     "text": [
      "<type 'numpy.ndarray'>\n",
      "(2765,)\n",
      "(2765, 1)\n"
     ]
    }
   ],
   "source": [
    "print type(d_open)\n",
    "print d_open.shape\n",
    "d_open = d_open.reshape(-1, 1)\n",
    "og = d_open\n",
    "print d_open.shape"
   ]
  },
  {
   "cell_type": "code",
   "execution_count": 11,
   "metadata": {},
   "outputs": [
    {
     "data": {
      "image/png": "[encoded data removed]",
      "text/plain": [
       "<Figure size 432x288 with 1 Axes>"
      ]
     },
     "metadata": {},
     "output_type": "display_data"
    }
   ],
   "source": [
    "plt.plot(d_open, color = 'green', label = 'BTC values')\n",
    "plt.title('Train Dataset')\n",
    "plt.xlabel('Days')\n",
    "plt.ylabel('BTC Value')\n",
    "plt.legend()\n",
    "plt.show()"
   ]
  },
  {
   "cell_type": "code",
   "execution_count": 12,
   "metadata": {},
   "outputs": [],
   "source": [
    "#Scaling the data\n",
    "\n",
    "from sklearn.preprocessing import MinMaxScaler\n",
    "\n",
    "scaler = MinMaxScaler()\n",
    "d_open = scaler.fit_transform(d_open)"
   ]
  },
  {
   "cell_type": "code",
   "execution_count": 13,
   "metadata": {},
   "outputs": [
    {
     "data": {
      "text/plain": [
       "(2764, 1)"
      ]
     },
     "execution_count": 13,
     "metadata": {},
     "output_type": "execute_result"
    }
   ],
   "source": [
    "xtrain = d_open[:-1]\n",
    "xtrain.shape"
   ]
  },
  {
   "cell_type": "code",
   "execution_count": 14,
   "metadata": {},
   "outputs": [
    {
     "data": {
      "text/plain": [
       "(2764, 1)"
      ]
     },
     "execution_count": 14,
     "metadata": {},
     "output_type": "execute_result"
    }
   ],
   "source": [
    "ytrain = d_open[1:]\n",
    "ytrain.shape"
   ]
  },
  {
   "cell_type": "code",
   "execution_count": 15,
   "metadata": {},
   "outputs": [
    {
     "data": {
      "text/plain": [
       "array([ 0.])"
      ]
     },
     "execution_count": 15,
     "metadata": {},
     "output_type": "execute_result"
    }
   ],
   "source": [
    "xtrain[1]"
   ]
  },
  {
   "cell_type": "code",
   "execution_count": 16,
   "metadata": {},
   "outputs": [
    {
     "data": {
      "text/plain": [
       "array([ 0.])"
      ]
     },
     "execution_count": 16,
     "metadata": {},
     "output_type": "execute_result"
    }
   ],
   "source": [
    "ytrain[0]"
   ]
  },
  {
   "cell_type": "code",
   "execution_count": 17,
   "metadata": {},
   "outputs": [
    {
     "name": "stdout",
     "output_type": "stream",
     "text": [
      "(2764, 1, 1)\n"
     ]
    }
   ],
   "source": [
    "xtrain = xtrain.reshape(xtrain.shape[0], 1, 1)     #Reshaping into required shape for Keras\n",
    "print xtrain.shape"
   ]
  },
  {
   "cell_type": "code",
   "execution_count": 18,
   "metadata": {},
   "outputs": [
    {
     "name": "stderr",
     "output_type": "stream",
     "text": [
      "Using TensorFlow backend.\n"
     ]
    }
   ],
   "source": [
    "from keras.models import Sequential\n",
    "from keras.layers import Dense\n",
    "from keras.layers import LSTM\n",
    "from keras import backend as bk\n",
    "from keras.callbacks import ModelCheckpoint\n",
    "\n",
    "import os.path"
   ]
  },
  {
   "cell_type": "code",
   "execution_count": 19,
   "metadata": {},
   "outputs": [],
   "source": [
    "resume_weights = \"./bitcoin/bitcoin-rnn-best.hdf5\""
   ]
  },
  {
   "cell_type": "code",
   "execution_count": 20,
   "metadata": {},
   "outputs": [
    {
     "name": "stdout",
     "output_type": "stream",
     "text": [
      "_________________________________________________________________\n",
      "Layer (type)                 Output Shape              Param #   \n",
      "=================================================================\n",
      "lstm_1 (LSTM)                (None, 4)                 96        \n",
      "_________________________________________________________________\n",
      "dense_1 (Dense)              (None, 1)                 5         \n",
      "=================================================================\n",
      "Total params: 101\n",
      "Trainable params: 101\n",
      "Non-trainable params: 0\n",
      "_________________________________________________________________\n"
     ]
    }
   ],
   "source": [
    "regressor=Sequential() \n",
    "regressor.add(LSTM(units=4,activation='sigmoid',input_shape=(None,1)))      #adding input layerand the LSTM layer\n",
    "regressor.add(Dense(units=1))                                               #adding output layers\n",
    "regressor.summary()"
   ]
  },
  {
   "cell_type": "code",
   "execution_count": 21,
   "metadata": {},
   "outputs": [],
   "source": [
    "import tensorflow as tf\n",
    "\n",
    "writer = tf.summary.FileWriter('./bitcoin/tb1',bk.get_session().graph)\n",
    "writer.close()"
   ]
  },
  {
   "cell_type": "markdown",
   "metadata": {},
   "source": [
    "### cmand line : tensorboard --logdir=tb1 --port=8008\n",
    "\n",
    "<img src=\"./bitcoin/bitcoin_lstm_tfgraph.png\" />"
   ]
  },
  {
   "cell_type": "code",
   "execution_count": 22,
   "metadata": {},
   "outputs": [
    {
     "name": "stdout",
     "output_type": "stream",
     "text": [
      "Resumed model's weights from ./bitcoin/bitcoin-rnn-best.hdf5\n"
     ]
    }
   ],
   "source": [
    "# If exists a best model, load its weights!\n",
    "if os.path.isfile(resume_weights):\n",
    "        print (\"Resumed model's weights from {}\".format(resume_weights))\n",
    "        # load weights\n",
    "        regressor.load_weights(resume_weights)\n",
    "\n",
    "# adam\n",
    "regressor.compile(optimizer='adam',loss='mean_squared_error')                      #fitting the RNN to the training set "
   ]
  },
  {
   "cell_type": "code",
   "execution_count": 23,
   "metadata": {},
   "outputs": [],
   "source": [
    "# Checkpoint In the folder\n",
    "filepath = resume_weights\n",
    "\n",
    "# Keep only a single checkpoint, the best over test accuracy.\n",
    "checkpoint = ModelCheckpoint(filepath,monitor='loss',verbose=1,save_best_only=True,mode='min')"
   ]
  },
  {
   "cell_type": "markdown",
   "metadata": {},
   "source": [
    "### regressor was fit using large number of epochs, reusing model weights."
   ]
  },
  {
   "cell_type": "code",
   "execution_count": 24,
   "metadata": {},
   "outputs": [
    {
     "name": "stdout",
     "output_type": "stream",
     "text": [
      "Epoch 1/2\n",
      "2764/2764 [==============================] - 2s 706us/step - loss: 8.4140e-05\n",
      "\n",
      "Epoch 00001: loss improved from inf to 0.00008, saving model to ./bitcoin/bitcoin-rnn-best.hdf5\n",
      "Epoch 2/2\n",
      "2764/2764 [==============================] - 1s 263us/step - loss: 8.2989e-05\n",
      "\n",
      "Epoch 00002: loss improved from 0.00008 to 0.00008, saving model to ./bitcoin/bitcoin-rnn-best.hdf5\n"
     ]
    },
    {
     "data": {
      "text/plain": [
       "<keras.callbacks.History at 0x7f25d3eeb350>"
      ]
     },
     "execution_count": 24,
     "metadata": {},
     "output_type": "execute_result"
    }
   ],
   "source": [
    "             #Fit RNN \n",
    "regressor.fit(xtrain,ytrain,batch_size=32,epochs=2,verbose=1,callbacks=[checkpoint])  "
   ]
  },
  {
   "cell_type": "code",
   "execution_count": 44,
   "metadata": {},
   "outputs": [
    {
     "name": "stdout",
     "output_type": "stream",
     "text": [
      "         Date          Open          High           Low         Close  \\\n",
      "0  2017-12-01   9947.080078  10942.799805   9420.929688  10861.469727   \n",
      "1  2017-12-02  10861.469727  11175.230469  10715.549805  10912.730469   \n",
      "2  2017-12-03  10912.719727  11851.089844  10578.429688  11246.209961   \n",
      "3  2017-12-04  11244.200195  11624.629883  10917.809570  11623.910156   \n",
      "4  2017-12-05  11624.370117  11901.870117  11486.129883  11667.129883   \n",
      "\n",
      "      Adj Close      Volume  \n",
      "0  10861.469727  1353669597  \n",
      "1  10912.730469   950474241  \n",
      "2  11246.209961  1380012064  \n",
      "3  11623.910156  1057859226  \n",
      "4  11667.129883  1048839303  \n",
      "(8, 7)\n"
     ]
    }
   ],
   "source": [
    "# Reading CSV file into test set\n",
    "d_test = pd.read_csv('BTCtest.csv')\n",
    "print d_test.head()\n",
    "print d_test.shape"
   ]
  },
  {
   "cell_type": "code",
   "execution_count": 45,
   "metadata": {},
   "outputs": [],
   "source": [
    "actual_open = d_test['Open'].values.reshape(-1,1)"
   ]
  },
  {
   "cell_type": "code",
   "execution_count": 46,
   "metadata": {},
   "outputs": [],
   "source": [
    "#getting the predicted BTC value of the first week of Dec 2017  \n",
    "inputs = actual_open\n",
    "inputs = scaler.transform(inputs)"
   ]
  },
  {
   "cell_type": "code",
   "execution_count": 47,
   "metadata": {},
   "outputs": [
    {
     "name": "stdout",
     "output_type": "stream",
     "text": [
      "(8, 1, 1)\n"
     ]
    }
   ],
   "source": [
    "inputs = inputs.reshape(inputs.shape[0], 1, 1)     #Reshaping into required shape for Keras\n",
    "print inputs.shape"
   ]
  },
  {
   "cell_type": "code",
   "execution_count": 48,
   "metadata": {},
   "outputs": [],
   "source": [
    "predict_open = regressor.predict(inputs)\n",
    "predict_open = scaler.inverse_transform(predict_open)"
   ]
  },
  {
   "cell_type": "code",
   "execution_count": 49,
   "metadata": {},
   "outputs": [
    {
     "name": "stdout",
     "output_type": "stream",
     "text": [
      "(8, 1)\n",
      "(8, 1)\n"
     ]
    }
   ],
   "source": [
    "print actual_open.shape\n",
    "print predict_open.shape"
   ]
  },
  {
   "cell_type": "code",
   "execution_count": 52,
   "metadata": {},
   "outputs": [
    {
     "name": "stdout",
     "output_type": "stream",
     "text": [
      "[[  9947.080078]\n",
      " [ 10861.469727]\n",
      " [ 10912.719727]\n",
      " [ 11244.200195]\n",
      " [ 11624.370117]]\n",
      "----\n",
      "[[ 10089.73925781]\n",
      " [ 10963.42773438]\n",
      " [ 11012.10742188]\n",
      " [ 11326.24316406]\n",
      " [ 11684.97558594]]\n"
     ]
    }
   ],
   "source": [
    "print actual_open[0:5]\n",
    "print \"----\"\n",
    "print predict_open[0:5]"
   ]
  },
  {
   "cell_type": "code",
   "execution_count": 31,
   "metadata": {},
   "outputs": [
    {
     "data": {
      "image/png": "[encoded data removed]",
      "text/plain": [
       "<Figure size 432x288 with 1 Axes>"
      ]
     },
     "metadata": {},
     "output_type": "display_data"
    }
   ],
   "source": [
    "plt.plot(actual_open, color = 'green', label = 'Current BTC Value')\n",
    "plt.plot(predict_open, color = 'red', label = 'Predicted BTC Value')\n",
    "plt.title('BTC Value Prediction')\n",
    "plt.xlabel('Days')\n",
    "plt.ylabel('BTC Value')\n",
    "plt.legend()\n",
    "plt.show()\n"
   ]
  },
  {
   "cell_type": "code",
   "execution_count": 39,
   "metadata": {},
   "outputs": [
    {
     "name": "stdout",
     "output_type": "stream",
     "text": [
      "(2764, 1)\n"
     ]
    }
   ],
   "source": [
    "inputs = og[:-1]\n",
    "actual = og[1:]\n",
    "print inputs.shape"
   ]
  },
  {
   "cell_type": "code",
   "execution_count": 40,
   "metadata": {},
   "outputs": [],
   "source": [
    "inputs = scaler.transform(inputs)\n",
    "inputs = inputs.reshape(inputs.shape[0], 1, 1)\n",
    "predict_open = regressor.predict(inputs)\n",
    "predict_open = scaler.inverse_transform(predict_open)"
   ]
  },
  {
   "cell_type": "code",
   "execution_count": 41,
   "metadata": {},
   "outputs": [
    {
     "data": {
      "image/png": "[encoded data removed]",
      "text/plain": [
       "<Figure size 432x288 with 1 Axes>"
      ]
     },
     "metadata": {},
     "output_type": "display_data"
    }
   ],
   "source": [
    "plt.plot(actual, color = 'green', label = 'Current BTC Value')\n",
    "plt.plot(predict_open, color = 'red', label = 'Predicted BTC Value')\n",
    "plt.title('BTC Value Prediction')\n",
    "plt.xlabel('Days')\n",
    "plt.ylabel('BTC Value')\n",
    "plt.legend()\n",
    "plt.show()"
   ]
  },
  {
   "cell_type": "code",
   "execution_count": null,
   "metadata": {},
   "outputs": [],
   "source": []
  }
 ],
 "metadata": {
  "kernelspec": {
   "display_name": "Python 2",
   "language": "python",
   "name": "python2"
  },
  "language_info": {
   "codemirror_mode": {
    "name": "ipython",
    "version": 2
   },
   "file_extension": ".py",
   "mimetype": "text/x-python",
   "name": "python",
   "nbconvert_exporter": "python",
   "pygments_lexer": "ipython2",
   "version": "2.7.15"
  }
 },
 "nbformat": 4,
 "nbformat_minor": 2
}
