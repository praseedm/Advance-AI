{
 "cells": [
  {
   "cell_type": "markdown",
   "metadata": {},
   "source": [
    "# RNN & LSTM"
   ]
  },
  {
   "cell_type": "code",
   "execution_count": 1,
   "metadata": {},
   "outputs": [],
   "source": [
    "import numpy as np\n",
    "import pandas as pd\n",
    "import matplotlib.pyplot as plt"
   ]
  },
  {
   "cell_type": "code",
   "execution_count": 3,
   "metadata": {},
   "outputs": [
    {
     "name": "stdout",
     "output_type": "stream",
     "text": [
      "         Date     Open     High      Low    Close  Adj Close  Volume\n",
      "0  2010-07-16  0.04951  0.04951  0.04951  0.04951    0.04951       0\n",
      "1  2010-07-17  0.04951  0.08585  0.05941  0.08584    0.08584       5\n",
      "2  2010-07-18  0.08584  0.09307  0.07723  0.08080    0.08080      49\n",
      "3  2010-07-19  0.08080  0.08181  0.07426  0.07474    0.07474      20\n",
      "4  2010-07-20  0.07474  0.07921  0.06634  0.07921    0.07921      42\n",
      "(2765, 7)\n"
     ]
    }
   ],
   "source": [
    "d_train = pd.read_csv('BTC-USD.csv') \n",
    "print d_train.head()\n",
    "print d_train.shape"
   ]
  },
  {
   "cell_type": "code",
   "execution_count": 7,
   "metadata": {},
   "outputs": [
    {
     "name": "stdout",
     "output_type": "stream",
     "text": [
      "0    0.04951\n",
      "1    0.04951\n",
      "2    0.08584\n",
      "3    0.08080\n",
      "4    0.07474\n",
      "Name: Open, dtype: float64\n"
     ]
    }
   ],
   "source": [
    "d_open = d_train['Open']\n",
    "print d_open.head()"
   ]
  },
  {
   "cell_type": "code",
   "execution_count": 8,
   "metadata": {},
   "outputs": [],
   "source": [
    "d_open = d_open.values ## convert to ndarray\n"
   ]
  },
  {
   "cell_type": "code",
   "execution_count": 16,
   "metadata": {},
   "outputs": [
    {
     "name": "stdout",
     "output_type": "stream",
     "text": [
      "<type 'numpy.ndarray'>\n",
      "(2765,)\n",
      "(2765, 1)\n"
     ]
    }
   ],
   "source": [
    "print type(d_open)\n",
    "print d_open.shape\n",
    "d_open = d_open.reshape(-1, 1)\n",
    "print d_open.shape"
   ]
  },
  {
   "cell_type": "code",
   "execution_count": 17,
   "metadata": {},
   "outputs": [],
   "source": [
    "#Scaling the data\n",
    "\n",
    "from sklearn.preprocessing import MinMaxScaler\n",
    "\n",
    "scaler = MinMaxScaler()\n",
    "d_open = scaler.fit_transform(d_open)"
   ]
  },
  {
   "cell_type": "code",
   "execution_count": 20,
   "metadata": {},
   "outputs": [
    {
     "data": {
      "text/plain": [
       "(2764, 1)"
      ]
     },
     "execution_count": 20,
     "metadata": {},
     "output_type": "execute_result"
    }
   ],
   "source": [
    "xtrain = d_open[:-1]\n",
    "xtrain.shape"
   ]
  },
  {
   "cell_type": "code",
   "execution_count": 28,
   "metadata": {},
   "outputs": [
    {
     "data": {
      "text/plain": [
       "(2764, 1)"
      ]
     },
     "execution_count": 28,
     "metadata": {},
     "output_type": "execute_result"
    }
   ],
   "source": [
    "ytrain = d_open[1:]\n",
    "ytrain.shape"
   ]
  },
  {
   "cell_type": "code",
   "execution_count": 34,
   "metadata": {},
   "outputs": [
    {
     "data": {
      "text/plain": [
       "array([ 0.])"
      ]
     },
     "execution_count": 34,
     "metadata": {},
     "output_type": "execute_result"
    }
   ],
   "source": [
    "xtrain[1]"
   ]
  },
  {
   "cell_type": "code",
   "execution_count": 35,
   "metadata": {},
   "outputs": [
    {
     "data": {
      "text/plain": [
       "array([ 0.])"
      ]
     },
     "execution_count": 35,
     "metadata": {},
     "output_type": "execute_result"
    }
   ],
   "source": [
    "ytrain[0]"
   ]
  },
  {
   "cell_type": "code",
   "execution_count": 36,
   "metadata": {},
   "outputs": [
    {
     "name": "stdout",
     "output_type": "stream",
     "text": [
      "(2764, 1, 1)\n"
     ]
    }
   ],
   "source": [
    "xtrain = xtrain.reshape(xtrain.shape[0], 1, 1)     #Reshaping into required shape for Keras\n",
    "print xtrain.shape"
   ]
  },
  {
   "cell_type": "code",
   "execution_count": 37,
   "metadata": {},
   "outputs": [
    {
     "name": "stderr",
     "output_type": "stream",
     "text": [
      "Using TensorFlow backend.\n"
     ]
    }
   ],
   "source": [
    "from keras.models import Sequential\n",
    "from keras.layers import Dense\n",
    "from keras.layers import LSTM"
   ]
  },
  {
   "cell_type": "code",
   "execution_count": 53,
   "metadata": {},
   "outputs": [
    {
     "data": {
      "text/plain": [
       "<keras.callbacks.History at 0x7f7185bd9d50>"
      ]
     },
     "execution_count": 53,
     "metadata": {},
     "output_type": "execute_result"
    }
   ],
   "source": [
    "regressor=Sequential() \n",
    "regressor.add(LSTM(units=4,activation='sigmoid',input_shape=(None,1)))      #adding input layerand the LSTM layer\n",
    "regressor.add(Dense(units=1))                                               #adding output layers\n",
    "regressor.compile(optimizer='adam',loss='mean_squared_error')               #compiling the RNN\n",
    "regressor.fit(xtrain,ytrain,batch_size=32,epochs=350,verbose=0)                      #fitting the RNN to the training set "
   ]
  },
  {
   "cell_type": "code",
   "execution_count": 41,
   "metadata": {},
   "outputs": [
    {
     "name": "stdout",
     "output_type": "stream",
     "text": [
      "         Date          Open          High           Low         Close  \\\n",
      "0  2017-12-01   9947.080078  10942.799805   9420.929688  10861.469727   \n",
      "1  2017-12-02  10861.469727  11175.230469  10715.549805  10912.730469   \n",
      "2  2017-12-03  10912.719727  11851.089844  10578.429688  11246.209961   \n",
      "3  2017-12-04  11244.200195  11624.629883  10917.809570  11623.910156   \n",
      "4  2017-12-05  11624.370117  11901.870117  11486.129883  11667.129883   \n",
      "\n",
      "      Adj Close      Volume  \n",
      "0  10861.469727  1353669597  \n",
      "1  10912.730469   950474241  \n",
      "2  11246.209961  1380012064  \n",
      "3  11623.910156  1057859226  \n",
      "4  11667.129883  1048839303  \n",
      "(8, 7)\n"
     ]
    }
   ],
   "source": [
    "# Reading CSV file into test set\n",
    "d_test = pd.read_csv('BTCtest.csv')\n",
    "print d_test.head()\n",
    "print d_test.shape"
   ]
  },
  {
   "cell_type": "code",
   "execution_count": 43,
   "metadata": {},
   "outputs": [],
   "source": [
    "actual_open = d_test['Open'].values.reshape(-1,1)"
   ]
  },
  {
   "cell_type": "code",
   "execution_count": 44,
   "metadata": {},
   "outputs": [],
   "source": [
    "#getting the predicted BTC value of the first week of Dec 2017  \n",
    "inputs = actual_open\n",
    "inputs = scaler.transform(inputs)"
   ]
  },
  {
   "cell_type": "code",
   "execution_count": 45,
   "metadata": {},
   "outputs": [
    {
     "name": "stdout",
     "output_type": "stream",
     "text": [
      "(8, 1, 1)\n"
     ]
    }
   ],
   "source": [
    "inputs = inputs.reshape(inputs.shape[0], 1, 1)     #Reshaping into required shape for Keras\n",
    "print inputs.shape"
   ]
  },
  {
   "cell_type": "code",
   "execution_count": 49,
   "metadata": {},
   "outputs": [],
   "source": [
    "predict_open = regressor.predict(inputs)\n",
    "predict_open = scaler.inverse_transform(predict_open)"
   ]
  },
  {
   "cell_type": "code",
   "execution_count": 48,
   "metadata": {},
   "outputs": [
    {
     "name": "stdout",
     "output_type": "stream",
     "text": [
      "(8, 1)\n",
      "(8, 1)\n"
     ]
    }
   ],
   "source": [
    "print actual_open.shape\n",
    "print predict_open.shape"
   ]
  },
  {
   "cell_type": "code",
   "execution_count": 50,
   "metadata": {},
   "outputs": [
    {
     "data": {
      "image/png": "[encoded data removed]",
      "text/plain": [
       "<Figure size 432x288 with 1 Axes>"
      ]
     },
     "metadata": {},
     "output_type": "display_data"
    }
   ],
   "source": [
    "plt.plot(actual_open, color = 'green', label = 'Current BTC Value')\n",
    "plt.plot(predict_open, color = 'red', label = 'Predicted BTC Value')\n",
    "plt.title('BTC Value Prediction')\n",
    "plt.xlabel('Days')\n",
    "plt.ylabel('BTC Value')\n",
    "plt.legend()\n",
    "plt.show()\n"
   ]
  },
  {
   "cell_type": "code",
   "execution_count": null,
   "metadata": {},
   "outputs": [],
   "source": []
  }
 ],
 "metadata": {
  "kernelspec": {
   "display_name": "Python 2",
   "language": "python",
   "name": "python2"
  },
  "language_info": {
   "codemirror_mode": {
    "name": "ipython",
    "version": 2
   },
   "file_extension": ".py",
   "mimetype": "text/x-python",
   "name": "python",
   "nbconvert_exporter": "python",
   "pygments_lexer": "ipython2",
   "version": "2.7.15"
  }
 },
 "nbformat": 4,
 "nbformat_minor": 2
}
