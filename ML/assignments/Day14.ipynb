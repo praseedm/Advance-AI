{
 "cells": [
  {
   "cell_type": "markdown",
   "metadata": {},
   "source": [
    "### 1) Implement MLPClassifier for iris dataset in sklearn\n",
    "* a.Print confusion matrix for different activation functions { ‘tanh’, ‘relu', etc. }\n",
    "* b.Study the reduction in loss based on the number of iterations."
   ]
  },
  {
   "cell_type": "code",
   "execution_count": 1,
   "metadata": {},
   "outputs": [],
   "source": [
    "from sklearn.datasets import load_iris \n",
    "\n",
    "iris = load_iris()\n",
    "X = iris.data\n",
    "y = iris.target"
   ]
  },
  {
   "cell_type": "markdown",
   "metadata": {},
   "source": [
    "#### activation : {‘identity’, ‘logistic’, ‘tanh’, ‘relu’}, default ‘relu’\n",
    "\n",
    "   Activation function for the hidden layer.\n",
    "\n",
    "   *   ‘identity’, no-op activation, useful to implement linear bottleneck, returns f(x) = x\n",
    "   *   ‘logistic’, the logistic sigmoid function, returns f(x) = 1 / (1 + exp(-x)).\n",
    "   * ‘tanh’, the hyperbolic tan function, returns f(x) = tanh(x).\n",
    "   *  ‘relu’, the rectified linear unit function, returns f(x) = max(0, x)\n",
    "\n"
   ]
  },
  {
   "cell_type": "code",
   "execution_count": 42,
   "metadata": {},
   "outputs": [],
   "source": [
    "from sklearn.neural_network import MLPClassifier\n",
    "from sklearn.metrics import confusion_matrix,accuracy_score\n",
    "\n"
   ]
  },
  {
   "cell_type": "code",
   "execution_count": 43,
   "metadata": {},
   "outputs": [],
   "source": [
    "modelt = ''\n",
    "def tryactivs(arr):\n",
    "    global modelt,X,y\n",
    "    for acti in arr:\n",
    "        del modelt\n",
    "        modelt  = MLPClassifier(activation= str(acti))\n",
    "        modelt.fit(X,y)\n",
    "        p = modelt.predict(X)\n",
    "        print acti,' :\\n','\\taccu_score : ',accuracy_score(y,p),'\\n',confusion_matrix(y,p)\n",
    "    "
   ]
  },
  {
   "cell_type": "code",
   "execution_count": 44,
   "metadata": {},
   "outputs": [
    {
     "name": "stdout",
     "output_type": "stream",
     "text": [
      "identity  :\n",
      "\taccu_score :  0.96 \n",
      "[[50  0  0]\n",
      " [ 0 44  6]\n",
      " [ 0  0 50]]\n",
      "relu  :\n",
      "\taccu_score :  0.98 \n",
      "[[50  0  0]\n",
      " [ 0 47  3]\n",
      " [ 0  0 50]]\n",
      "tanh  :\n",
      "\taccu_score :  0.98 \n",
      "[[50  0  0]\n",
      " [ 0 47  3]\n",
      " [ 0  0 50]]\n",
      "logistic  :\n",
      "\taccu_score :  0.966666666667 \n",
      "[[50  0  0]\n",
      " [ 0 45  5]\n",
      " [ 0  0 50]]\n"
     ]
    }
   ],
   "source": [
    "activations = [\"identity\",\"relu\",\"tanh\",\"logistic\"]\n",
    "tryactivs(activations)"
   ]
  },
  {
   "cell_type": "markdown",
   "metadata": {},
   "source": [
    "### 2) Implement MLPRegressor for boston dataset in sklearn . Print performance metrics like RMSE, MAE , etc."
   ]
  },
  {
   "cell_type": "code",
   "execution_count": 110,
   "metadata": {},
   "outputs": [],
   "source": [
    "from sklearn.datasets import load_boston\n",
    "\n",
    "boston = load_boston()\n",
    "X = boston.data\n",
    "y = boston.target"
   ]
  },
  {
   "cell_type": "code",
   "execution_count": 121,
   "metadata": {},
   "outputs": [],
   "source": [
    "from sklearn.neural_network import MLPRegressor\n",
    "from sklearn.metrics import mean_squared_error,mean_absolute_error\n",
    "\n",
    "model = MLPRegressor(hidden_layer_sizes=100,activation='relu',verbose=False,alpha=0.00001,learning_rate='adaptive',max_iter=40000)"
   ]
  },
  {
   "cell_type": "code",
   "execution_count": 122,
   "metadata": {},
   "outputs": [
    {
     "name": "stdout",
     "output_type": "stream",
     "text": [
      "MAE 16.7535608536\n",
      "RMSE 19.6651074275\n"
     ]
    }
   ],
   "source": [
    "model.fit(X,y)\n",
    "pr = model.predict(X)\n",
    "\n",
    "print \"MAE\",mean_absolute_error(y,pr)\n",
    "print \"RMSE\",mean_squared_error(y,pr) ** 0.5"
   ]
  },
  {
   "cell_type": "code",
   "execution_count": 82,
   "metadata": {},
   "outputs": [
    {
     "data": {
      "image/png": "[encoded data removed]",
      "text/plain": [
       "<Figure size 432x288 with 1 Axes>"
      ]
     },
     "metadata": {},
     "output_type": "display_data"
    }
   ],
   "source": [
    "import matplotlib.pyplot as plt\n",
    "\n",
    "plt.scatter(y,pr)\n",
    "plt.show()"
   ]
  },
  {
   "cell_type": "code",
   "execution_count": null,
   "metadata": {},
   "outputs": [],
   "source": []
  }
 ],
 "metadata": {
  "kernelspec": {
   "display_name": "Python 2",
   "language": "python",
   "name": "python2"
  },
  "language_info": {
   "codemirror_mode": {
    "name": "ipython",
    "version": 2
   },
   "file_extension": ".py",
   "mimetype": "text/x-python",
   "name": "python",
   "nbconvert_exporter": "python",
   "pygments_lexer": "ipython2",
   "version": "2.7.15"
  }
 },
 "nbformat": 4,
 "nbformat_minor": 2
}
