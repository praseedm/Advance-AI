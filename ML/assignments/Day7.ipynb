{
 "cells": [
  {
   "cell_type": "markdown",
   "metadata": {},
   "source": [
    "## 1) Write a program to compare the cross validation accuracies \n",
    "Of different ML models using box plot. Use the classification\n",
    "algorithms KNN, Logistic Regression, Decision Tree, Naïve Bayes,\n",
    "& SVC. Try with the following datasets.\n",
    "a. Iris\n",
    "b. pima-indians-dataset\n",
    "c. any other dataset you have identified earlier.\n",
    "d. banking dataset (bank.csv)\n",
    "(Based on the nature of data set, some algorithms may take long\n",
    "time for accuracy computation. You may ignore that algorithm\n",
    "and proceed to get results, if it takes very long time.)"
   ]
  },
  {
   "cell_type": "markdown",
   "metadata": {},
   "source": [
    "### Iris Dataset"
   ]
  },
  {
   "cell_type": "code",
   "execution_count": 10,
   "metadata": {},
   "outputs": [],
   "source": [
    "#import all specified classifiers\n",
    "from sklearn.neighbors import KNeighborsClassifier\n",
    "from sklearn.svm import SVC\n",
    "from sklearn.linear_model import LogisticRegression\n",
    "from sklearn.tree import DecisionTreeClassifier\n",
    "from sklearn.naive_bayes import GaussianNB\n",
    "\n",
    "#import model selection and validation metrices\n",
    "from sklearn.model_selection import cross_val_score,KFold\n",
    "#graph plot package\n",
    "import matplotlib.pyplot as plt\n",
    "\n",
    "import pandas as pd"
   ]
  },
  {
   "cell_type": "code",
   "execution_count": 27,
   "metadata": {},
   "outputs": [],
   "source": [
    "\n",
    "\n",
    "#function to compaire diff classifiers and plots accuracy of each as box plots\n",
    "\n",
    "def eval_classifiers(X,y,data_name,ignore_svm=False):\n",
    "    plt.close()\n",
    "    models = [(\"KNN\",KNeighborsClassifier()), (\"NB\",GaussianNB()), (\"LR\",LogisticRegression()), (\"CART\",DecisionTreeClassifier())]\n",
    "    if(not ignore_svm):   #SVM takes longer time for cross validation on large data set\n",
    "        models.append((\"SVM\",SVC()))\n",
    "        \n",
    "    models.sort()\n",
    "    results = []\n",
    "    names = []\n",
    "    scoring = 'accuracy'\n",
    "    \n",
    "    for name,model in models:\n",
    "        kfold = KFold(n_splits = 10, random_state = 7)\n",
    "        score = cross_val_score(model,X,y,cv=kfold,scoring=scoring)\n",
    "        results.append(score)\n",
    "        names.append(name)\n",
    "\n",
    "    #plot results using box plot\n",
    "    fig = plt.figure()\n",
    "    fig.suptitle('Classifier Comparision on %s'%(data_name))\n",
    "    ax=fig.add_subplot(111)\n",
    "    plt.boxplot(results)\n",
    "    ax.set_xticklabels(names)\n",
    "    plt.show()\n",
    "    \n",
    "  "
   ]
  },
  {
   "cell_type": "code",
   "execution_count": 28,
   "metadata": {},
   "outputs": [
    {
     "data": {
      "image/png": "[encoded data removed]",
      "text/plain": [
       "<Figure size 432x288 with 1 Axes>"
      ]
     },
     "metadata": {},
     "output_type": "display_data"
    }
   ],
   "source": [
    "#evaluate Iris\n",
    "from sklearn.datasets import load_iris\n",
    "\n",
    "iris = load_iris() \n",
    "X = iris.data\n",
    "y = iris.target\n",
    "\n",
    "eval_classifiers(X,y,'Iris')  "
   ]
  },
  {
   "cell_type": "markdown",
   "metadata": {},
   "source": [
    "### Prima-Indians-dataset"
   ]
  },
  {
   "cell_type": "code",
   "execution_count": 29,
   "metadata": {},
   "outputs": [
    {
     "data": {
      "image/png": "[encoded data removed]",
      "text/plain": [
       "<Figure size 432x288 with 1 Axes>"
      ]
     },
     "metadata": {},
     "output_type": "display_data"
    }
   ],
   "source": [
    "url=\"https://raw.githubusercontent.com/jbrownlee/Datasets/master/pima-indians-diabetes.data.csv\"\n",
    "data=pd.read_csv(url)\n",
    "data=data.as_matrix()\n",
    "X=data[:,0:8]\n",
    "y=data[:,8]\n",
    "\n",
    "eval_classifiers(X,y,'Prima_Indians')"
   ]
  },
  {
   "cell_type": "markdown",
   "metadata": {},
   "source": [
    "### Banking data"
   ]
  },
  {
   "cell_type": "code",
   "execution_count": null,
   "metadata": {},
   "outputs": [],
   "source": []
  }
 ],
 "metadata": {
  "kernelspec": {
   "display_name": "Python 2",
   "language": "python",
   "name": "python2"
  },
  "language_info": {
   "codemirror_mode": {
    "name": "ipython",
    "version": 2
   },
   "file_extension": ".py",
   "mimetype": "text/x-python",
   "name": "python",
   "nbconvert_exporter": "python",
   "pygments_lexer": "ipython2",
   "version": "2.7.15"
  }
 },
 "nbformat": 4,
 "nbformat_minor": 2
}
