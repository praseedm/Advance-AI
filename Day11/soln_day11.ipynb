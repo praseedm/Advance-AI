{
 "cells": [
  {
   "cell_type": "markdown",
   "metadata": {},
   "source": [
    "### I.Create a text file named book  and store the values from the given xml file(book.xml).\n",
    "   Each line in the text file should have the following format.\n",
    "\n",
    "    1.The book Think Python belongs to python category and is written by AB downy.\n",
    "      This book is published in the year 2015 with a price of 300. \n",
    "\n",
    "    2.The book Def Guide belongs to hadoop category and is written by Tom White.\n",
    "      This book is published in the year 2015 with a price of 900. \n",
    "\t.\n",
    "\t.\n",
    "\t.\n",
    "    "
   ]
  },
  {
   "cell_type": "code",
   "execution_count": 3,
   "metadata": {
    "scrolled": true
   },
   "outputs": [
    {
     "name": "stdout",
     "output_type": "stream",
     "text": [
      "------\n",
      "title: Think Python\n",
      "author: A B Downey\n",
      "year: 2015\n",
      "price: 300\n",
      "------\n",
      "title: Def Guide\n",
      "author: Tom White\n",
      "year: 2015\n",
      "price: 900\n",
      "------\n",
      "title: Let us cpp\n",
      "author: Y Kenetkar\n",
      "year: 2010\n",
      "price: 349\n",
      "------\n",
      "title: Design of Unix OS\n",
      "author: M J Bach\n",
      "year: 2003\n",
      "price: 839\n"
     ]
    }
   ],
   "source": [
    "import xml.sax\n",
    "\n",
    "class ourhandler(xml.sax.ContentHandler):\n",
    "    def __init__(self):\n",
    "        self.title=\"\"\n",
    "        self.author=\"\"\n",
    "        self.year=\"\"\n",
    "        self.price=\"\"\n",
    "        self.cat=\"\"\n",
    "        self.currtag=\"\"\n",
    "        self.string = \"The book\"\n",
    "\n",
    "    def startElement(self,tagname,attrs):\n",
    "        self.currtag=tagname\n",
    "        if(tagname == 'book'):\n",
    "            self.cat=attrs['category']\n",
    "            print \"------\"\n",
    "    \n",
    "    def characters(self,content):\n",
    "        if(self.currtag =='title'):\n",
    "            self.title = content\n",
    "        if(self.currtag =='author'):\n",
    "            self.author = content\n",
    "        if(self.currtag =='year'):\n",
    "            self.year = content\n",
    "        if(self.currtag=='price'):\n",
    "            self.price = content  \n",
    "    \n",
    "    def endElement(self,tag):\n",
    "        if(tag=='title'):\n",
    "            print \"title:\",self.title\n",
    "        if(tag=='author'):\n",
    "            print \"author:\",self.author\n",
    "        if(tag=='year'):\n",
    "            print \"year:\",self.year\n",
    "        if(tag=='price'):\n",
    "            print \"price:\",self.price  \n",
    "            \n",
    "\n",
    "pobj = xml.sax.make_parser()\n",
    "uhobj = ourhandler()\n",
    "pobj.setContentHandler(uhobj)\n",
    "pobj.parse('book.xml')\n",
    "        "
   ]
  },
  {
   "cell_type": "code",
   "execution_count": null,
   "metadata": {},
   "outputs": [],
   "source": []
  }
 ],
 "metadata": {
  "kernelspec": {
   "display_name": "Python 2",
   "language": "python",
   "name": "python2"
  },
  "language_info": {
   "codemirror_mode": {
    "name": "ipython",
    "version": 2
   },
   "file_extension": ".py",
   "mimetype": "text/x-python",
   "name": "python",
   "nbconvert_exporter": "python",
   "pygments_lexer": "ipython2",
   "version": "2.7.15"
  }
 },
 "nbformat": 4,
 "nbformat_minor": 2
}
