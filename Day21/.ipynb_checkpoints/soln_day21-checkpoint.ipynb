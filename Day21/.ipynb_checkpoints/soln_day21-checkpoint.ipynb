{
 "cells": [
  {
   "cell_type": "markdown",
   "metadata": {},
   "source": [
    "### 1.Write a menu based python script to create a numpy structured array using the given(common folder) emp.csv file\n",
    "    with the following options,\n",
    "   * initialize \n",
    "   * add new record \n",
    "   * delete a record \n",
    "   * Display details by name \n",
    "   * Display summary \n",
    "   * Save All \n",
    "   * Exit \n",
    "\n",
    "        a-Load data from emp.csv to numpy array\n",
    "        b-Get details from user and append it to the existing numpy array\n",
    "        c-Remove an employee record by receiving employee number\n",
    "        d-Display an employee record by receiving ename or employee number\n",
    "        e-Display total number of emplyees and total salary\n",
    "        f-Replace emp.csv with the modified array\n",
    "        g-Quit the program   "
   ]
  },
  {
   "cell_type": "code",
   "execution_count": 2,
   "metadata": {},
   "outputs": [
    {
     "name": "stdout",
     "output_type": "stream",
     "text": [
      "-----MENU-----\n",
      "\t1-Initialize\n",
      "\t2-Add\n",
      "\t3-Delete\n",
      "\t4-Display\n",
      "\t5-Summary\n",
      "\t6-Save\n",
      "\t0-EXIT\n",
      "1\n",
      "-----MENU-----\n",
      "\t1-Initialize\n",
      "\t2-Add\n",
      "\t3-Delete\n",
      "\t4-Display\n",
      "\t5-Summary\n",
      "\t6-Save\n",
      "\t0-EXIT\n",
      "0\n"
     ]
    }
   ],
   "source": [
    "i = 1\n",
    "while (i != 0):\n",
    "    i = input(\"-----MENU-----\\n\\t1-Initialize\\n\\t2-Add\\n\\t3-Delete\\n\\t4-Display\\n\\t5-Summary\\n\\t6-Save\\n\\t0-EXIT\\n\")"
   ]
  },
  {
   "cell_type": "markdown",
   "metadata": {},
   "source": [
    "## Pandas\n",
    "#### 1.import pandas library\n",
    "####\t2.print the verion of pandas\n",
    "####\t3.create a series object having 5 elements\n",
    "####\t4.print all the elements\n",
    "####\t5.print first two elements\n",
    "####\t6.create another series object by supplying string labels as index\n",
    "####\t7.print all the elements/print individual elements\n",
    "####\t8.create a dict object and then  a series object from that dictionary  \n",
    "####\t9.create another dict obj with some common keys (Q.No.8) and then a series obj\n",
    "####\t10.add the two Series objs and print the result."
   ]
  },
  {
   "cell_type": "code",
   "execution_count": 3,
   "metadata": {},
   "outputs": [
    {
     "data": {
      "text/plain": [
       "u'0.21.1'"
      ]
     },
     "execution_count": 3,
     "metadata": {},
     "output_type": "execute_result"
    }
   ],
   "source": [
    "import pandas as pd\n",
    "\n",
    "pd.__version__"
   ]
  },
  {
   "cell_type": "code",
   "execution_count": 5,
   "metadata": {},
   "outputs": [
    {
     "name": "stdout",
     "output_type": "stream",
     "text": [
      "0    1\n",
      "1    2\n",
      "2    3\n",
      "3    4\n",
      "4    5\n",
      "dtype: int64\n"
     ]
    },
    {
     "data": {
      "text/plain": [
       "pandas.core.series.Series"
      ]
     },
     "execution_count": 5,
     "metadata": {},
     "output_type": "execute_result"
    }
   ],
   "source": [
    "from pandas import Series as se\n",
    "\n",
    "l1 = [1,2,3,4,5]\n",
    "s1 = se(l1)\n",
    "\n",
    "print s1\n",
    "type(s1)"
   ]
  },
  {
   "cell_type": "code",
   "execution_count": 6,
   "metadata": {},
   "outputs": [
    {
     "name": "stdout",
     "output_type": "stream",
     "text": [
      "0    1\n",
      "1    2\n",
      "dtype: int64\n"
     ]
    }
   ],
   "source": [
    "print s1[0:2]"
   ]
  },
  {
   "cell_type": "code",
   "execution_count": 8,
   "metadata": {},
   "outputs": [
    {
     "name": "stdout",
     "output_type": "stream",
     "text": [
      "a    1\n",
      "b    2\n",
      "c    3\n",
      "d    4\n",
      "e    5\n",
      "dtype: int64\n"
     ]
    }
   ],
   "source": [
    "s2 = se(l1,index=list('abcde'))\n",
    "print s2"
   ]
  },
  {
   "cell_type": "code",
   "execution_count": 9,
   "metadata": {},
   "outputs": [
    {
     "data": {
      "text/plain": [
       "{'four': 4, 'one': 1, 'three': 3, 'two': 2}"
      ]
     },
     "execution_count": 9,
     "metadata": {},
     "output_type": "execute_result"
    }
   ],
   "source": [
    "d1 = dict(one=1,two=2,three=3,four=4)\n",
    "d1"
   ]
  },
  {
   "cell_type": "code",
   "execution_count": 10,
   "metadata": {},
   "outputs": [
    {
     "name": "stdout",
     "output_type": "stream",
     "text": [
      "four     4\n",
      "one      1\n",
      "three    3\n",
      "two      2\n",
      "dtype: int64\n"
     ]
    }
   ],
   "source": [
    "sfd = se(d1)\n",
    "print sfd"
   ]
  },
  {
   "cell_type": "code",
   "execution_count": 11,
   "metadata": {},
   "outputs": [
    {
     "data": {
      "text/plain": [
       "{'four': 44, 'one': 11, 'three': 33, 'two': 22}"
      ]
     },
     "execution_count": 11,
     "metadata": {},
     "output_type": "execute_result"
    }
   ],
   "source": [
    "d2 = dict(one=11,two=22,three=33,four=44)\n",
    "d2"
   ]
  },
  {
   "cell_type": "code",
   "execution_count": 12,
   "metadata": {},
   "outputs": [
    {
     "name": "stdout",
     "output_type": "stream",
     "text": [
      "four     44\n",
      "one      11\n",
      "three    33\n",
      "two      22\n",
      "dtype: int64\n"
     ]
    }
   ],
   "source": [
    "sfd2 = se(d2)\n",
    "print sfd2"
   ]
  },
  {
   "cell_type": "code",
   "execution_count": 13,
   "metadata": {},
   "outputs": [
    {
     "name": "stdout",
     "output_type": "stream",
     "text": [
      "four     48\n",
      "one      12\n",
      "three    36\n",
      "two      24\n",
      "dtype: int64\n"
     ]
    }
   ],
   "source": [
    "print sfd+sfd2"
   ]
  },
  {
   "cell_type": "code",
   "execution_count": null,
   "metadata": {},
   "outputs": [],
   "source": []
  }
 ],
 "metadata": {
  "kernelspec": {
   "display_name": "Python 2",
   "language": "python",
   "name": "python2"
  },
  "language_info": {
   "codemirror_mode": {
    "name": "ipython",
    "version": 2
   },
   "file_extension": ".py",
   "mimetype": "text/x-python",
   "name": "python",
   "nbconvert_exporter": "python",
   "pygments_lexer": "ipython2",
   "version": "2.7.15"
  }
 },
 "nbformat": 4,
 "nbformat_minor": 2
}
