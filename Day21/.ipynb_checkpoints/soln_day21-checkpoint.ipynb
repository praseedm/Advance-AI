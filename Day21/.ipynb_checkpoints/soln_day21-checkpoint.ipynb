{
 "cells": [
  {
   "cell_type": "markdown",
   "metadata": {},
   "source": [
    "### 1.Write a menu based python script to create a numpy structured array using the given(common folder) emp.csv file\n",
    "    with the following options,\n",
    "   * initialize \n",
    "   * add new record \n",
    "   * delete a record \n",
    "   * Display details by eno \n",
    "   * Display summary \n",
    "   * Save All \n",
    "   * Exit \n",
    "\n",
    "        a-Load data from emp.csv to numpy array\n",
    "        b-Get details from user and append it to the existing numpy array\n",
    "        c-Remove an employee record by receiving employee number\n",
    "        d-Display an employee record by receiving ename or employee number\n",
    "        e-Display total number of emplyees and total salary\n",
    "        f-Replace emp.csv with the modified array\n",
    "        g-Quit the program   "
   ]
  },
  {
   "cell_type": "code",
   "execution_count": 23,
   "metadata": {},
   "outputs": [
    {
     "ename": "SyntaxError",
     "evalue": "invalid syntax (<ipython-input-23-a62bbb248793>, line 6)",
     "output_type": "error",
     "traceback": [
      "\u001b[0;36m  File \u001b[0;32m\"<ipython-input-23-a62bbb248793>\"\u001b[0;36m, line \u001b[0;32m6\u001b[0m\n\u001b[0;31m    global datype = np.dtype({'names': ['ename','eno','edesign','esal','ephone'],'formats':['S20','i8','S20','f8','S20']})\u001b[0m\n\u001b[0m                  ^\u001b[0m\n\u001b[0;31mSyntaxError\u001b[0m\u001b[0;31m:\u001b[0m invalid syntax\n"
     ]
    }
   ],
   "source": [
    "import numpy as np\n",
    "\n",
    "\n",
    "def init():\n",
    "    global data\n",
    "    global datype = np.dtype({'names': ['ename','eno','edesign','esal','ephone'],'formats':['S20','i8','S20','f8','S20']})\n",
    "    data = np.loadtxt('emp.csv',delimiter=',',skiprows=1,dtype=datype)\n",
    "\n",
    "def disp():\n",
    "    if(len(data)):\n",
    "        num = input('No?')\n",
    "        print num\n",
    "        res = data[data['eno'] == num]\n",
    "        if(len(res) > 0):\n",
    "            print res\n",
    "        else:\n",
    "            print \"Not found!!\"\n",
    "\n",
    "def addnew():\n",
    "    global data\n",
    "    name = raw_input('Name?')\n",
    "    num = input('No?')\n",
    "    design = raw_input('Design?')\n",
    "    sal = input('Salary?')\n",
    "    phne = '(007)-1234'\n",
    "    new = (name,num,design,sal,phne)\n",
    "    t = np.array([new],dtype=datype)\n",
    "    np.append(data,t[0])\n",
    "    \n",
    "def suma():\n",
    "    print \"Summary => Total no : %s , Total Salary = %s\"%(len(data),data['esal'].sum())\n",
    "        \n",
    "def dall():\n",
    "    print data"
   ]
  },
  {
   "cell_type": "code",
   "execution_count": 24,
   "metadata": {},
   "outputs": [
    {
     "name": "stdout",
     "output_type": "stream",
     "text": [
      "-----MENU-----\n",
      "\t1-Initialize\n",
      "\t2-Add\n",
      "\t3-Delete\n",
      "\t4-Display\n",
      "\t5-Summary\n",
      "\t6-Save\n",
      "\t0-EXIT\n",
      "1\n",
      "-----MENU-----\n",
      "\t1-Initialize\n",
      "\t2-Add\n",
      "\t3-Delete\n",
      "\t4-Display\n",
      "\t5-Summary\n",
      "\t6-Save\n",
      "\t0-EXIT\n",
      "7\n",
      "[('K.Raj', 101, 'scientist',  50000., '(0493)-2287278')\n",
      " ('Mohan Raj M.', 102, 'engineer',  50000., '[0496]-2287278')\n",
      " ('M.Ram', 104, 'scientist',  80000., '(0491)-4287275')\n",
      " ('Ram Kumar', 104, 'scientist',  60000., '(0491)-4287335')\n",
      " ('Mohan Babu K.K.', 106, 'officer',  50000., '{0496}-2387278')\n",
      " ('K.Gopal', 107, 'scientist',  50000., '(0493)-2287278')\n",
      " ('Anil Raj M.', 108, 'engineer',  50000., '{0496]-2287278')\n",
      " ('Amala P.', 201, 'scientist',  70000., '(0498)-9287275')\n",
      " ('Uma ', 204, 'officer',  60000., '(0491)-4287335')\n",
      " ('Suma', 206, 'engineer',  50000., '0496_2387278')]\n",
      "-----MENU-----\n",
      "\t1-Initialize\n",
      "\t2-Add\n",
      "\t3-Delete\n",
      "\t4-Display\n",
      "\t5-Summary\n",
      "\t6-Save\n",
      "\t0-EXIT\n",
      "2\n",
      "Name?nizam\n",
      "No?22\n",
      "Design?2233\n",
      "Salary?123544\n"
     ]
    },
    {
     "ename": "TypeError",
     "evalue": "invalid type promotion",
     "output_type": "error",
     "traceback": [
      "\u001b[0;31m---------------------------------------------------------------------------\u001b[0m",
      "\u001b[0;31mTypeError\u001b[0m                                 Traceback (most recent call last)",
      "\u001b[0;32m<ipython-input-24-d1cfbdd40a0e>\u001b[0m in \u001b[0;36m<module>\u001b[0;34m()\u001b[0m\n\u001b[1;32m      7\u001b[0m         \u001b[0minit\u001b[0m\u001b[0;34m(\u001b[0m\u001b[0;34m)\u001b[0m\u001b[0;34m\u001b[0m\u001b[0m\n\u001b[1;32m      8\u001b[0m     \u001b[0;32melif\u001b[0m\u001b[0;34m(\u001b[0m\u001b[0mi\u001b[0m \u001b[0;34m==\u001b[0m \u001b[0;36m2\u001b[0m\u001b[0;34m)\u001b[0m\u001b[0;34m:\u001b[0m\u001b[0;34m\u001b[0m\u001b[0m\n\u001b[0;32m----> 9\u001b[0;31m         \u001b[0maddnew\u001b[0m\u001b[0;34m(\u001b[0m\u001b[0;34m)\u001b[0m\u001b[0;34m\u001b[0m\u001b[0m\n\u001b[0m\u001b[1;32m     10\u001b[0m     \u001b[0;32melif\u001b[0m\u001b[0;34m(\u001b[0m\u001b[0mi\u001b[0m \u001b[0;34m==\u001b[0m \u001b[0;36m4\u001b[0m\u001b[0;34m)\u001b[0m\u001b[0;34m:\u001b[0m\u001b[0;34m\u001b[0m\u001b[0m\n\u001b[1;32m     11\u001b[0m         \u001b[0mdisp\u001b[0m\u001b[0;34m(\u001b[0m\u001b[0;34m)\u001b[0m\u001b[0;34m\u001b[0m\u001b[0m\n",
      "\u001b[0;32m<ipython-input-1-b67ec6f11b52>\u001b[0m in \u001b[0;36maddnew\u001b[0;34m()\u001b[0m\n\u001b[1;32m     25\u001b[0m     \u001b[0mphne\u001b[0m \u001b[0;34m=\u001b[0m \u001b[0;34m'(007)-1234'\u001b[0m\u001b[0;34m\u001b[0m\u001b[0m\n\u001b[1;32m     26\u001b[0m     \u001b[0mnew\u001b[0m \u001b[0;34m=\u001b[0m \u001b[0;34m(\u001b[0m\u001b[0mname\u001b[0m\u001b[0;34m,\u001b[0m\u001b[0mnum\u001b[0m\u001b[0;34m,\u001b[0m\u001b[0mdesign\u001b[0m\u001b[0;34m,\u001b[0m\u001b[0msal\u001b[0m\u001b[0;34m,\u001b[0m\u001b[0mphne\u001b[0m\u001b[0;34m)\u001b[0m\u001b[0;34m\u001b[0m\u001b[0m\n\u001b[0;32m---> 27\u001b[0;31m     \u001b[0mnp\u001b[0m\u001b[0;34m.\u001b[0m\u001b[0mappend\u001b[0m\u001b[0;34m(\u001b[0m\u001b[0mdata\u001b[0m\u001b[0;34m,\u001b[0m\u001b[0mnew\u001b[0m\u001b[0;34m)\u001b[0m\u001b[0;34m\u001b[0m\u001b[0m\n\u001b[0m\u001b[1;32m     28\u001b[0m \u001b[0;34m\u001b[0m\u001b[0m\n\u001b[1;32m     29\u001b[0m \u001b[0;32mdef\u001b[0m \u001b[0msuma\u001b[0m\u001b[0;34m(\u001b[0m\u001b[0;34m)\u001b[0m\u001b[0;34m:\u001b[0m\u001b[0;34m\u001b[0m\u001b[0m\n",
      "\u001b[0;32m/opt/anaconda2/lib/python2.7/site-packages/numpy/lib/function_base.pyc\u001b[0m in \u001b[0;36mappend\u001b[0;34m(arr, values, axis)\u001b[0m\n\u001b[1;32m   5150\u001b[0m         \u001b[0mvalues\u001b[0m \u001b[0;34m=\u001b[0m \u001b[0mravel\u001b[0m\u001b[0;34m(\u001b[0m\u001b[0mvalues\u001b[0m\u001b[0;34m)\u001b[0m\u001b[0;34m\u001b[0m\u001b[0m\n\u001b[1;32m   5151\u001b[0m         \u001b[0maxis\u001b[0m \u001b[0;34m=\u001b[0m \u001b[0marr\u001b[0m\u001b[0;34m.\u001b[0m\u001b[0mndim\u001b[0m\u001b[0;34m-\u001b[0m\u001b[0;36m1\u001b[0m\u001b[0;34m\u001b[0m\u001b[0m\n\u001b[0;32m-> 5152\u001b[0;31m     \u001b[0;32mreturn\u001b[0m \u001b[0mconcatenate\u001b[0m\u001b[0;34m(\u001b[0m\u001b[0;34m(\u001b[0m\u001b[0marr\u001b[0m\u001b[0;34m,\u001b[0m \u001b[0mvalues\u001b[0m\u001b[0;34m)\u001b[0m\u001b[0;34m,\u001b[0m \u001b[0maxis\u001b[0m\u001b[0;34m=\u001b[0m\u001b[0maxis\u001b[0m\u001b[0;34m)\u001b[0m\u001b[0;34m\u001b[0m\u001b[0m\n\u001b[0m",
      "\u001b[0;31mTypeError\u001b[0m: invalid type promotion"
     ]
    }
   ],
   "source": [
    "\n",
    "\n",
    "i = 1\n",
    "while (i != 0):\n",
    "    i = input(\"-----MENU-----\\n\\t1-Initialize\\n\\t2-Add\\n\\t3-Delete\\n\\t4-Display\\n\\t5-Summary\\n\\t6-Save\\n\\t0-EXIT\\n\")\n",
    "    if(i == 1):\n",
    "        init()\n",
    "    elif(i == 2):\n",
    "        addnew()    \n",
    "    elif(i == 4):\n",
    "        disp()\n",
    "    elif(i == 5):\n",
    "        suma()  \n",
    "    elif(i == 7):\n",
    "        dall()\n",
    "        "
   ]
  },
  {
   "cell_type": "code",
   "execution_count": 22,
   "metadata": {},
   "outputs": [
    {
     "data": {
      "text/plain": [
       "array([('K.Raj', 101, 'scientist',  50000., '(0493)-2287278'),\n",
       "       ('Mohan Raj M.', 102, 'engineer',  50000., '[0496]-2287278'),\n",
       "       ('M.Ram', 104, 'scientist',  80000., '(0491)-4287275'),\n",
       "       ('Ram Kumar', 104, 'scientist',  60000., '(0491)-4287335'),\n",
       "       ('Mohan Babu K.K.', 106, 'officer',  50000., '{0496}-2387278'),\n",
       "       ('K.Gopal', 107, 'scientist',  50000., '(0493)-2287278'),\n",
       "       ('Anil Raj M.', 108, 'engineer',  50000., '{0496]-2287278'),\n",
       "       ('Amala P.', 201, 'scientist',  70000., '(0498)-9287275'),\n",
       "       ('Uma ', 204, 'officer',  60000., '(0491)-4287335'),\n",
       "       ('Suma', 206, 'engineer',  50000., '0496_2387278'),\n",
       "       ('K.Raj', 101, 'scientist',  50000., '(0493)-2287278')],\n",
       "      dtype=[('ename', 'S20'), ('eno', '<i8'), ('edesign', 'S20'), ('esal', '<f8'), ('ephone', 'S20')])"
      ]
     },
     "execution_count": 22,
     "metadata": {},
     "output_type": "execute_result"
    }
   ],
   "source": [
    "datype = np.dtype({'names': ['ename','eno','edesign','esal','ephone'],'formats':['S20','i8','S20','f8','S20']})\n",
    "t = np.array([('K.Raj', 101, 'scientist',  50000., '(0493)-2287278')],dtype=datype)\n",
    "np.append(data2,t[0])\n"
   ]
  },
  {
   "cell_type": "markdown",
   "metadata": {},
   "source": [
    "## Pandas\n",
    "#### 1.import pandas library\n",
    "####\t2.print the verion of pandas\n",
    "####\t3.create a series object having 5 elements\n",
    "####\t4.print all the elements\n",
    "####\t5.print first two elements\n",
    "####\t6.create another series object by supplying string labels as index\n",
    "####\t7.print all the elements/print individual elements\n",
    "####\t8.create a dict object and then  a series object from that dictionary  \n",
    "####\t9.create another dict obj with some common keys (Q.No.8) and then a series obj\n",
    "####\t10.add the two Series objs and print the result."
   ]
  },
  {
   "cell_type": "code",
   "execution_count": 3,
   "metadata": {},
   "outputs": [
    {
     "data": {
      "text/plain": [
       "u'0.21.1'"
      ]
     },
     "execution_count": 3,
     "metadata": {},
     "output_type": "execute_result"
    }
   ],
   "source": [
    "import pandas as pd\n",
    "\n",
    "pd.__version__"
   ]
  },
  {
   "cell_type": "code",
   "execution_count": 5,
   "metadata": {},
   "outputs": [
    {
     "name": "stdout",
     "output_type": "stream",
     "text": [
      "0    1\n",
      "1    2\n",
      "2    3\n",
      "3    4\n",
      "4    5\n",
      "dtype: int64\n"
     ]
    },
    {
     "data": {
      "text/plain": [
       "pandas.core.series.Series"
      ]
     },
     "execution_count": 5,
     "metadata": {},
     "output_type": "execute_result"
    }
   ],
   "source": [
    "from pandas import Series as se\n",
    "\n",
    "l1 = [1,2,3,4,5]\n",
    "s1 = se(l1)\n",
    "\n",
    "print s1\n",
    "type(s1)"
   ]
  },
  {
   "cell_type": "code",
   "execution_count": 6,
   "metadata": {},
   "outputs": [
    {
     "name": "stdout",
     "output_type": "stream",
     "text": [
      "0    1\n",
      "1    2\n",
      "dtype: int64\n"
     ]
    }
   ],
   "source": [
    "print s1[0:2]"
   ]
  },
  {
   "cell_type": "code",
   "execution_count": 8,
   "metadata": {},
   "outputs": [
    {
     "name": "stdout",
     "output_type": "stream",
     "text": [
      "a    1\n",
      "b    2\n",
      "c    3\n",
      "d    4\n",
      "e    5\n",
      "dtype: int64\n"
     ]
    }
   ],
   "source": [
    "s2 = se(l1,index=list('abcde'))\n",
    "print s2"
   ]
  },
  {
   "cell_type": "code",
   "execution_count": 9,
   "metadata": {},
   "outputs": [
    {
     "data": {
      "text/plain": [
       "{'four': 4, 'one': 1, 'three': 3, 'two': 2}"
      ]
     },
     "execution_count": 9,
     "metadata": {},
     "output_type": "execute_result"
    }
   ],
   "source": [
    "d1 = dict(one=1,two=2,three=3,four=4)\n",
    "d1"
   ]
  },
  {
   "cell_type": "code",
   "execution_count": 10,
   "metadata": {},
   "outputs": [
    {
     "name": "stdout",
     "output_type": "stream",
     "text": [
      "four     4\n",
      "one      1\n",
      "three    3\n",
      "two      2\n",
      "dtype: int64\n"
     ]
    }
   ],
   "source": [
    "sfd = se(d1)\n",
    "print sfd"
   ]
  },
  {
   "cell_type": "code",
   "execution_count": 11,
   "metadata": {},
   "outputs": [
    {
     "data": {
      "text/plain": [
       "{'four': 44, 'one': 11, 'three': 33, 'two': 22}"
      ]
     },
     "execution_count": 11,
     "metadata": {},
     "output_type": "execute_result"
    }
   ],
   "source": [
    "d2 = dict(one=11,two=22,three=33,four=44)\n",
    "d2"
   ]
  },
  {
   "cell_type": "code",
   "execution_count": 12,
   "metadata": {},
   "outputs": [
    {
     "name": "stdout",
     "output_type": "stream",
     "text": [
      "four     44\n",
      "one      11\n",
      "three    33\n",
      "two      22\n",
      "dtype: int64\n"
     ]
    }
   ],
   "source": [
    "sfd2 = se(d2)\n",
    "print sfd2"
   ]
  },
  {
   "cell_type": "code",
   "execution_count": 13,
   "metadata": {},
   "outputs": [
    {
     "name": "stdout",
     "output_type": "stream",
     "text": [
      "four     48\n",
      "one      12\n",
      "three    36\n",
      "two      24\n",
      "dtype: int64\n"
     ]
    }
   ],
   "source": [
    "print sfd+sfd2"
   ]
  },
  {
   "cell_type": "code",
   "execution_count": null,
   "metadata": {},
   "outputs": [],
   "source": []
  }
 ],
 "metadata": {
  "kernelspec": {
   "display_name": "Python 2",
   "language": "python",
   "name": "python2"
  },
  "language_info": {
   "codemirror_mode": {
    "name": "ipython",
    "version": 2
   },
   "file_extension": ".py",
   "mimetype": "text/x-python",
   "name": "python",
   "nbconvert_exporter": "python",
   "pygments_lexer": "ipython2",
   "version": "2.7.15"
  }
 },
 "nbformat": 4,
 "nbformat_minor": 2
}
