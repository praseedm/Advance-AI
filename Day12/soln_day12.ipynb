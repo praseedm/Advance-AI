{
 "cells": [
  {
   "cell_type": "markdown",
   "metadata": {},
   "source": [
    "### use dom parsing to solve the following:\n",
    "\n",
    "I.Create a text file named book1  and store the values from the given xml file(book.xml).\n",
    "   Each line in the text file should have the following format.\n",
    "\n",
    "    1.The book Think Python belongs to python category and is written by AB downy.\n",
    "      This book is published in the year 2015 with a price of 300. \n",
    "\n",
    "    2.The book Def Guide belongs to hadoop category and is written by Tom White.\n",
    "      This book is published in the year 2015 with a price of 900. \n",
    "\t.\n",
    "\t.\n",
    "\t.\n",
    "    \n",
    "II.Using DOM tree traversal create a generic xml parser.\n",
    "\t(test your script for xml files in common/XML_SAMPLE_FILEs )"
   ]
  },
  {
   "cell_type": "code",
   "execution_count": 18,
   "metadata": {},
   "outputs": [
    {
     "name": "stdout",
     "output_type": "stream",
     "text": [
      "1.The book Think Python belongs to python category and is written by python.\n",
      "    The book is published in the year 2015 with a price of 300.\n",
      "2.The book Def Guide belongs to hadoop category and is written by hadoop.\n",
      "    The book is published in the year 2015 with a price of 900.\n",
      "3.The book Let us cpp belongs to CPP category and is written by CPP.\n",
      "    The book is published in the year 2010 with a price of 349.\n",
      "4.The book Design of Unix OS belongs to unix category and is written by unix.\n",
      "    The book is published in the year 2003 with a price of 839.\n",
      "\n"
     ]
    }
   ],
   "source": [
    "import xml.dom.minidom as dm\n",
    "\n",
    "content = \"\"\n",
    "dtree = dm.parse('book.xml')\n",
    "\n",
    "books = dtree.getElementsByTagName(\"book\")\n",
    "i=1\n",
    "for book in books:\n",
    "    cat = book.getAttribute(\"category\")\n",
    "    title = book.getElementsByTagName(\"title\")[0].firstChild.data\n",
    "    author = book.getElementsByTagName(\"author\")[0].firstChild.data\n",
    "    year = book.getElementsByTagName(\"year\")[0].firstChild.data\n",
    "    price = book.getElementsByTagName(\"price\")[0].firstChild.data\n",
    "    para = \"%d.The book %s belongs to %s category and is written by %s.\\n    The book is published in the year %s with a price of %s.\\n\"%(i,title,cat,cat,year,price)\n",
    "    content += para\n",
    "    i += 1\n",
    "\n",
    "print content \n",
    "    \n",
    "f=open('book1.txt','w')\n",
    "f.write(content)\n",
    "f.close()"
   ]
  },
  {
   "cell_type": "markdown",
   "metadata": {},
   "source": [
    "### Generic parser"
   ]
  },
  {
   "cell_type": "code",
   "execution_count": 22,
   "metadata": {},
   "outputs": [
    {
     "name": "stdout",
     "output_type": "stream",
     "text": [
      "note  :  \n",
      "\n",
      "to  :  Tove\n",
      "note  :  \n",
      "\n",
      "from  :  Jani\n",
      "note  :  \n",
      "\n",
      "heading  :  Reminder\n",
      "note  :  \n",
      "\n",
      "body  :  Don't forget me this weekend!\n",
      "note  :  \n",
      "\n"
     ]
    }
   ],
   "source": [
    "dtree = dm.parse('note.xml')\n",
    "\n",
    "root_n = dtree.documentElement\n",
    "\n",
    "def parse(node):\n",
    "    if node.nodeType == 3:\n",
    "        print node.parentNode.nodeName,\" : \",node.nodeValue\n",
    "    else:\n",
    "        for ch in node.childNodes:\n",
    "            parse(ch)\n",
    "\n",
    "\n",
    "parse(root_n)\n"
   ]
  },
  {
   "cell_type": "code",
   "execution_count": null,
   "metadata": {},
   "outputs": [],
   "source": []
  }
 ],
 "metadata": {
  "kernelspec": {
   "display_name": "Python 2",
   "language": "python",
   "name": "python2"
  },
  "language_info": {
   "codemirror_mode": {
    "name": "ipython",
    "version": 2
   },
   "file_extension": ".py",
   "mimetype": "text/x-python",
   "name": "python",
   "nbconvert_exporter": "python",
   "pygments_lexer": "ipython2",
   "version": "2.7.15"
  }
 },
 "nbformat": 4,
 "nbformat_minor": 2
}
