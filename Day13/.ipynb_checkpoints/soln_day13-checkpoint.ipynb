{
 "cells": [
  {
   "cell_type": "markdown",
   "metadata": {},
   "source": [
    "### 1. Create a csv file emp.csv that contains the following data,\n",
    "    eno,ename,edesig,esalary\n",
    "    101,Anil,scientist,50000\n",
    "    102,Mary,scieltist,55000\n",
    "    103,Raju,engineer,60000\n",
    "    104,Ravi,officer,40000\n",
    "   write a script to create an xml file from the above data.\n",
    "   (employee can be made as root node)\n"
   ]
  },
  {
   "cell_type": "code",
   "execution_count": null,
   "metadata": {},
   "outputs": [],
   "source": [
    "f = open(\"emp.csv\")\n",
    "\n",
    "ele = f.readline()\n",
    "#print ele.split(',')\n",
    "#while (f):\n",
    "#    d = f.readline()\n",
    "#    print d"
   ]
  },
  {
   "cell_type": "markdown",
   "metadata": {},
   "source": [
    "### 2. Write a script to create a table in mysql database using the data of emp.csv\n",
    "\n",
    "   (table names can be chosen as emp_ai01,emp_ai02 etc for users AI01,AI02 etc)\n",
    "\t\n",
    "\tserver- localhost / 127.0.0.1\n",
    "\tusername - {will be given}\n",
    "\tpassword - {will be given}\n",
    "    database - {will be given}\t "
   ]
  },
  {
   "cell_type": "code",
   "execution_count": null,
   "metadata": {},
   "outputs": [],
   "source": []
  }
 ],
 "metadata": {
  "kernelspec": {
   "display_name": "Python 2",
   "language": "python",
   "name": "python2"
  },
  "language_info": {
   "codemirror_mode": {
    "name": "ipython",
    "version": 2
   },
   "file_extension": ".py",
   "mimetype": "text/x-python",
   "name": "python",
   "nbconvert_exporter": "python",
   "pygments_lexer": "ipython2",
   "version": "2.7.15"
  }
 },
 "nbformat": 4,
 "nbformat_minor": 2
}
