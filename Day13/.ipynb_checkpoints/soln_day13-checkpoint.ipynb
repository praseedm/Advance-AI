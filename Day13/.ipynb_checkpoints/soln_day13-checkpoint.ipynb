{
 "cells": [
  {
   "cell_type": "markdown",
   "metadata": {},
   "source": [
    "### 1. Create a csv file emp.csv that contains the following data,\n",
    "    eno,ename,edesig,esalary\n",
    "    101,Anil,scientist,50000\n",
    "    102,Mary,scieltist,55000\n",
    "    103,Raju,engineer,60000\n",
    "    104,Ravi,officer,40000\n",
    "   write a script to create an xml file from the above data.\n",
    "   (employee can be made as root node)\n"
   ]
  },
  {
   "cell_type": "code",
   "execution_count": 49,
   "metadata": {},
   "outputs": [],
   "source": [
    "import xml.dom.minidom as dm\n",
    "\n",
    "f = open(\"emp.csv\")\n",
    "\n",
    "content = f.readlines()\n",
    "elements = content[0].strip().split(',')\n",
    "\n",
    "\n",
    "doc = dm.Document()\n",
    "\n",
    "\n",
    "root = doc.createElement('root')\n",
    "\n",
    "for c in content[1:]:\n",
    "    datas = c.strip().split(',')\n",
    "    emp = doc.createElement('employee')\n",
    "    i=0\n",
    "    for data in datas:\n",
    "        child = doc.createElement(elements[i])\n",
    "        child.appendChild(doc.createTextNode(data))\n",
    "        emp.appendChild(child)    \n",
    "        i +=1\n",
    "    root.appendChild(emp)\n",
    "    \n",
    "doc.appendChild(root)\n",
    "\n",
    "fd = open('employee.xml','w')\n",
    "\n",
    "doc.writexml(fd)\n",
    "    "
   ]
  },
  {
   "cell_type": "markdown",
   "metadata": {},
   "source": [
    "### 2. Write a script to create a table in mysql database using the data of emp.csv\n",
    "\n",
    "   (table names can be chosen as emp_ai01,emp_ai02 etc for users AI01,AI02 etc)\n",
    "\t\n",
    "\tserver- localhost / 127.0.0.1\n",
    "\tusername - {will be given}\n",
    "\tpassword - {will be given}\n",
    "    database - {will be given}\t "
   ]
  },
  {
   "cell_type": "code",
   "execution_count": 12,
   "metadata": {},
   "outputs": [
    {
     "name": "stdout",
     "output_type": "stream",
     "text": [
      "hai\n"
     ]
    }
   ],
   "source": [
    "import MySQLdb as db\n",
    "\n",
    "f = open(\"emp.csv\")\n",
    "\n",
    "content = f.readlines()\n",
    "\n",
    "try:\n",
    "    connection = db.connect('127.0.0.1','ai','ai','ai')\n",
    "    cursor = connection.cursor()\n",
    "    for c in content[1:]:\n",
    "        datas = c.strip().split(',')\n",
    "        q = 'INSERT INTO emp_ai16 VALUES(%s,\\'%s\\',\\'%s\\',%s)'%(datas[0],datas[1],datas[2],datas[3])\n",
    "        cursor.execute(q)\n",
    "        ### or try this\n",
    "        # q = 'INSERT INTO emp_ai16 VALUES(%s,%s,%s,%s)'\n",
    "        #cursor.execute(q,datas)\n",
    "        ###\n",
    "        connection.commit()\n",
    "except Exception,arg:\n",
    "    print arg\n",
    "else:\n",
    "    print \"hai\"\n",
    "\n",
    "        "
   ]
  },
  {
   "cell_type": "code",
   "execution_count": null,
   "metadata": {},
   "outputs": [],
   "source": []
  }
 ],
 "metadata": {
  "kernelspec": {
   "display_name": "Python 2",
   "language": "python",
   "name": "python2"
  },
  "language_info": {
   "codemirror_mode": {
    "name": "ipython",
    "version": 2
   },
   "file_extension": ".py",
   "mimetype": "text/x-python",
   "name": "python",
   "nbconvert_exporter": "python",
   "pygments_lexer": "ipython2",
   "version": "2.7.15"
  }
 },
 "nbformat": 4,
 "nbformat_minor": 2
}
