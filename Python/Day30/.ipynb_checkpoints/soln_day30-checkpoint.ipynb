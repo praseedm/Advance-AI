{
 "cells": [
  {
   "cell_type": "markdown",
   "metadata": {},
   "source": [
    "## 1.In Tom's icecream shop,he observed and drawn a chart for the number of hours of sunshine vs  the number of icecreams sold as follows.\n",
    "\n",
    "\thours of sunshine\ticecreams sold\n",
    "\t2\t\t\t4\n",
    "\t3\t\t\t5\n",
    "\t5\t\t\t7\n",
    "\t7\t\t\t10\n",
    "\t9\t\t\t15 \n",
    "\n",
    "##\tDraw a line of best fit for the above."
   ]
  },
  {
   "cell_type": "code",
   "execution_count": 2,
   "metadata": {},
   "outputs": [
    {
     "name": "stdout",
     "output_type": "stream",
     "text": [
      "[ 1.51829268  0.30487805]\n"
     ]
    }
   ],
   "source": [
    "import scipy.optimize as spo\n",
    "import numpy as np\n",
    "\n",
    "function = lambda m,x,c: m*x+c\n",
    "\n",
    "x = np.array([2,3,5,7,9])\n",
    "y = np.array([4,5,7,10,15])\n",
    "\n",
    "popt,pcov = spo.curve_fit(function,x,y)\n",
    "print popt ## m , c"
   ]
  },
  {
   "cell_type": "code",
   "execution_count": 5,
   "metadata": {},
   "outputs": [
    {
     "data": {
      "image/png": "[encoded data removed]",
      "text/plain": [
       "<Figure size 432x288 with 1 Axes>"
      ]
     },
     "metadata": {},
     "output_type": "display_data"
    }
   ],
   "source": [
    "import scipy as sp\n",
    "import matplotlib.pyplot as plt\n",
    "\n",
    "vfn = sp.vectorize(function)\n",
    "cy = vfn(popt[0],x,popt[1])\n",
    "\n",
    "plt.plot(x,y,'r:o',label='observed')\n",
    "plt.plot(x,cy,'b-v',label='calculated')\n",
    "plt.legend(loc='best')\n",
    "plt.show()"
   ]
  },
  {
   "cell_type": "markdown",
   "metadata": {},
   "source": [
    "## 2.Draw an animated bar chart for the sales of four mobile brands\n",
    "\n",
    "\tbrand \tinitial stock\n",
    "\tsony\t50\n",
    "\tmi\t50\n",
    "\tlg\t50\n",
    "\tAsus\t50\n",
    "\n",
    "###\t Upon starting the program the sales qty will be 0s and hence the bar heights are 0s.max height of the bar may be 50(should be shown in Y) the program should collect the sales of each item (via mysql/text file/etc.)and should update the graph.\n",
    "\t"
   ]
  },
  {
   "cell_type": "code",
   "execution_count": null,
   "metadata": {},
   "outputs": [],
   "source": [
    "## use plt.pause , plt.cla "
   ]
  }
 ],
 "metadata": {
  "kernelspec": {
   "display_name": "Python 2",
   "language": "python",
   "name": "python2"
  },
  "language_info": {
   "codemirror_mode": {
    "name": "ipython",
    "version": 2
   },
   "file_extension": ".py",
   "mimetype": "text/x-python",
   "name": "python",
   "nbconvert_exporter": "python",
   "pygments_lexer": "ipython2",
   "version": "2.7.15"
  }
 },
 "nbformat": 4,
 "nbformat_minor": 2
}
