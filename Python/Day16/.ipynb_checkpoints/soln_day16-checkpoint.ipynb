{
 "cells": [
  {
   "cell_type": "markdown",
   "metadata": {},
   "source": [
    "## \t1. Develop a calculator application using Tkinter."
   ]
  },
  {
   "cell_type": "code",
   "execution_count": 21,
   "metadata": {},
   "outputs": [],
   "source": [
    "from Tkinter import *\n",
    "\n",
    "dis_msg = ''\n",
    "\n",
    "def bhan(arg):\n",
    "    global dis_msg\n",
    "    \n",
    "    if  arg == '=':\n",
    "        t1.set(str(eval(dis_msg)))\n",
    "    elif arg == 'ce':\n",
    "        dis_msg =''\n",
    "        t1.set('cleared')\n",
    "    else:\n",
    "        dis_msg += arg\n",
    "        t1.set(dis_msg)\n",
    "    \n",
    "\n",
    "mwin = Tk()\n",
    "mwin.title(\"My Calc\")\n",
    "#text area as display\n",
    "t1=StringVar()\n",
    "e1=Entry(mwin,textvariable=t1)\n",
    "e1.grid(row=0,column=0,columnspan=4)\n",
    "\n",
    "# Buttons\n",
    "b1=Button(mwin,text='1',command=lambda: bhan('1'))\n",
    "b2=Button(mwin,text='2',command=lambda: bhan('2'))\n",
    "b3=Button(mwin,text='3',command=lambda: bhan('3') )\n",
    "b4=Button(mwin,text='4',command=lambda: bhan('4'))\n",
    "bp=Button(mwin,text='+',command=lambda: bhan('+'))\n",
    "bm=Button(mwin,text='-',command=lambda: bhan('-'))\n",
    "bclr=Button(mwin,text='CE',command=lambda: bhan('ce'))\n",
    "be=Button(mwin,text='=',command=lambda: bhan('='))\n",
    "\n",
    "b1.grid(row=1,column=0)\n",
    "b2.grid(row=1,column=1)\n",
    "b3.grid(row=2,column=0)\n",
    "b4.grid(row=2,column=1)\n",
    "bp.grid(row=1,column=2)\n",
    "bm.grid(row=1,column=3)\n",
    "bclr.grid(row=2,column=2)\n",
    "be.grid(row=2,column=3)\n",
    "\n",
    "mwin.mainloop()\n",
    "\n"
   ]
  },
  {
   "cell_type": "markdown",
   "metadata": {},
   "source": [
    "* more on lambda functions (https://pythonconquerstheuniverse.wordpress.com/2011/08/29/lambda_tutorial/)"
   ]
  },
  {
   "cell_type": "markdown",
   "metadata": {},
   "source": [
    "## 2. Create a GUI interface for inserting and retrieving data from a MySQL table of your own choice"
   ]
  },
  {
   "cell_type": "code",
   "execution_count": null,
   "metadata": {},
   "outputs": [],
   "source": []
  }
 ],
 "metadata": {
  "kernelspec": {
   "display_name": "Python 2",
   "language": "python",
   "name": "python2"
  },
  "language_info": {
   "codemirror_mode": {
    "name": "ipython",
    "version": 2
   },
   "file_extension": ".py",
   "mimetype": "text/x-python",
   "name": "python",
   "nbconvert_exporter": "python",
   "pygments_lexer": "ipython2",
   "version": "2.7.15"
  }
 },
 "nbformat": 4,
 "nbformat_minor": 2
}
