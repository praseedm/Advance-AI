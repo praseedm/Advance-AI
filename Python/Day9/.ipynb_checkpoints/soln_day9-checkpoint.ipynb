{
 "cells": [
  {
   "cell_type": "markdown",
   "metadata": {},
   "source": [
    "### Write a program to store,display vector quantities. Also, define + operator for vectors."
   ]
  },
  {
   "cell_type": "code",
   "execution_count": 3,
   "metadata": {},
   "outputs": [
    {
     "name": "stdout",
     "output_type": "stream",
     "text": [
      "vector : (3.000,2.000)\n",
      "vector : (2.000,3.000)\n",
      "vector : (5.000,5.000)\n"
     ]
    }
   ],
   "source": [
    "class vector:\n",
    "    def __init__(self,px,py):\n",
    "        self.x = px\n",
    "        self.y = py\n",
    "    def display(self):\n",
    "        print \"vector : (%.3f,%.3f)\"%(self.x,self.y)\n",
    "    def __add__(self,v2):\n",
    "        return vector(self.x+v2.x, self.y+v2.y )\n",
    "        \n",
    "s1= vector(3,2)\n",
    "s2 = vector(2,3)\n",
    "s3 = s1+s2\n",
    "s1.display()\n",
    "s2.display()\n",
    "s3.display()"
   ]
  },
  {
   "cell_type": "markdown",
   "metadata": {},
   "source": [
    "### 2. Write a program to store,display complex numbers. Also, define + operator for two complex numbers.\n",
    "\t(a+bi) + (c+di) = (a+c) + (b+d)i"
   ]
  },
  {
   "cell_type": "code",
   "execution_count": 10,
   "metadata": {},
   "outputs": [
    {
     "name": "stdout",
     "output_type": "stream",
     "text": [
      "complex : (32.000+21.000i)\n",
      "complex : (21.000+32.000i)\n",
      "complex : (53.000+53.000i)\n"
     ]
    }
   ],
   "source": [
    "class mycomplex:\n",
    "    def __init__(self,pa,pb):\n",
    "        self.a = pa\n",
    "        self.b = pb\n",
    "    def display(self):\n",
    "        print \"complex : (%.3f+%.3fi)\"%(self.a,self.b)\n",
    "    def __add__(self,v2):\n",
    "        return mycomplex(self.a+v2.a, self.b+v2.b )\n",
    "    \n",
    "s1= mycomplex(32,21)\n",
    "s2 = mycomplex(21,32)\n",
    "s3 = s1+s2\n",
    "s1.display()\n",
    "s2.display()\n",
    "s3.display()    "
   ]
  },
  {
   "cell_type": "markdown",
   "metadata": {},
   "source": [
    "### 3. Modify the above program to define * for multiplication of two complex numbers.\n",
    "\n",
    "\tExample (3 + 2i) * (1 + 7i)\n",
    "\n",
    "\t(3 + 2i) * (1 + 7i)= 3×1 + 3×7i + 2i×1+ 2i×7i\t \n",
    " \t \t\t   = 3 + 21i + 2i + 14i2\t \n",
    " \t \t\t   = 3 + 21i + 2i - 14\t(because i2 = -1)\n",
    " \t \t\t   = -11 + 23i\t \n",
    "\n",
    "\n",
    "\t OR\n",
    "\n",
    "\tExample: (3 + 2i) * (1 + 7i) = (3×1 - 2×7) + (3×7 + 2×1)i = -11 + 23i"
   ]
  },
  {
   "cell_type": "code",
   "execution_count": 11,
   "metadata": {},
   "outputs": [
    {
     "name": "stdout",
     "output_type": "stream",
     "text": [
      "complex : (3.000+2.000i)\n",
      "complex : (1.000+7.000i)\n",
      "complex : (-11.000+23.000i)\n"
     ]
    }
   ],
   "source": [
    "class mycomplex:\n",
    "    def __init__(self,pa,pb):\n",
    "        self.a = pa\n",
    "        self.b = pb\n",
    "    def display(self):\n",
    "        print \"complex : (%.3f+%.3fi)\"%(self.a,self.b)\n",
    "    def __add__(self,v2):\n",
    "        return mycomplex(self.a+v2.a, self.b+v2.b )\n",
    "    def __mul__(self,v2):\n",
    "        return mycomplex((self.a*v2.a)+(-1*self.b*v2.b), (self.b*v2.a)+(self.a*v2.b) )\n",
    "    \n",
    "s1= mycomplex(3,2)\n",
    "s2 = mycomplex(1,7)\n",
    "s3 = s1*s2\n",
    "s1.display()\n",
    "s2.display()\n",
    "s3.display()   "
   ]
  },
  {
   "cell_type": "markdown",
   "metadata": {},
   "source": [
    "### 4. Write a program to create and show different categories of Vehicles from a vehicle abstract class\n",
    "\n",
    "\t2.1 Create a base class vehcle to store nameofowner,vehno,noofwheels,presentvalue,yearofmake,buyingprice\n",
    "\t2.2 Create  derived classes - car,bus and truck with different mode of calculating present value\n",
    "\t    2.2.1 for a car, every year, the value is decreasing by an amount of Rs.5000.   \n",
    "\t    2.2.2 for a bus, every year, the value is decreasing by an amount of Rs.1000.\t \n",
    "\t    2.2.3 for a truck, every year, the value is decreasing by an amount of Rs.12000."
   ]
  },
  {
   "cell_type": "code",
   "execution_count": 23,
   "metadata": {},
   "outputs": [
    {
     "name": "stdout",
     "output_type": "stream",
     "text": [
      "owner?nandu\n",
      "yearofmake?2017\n",
      "buyingprice in tousands?13\n",
      " --- info ---\n",
      "Type: truck, Vno : 101, owner : nandu,\n",
      "Noofwheels : 10, yearofmake : 2017, \n",
      "price : 13000, presentVal : 1000 \n"
     ]
    }
   ],
   "source": [
    "class vehicle:\n",
    "    no = 100\n",
    "    def __init__(self):\n",
    "        vehicle.no += 1\n",
    "        self.vowner = raw_input(\"owner?\")\n",
    "        self.vno = vehicle.no\n",
    "        self.vym = input(\"yearofmake?\")\n",
    "        self.vbp = input(\"buyingprice in tousands?\") * 1000\n",
    "        self.vpv = self.vbp \n",
    "        \n",
    "    def display(self):\n",
    "        print \" --- info ---\\nType: %s, Vno : %s, owner : %s,\\nNoofwheels : %s, yearofmake : %d, \\nprice : %d, presentVal : %d \"%(self.type,self.vno,self.vowner,self.vwheels,self.vym,self.vbp,self.vpv)\n",
    "\n",
    "class car(vehicle):\n",
    "    def __init__(self):\n",
    "        self.type = \"car\"\n",
    "        self.vwheels = 4\n",
    "        vehicle.__init__(self)\n",
    "    def cal_pv(self):\n",
    "        self.vpv = self.vbp - (2018 - self.vym) * 5000\n",
    "        \n",
    "class bus(vehicle):\n",
    "    def __init__(self):\n",
    "        self.type = \"bus\"\n",
    "        self.vwheels = 6\n",
    "        vehicle.__init__(self)\n",
    "    def cal_pv(self):\n",
    "        self.vpv = self.vbp - (2018 - self.vym) * 1000\n",
    "        \n",
    "class truck(vehicle):\n",
    "    def __init__(self):\n",
    "        self.type = \"truck\"\n",
    "        self.vwheels = 10\n",
    "        vehicle.__init__(self)\n",
    "    def cal_pv(self):\n",
    "        self.vpv = self.vbp - (2018 - self.vym) * 12000\n",
    "        \n",
    "        \n",
    "v1 = truck()\n",
    "v1.cal_pv()\n",
    "v1.display()\n",
    "        "
   ]
  },
  {
   "cell_type": "code",
   "execution_count": null,
   "metadata": {},
   "outputs": [],
   "source": []
  }
 ],
 "metadata": {
  "kernelspec": {
   "display_name": "Python 2",
   "language": "python",
   "name": "python2"
  },
  "language_info": {
   "codemirror_mode": {
    "name": "ipython",
    "version": 2
   },
   "file_extension": ".py",
   "mimetype": "text/x-python",
   "name": "python",
   "nbconvert_exporter": "python",
   "pygments_lexer": "ipython2",
   "version": "2.7.15"
  }
 },
 "nbformat": 4,
 "nbformat_minor": 2
}
