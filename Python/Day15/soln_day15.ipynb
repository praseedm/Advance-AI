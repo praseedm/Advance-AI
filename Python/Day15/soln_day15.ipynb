{
 "cells": [
  {
   "cell_type": "markdown",
   "metadata": {},
   "source": [
    "### Create a module that contains functions for performing the following(use re).\n",
    " (Slno 1 to 6 should return boolean )"
   ]
  },
  {
   "cell_type": "markdown",
   "metadata": {},
   "source": [
    "### Module\n",
    " * **IsInteger** - Should take one parameter as string and should contain integer for True else False. \n",
    " * **IsFloat** - Should take one parameter as string and if it contains a float return True else False.\n",
    " * **HasVowel** - supplied string should contain at least one vowel char for True else False.\n",
    " * **IsHex** - supplied string should contain only hex digits,if so True else False.\n",
    " * **IsDate** - True if given a date in DD-MM-YYYY format.\n",
    " * **IsValidPassword** - True is the given string containas - 8 to 16 alphanumerics,at least 2 digits,at least 2 lowercase letters\n",
    "\t\t\tand atleast two uppercase letters  \n",
    " * **IsValidEmail** -True if the given string is valid email id."
   ]
  },
  {
   "cell_type": "code",
   "execution_count": 79,
   "metadata": {},
   "outputs": [
    {
     "data": {
      "text/plain": [
       "True"
      ]
     },
     "execution_count": 79,
     "metadata": {},
     "output_type": "execute_result"
    }
   ],
   "source": [
    "import re\n",
    "\n",
    "def IsInteger(s):\n",
    "    return not not re.match(r'.*\\d.*',s)\n",
    "\n",
    "def IsFloat(s):\n",
    "    return not not re.match(r'.*(\\d+.\\d+).*',s)\n",
    "\n",
    "def HasVowel(s):\n",
    "    return not not re.match(r'.*[a,e,i,o,u].*',s,re.I)\n",
    "\n",
    "def IsHex(s):\n",
    "    return not re.match(r'[^0-9,a-f]',s,re.I)\n",
    "\n",
    "def IsDate(s):\n",
    "    return not not re.match(r'\\d\\d-\\d\\d-\\d\\d\\d\\d',s)\n",
    "\n",
    "def IsValidPassword(s):\n",
    "    return not not re.match(r'(?=.*[A-Z].*[A-Z].*)(?=.*[a-z].*[a-z].*)(?=.*\\d.*\\d.*)\\w{8,16}',s)\n",
    "\n",
    "## 8 to 16 alphanumerics - \\w(8,16) , at least 2 digits - (?=.*\\d.*\\d.*), at least 2 lowercase letters (?= .*[a-z].*[a-z].*)\n",
    "## atleast 2 uppercase letters (?= .*[A-Z].*[A-Z].*)\n",
    "\n",
    "def IsValidEmail(s):\n",
    "    return not not re.match(r'\\w+@\\w+.\\w+',s,re.I)\n",
    "    \n",
    "IsValidEmail(\"2aa8AaMsd@1.v\")    "
   ]
  },
  {
   "cell_type": "markdown",
   "metadata": {},
   "source": [
    "###  8.Normalise -  to replace all instances of one or more whitespace characters with a single space."
   ]
  },
  {
   "cell_type": "code",
   "execution_count": 4,
   "metadata": {},
   "outputs": [
    {
     "data": {
      "text/plain": [
       "'hai   jjs'"
      ]
     },
     "execution_count": 4,
     "metadata": {},
     "output_type": "execute_result"
    }
   ],
   "source": [
    "import re\n",
    "\n",
    "def normalise(s):\n",
    "    return re.match(r'.*\\b.*',s)\n",
    "\n",
    "normalise(\"hai   jjs\").group()"
   ]
  },
  {
   "cell_type": "code",
   "execution_count": null,
   "metadata": {},
   "outputs": [],
   "source": []
  }
 ],
 "metadata": {
  "kernelspec": {
   "display_name": "Python 2",
   "language": "python",
   "name": "python2"
  },
  "language_info": {
   "codemirror_mode": {
    "name": "ipython",
    "version": 2
   },
   "file_extension": ".py",
   "mimetype": "text/x-python",
   "name": "python",
   "nbconvert_exporter": "python",
   "pygments_lexer": "ipython2",
   "version": "2.7.15"
  }
 },
 "nbformat": 4,
 "nbformat_minor": 2
}
