{
 "cells": [
  {
   "cell_type": "markdown",
   "metadata": {},
   "source": [
    "### 1.Write a program to create different(two) categories of employees.\n",
    "\n",
    "\t1.1 Create a base class Employee to store name,empno,basicpay\n",
    "\t1.2 Create a derived (from Employee) class Scientist to store Technical allowance and Category (additionally).\n",
    "\t1.3 Create another derived (from Employee) class Officer to store Grade and department (additionally) \n",
    "\t1.4 Create some instances of Scientists and Officers and display the details(by calling respective methods)"
   ]
  },
  {
   "cell_type": "code",
   "execution_count": 3,
   "metadata": {},
   "outputs": [
    {
     "name": "stdout",
     "output_type": "stream",
     "text": [
      "Name?kiran\n",
      "tech allowance?2000\n",
      "Name?paul\n",
      "grade?a\n",
      "department?cse\n",
      "------\n",
      "Name : kiran\n",
      "EmpNo : 101\n",
      "Basicpay : 50000 rs\n",
      "TechAllow : 2000\n",
      "Category : Scientist\n",
      "------\n",
      "Name : paul\n",
      "EmpNo : 102\n",
      "Basicpay : 30000 rs\n",
      "Grade : a\n",
      "Department : cse\n"
     ]
    }
   ],
   "source": [
    "class baseEmp:\n",
    "    no = 100\n",
    "    \n",
    "    def __init__(self,bpay):\n",
    "        baseEmp.no += 1\n",
    "        self.empno = baseEmp.no\n",
    "        self.name = raw_input(\"Name?\")\n",
    "        self.basicpay = bpay\n",
    "        \n",
    "class scientist(baseEmp):\n",
    "    \n",
    "    def __init__(self):\n",
    "        baseEmp.__init__(self,50000)\n",
    "        self.tech_allowance = raw_input(\"tech allowance?\")\n",
    "        self.category = \"Scientist\"\n",
    "    \n",
    "    def disp(self):\n",
    "        print \"------\\nName : %s\\nEmpNo : %s\\nBasicpay : %s rs\\nTechAllow : %s\\nCategory : %s\"%(self.name,self.empno,self.basicpay,self.tech_allowance,self.category)\n",
    "        \n",
    "class officer(baseEmp):\n",
    "    \n",
    "    def __init__(self):\n",
    "        baseEmp.__init__(self,30000)\n",
    "        self.grade = raw_input(\"grade?\")\n",
    "        self.department = raw_input(\"department?\")\n",
    "        \n",
    "    def disp(self):\n",
    "        print \"------\\nName : %s\\nEmpNo : %s\\nBasicpay : %s rs\\nGrade : %s\\nDepartment : %s\"%(self.name,self.empno,self.basicpay,self.grade,self.department)    \n",
    "        \n",
    "        \n",
    "\n",
    "s1=scientist()\n",
    "s2=officer()\n",
    "s1.disp()\n",
    "s2.disp()"
   ]
  },
  {
   "cell_type": "code",
   "execution_count": null,
   "metadata": {},
   "outputs": [],
   "source": []
  },
  {
   "cell_type": "markdown",
   "metadata": {},
   "source": [
    "### 2.Modify the above program to add str method such that,\n",
    "\tstr(scentist instance) should give  Scientis <name> with id <empno> has a salary of <Total salary> and\n",
    "\tstr(Officerinstance) should give  Officer <name> with id <empno> has a salary of <Total salary>   \n",
    "\n"
   ]
  },
  {
   "cell_type": "code",
   "execution_count": 9,
   "metadata": {},
   "outputs": [
    {
     "name": "stdout",
     "output_type": "stream",
     "text": [
      "Name?ki\n",
      "tech allowance?22\n",
      "Name?jj\n",
      "grade?a\n",
      "department?cs\n",
      "\n",
      "\n"
     ]
    },
    {
     "data": {
      "text/plain": [
       "'Officer jj with id 114 has a salary of 30000\\n'"
      ]
     },
     "execution_count": 9,
     "metadata": {},
     "output_type": "execute_result"
    }
   ],
   "source": [
    "class scientist(baseEmp):\n",
    "    \n",
    "    def __init__(self):\n",
    "        baseEmp.__init__(self,50000)\n",
    "        self.tech_allowance = raw_input(\"tech allowance?\")\n",
    "        self.category = \"Scientist\"\n",
    "    \n",
    "    def disp(self):\n",
    "        print \"------\\nName : %s\\nEmpNo : %s\\nBasicpay : %s rs\\nTechAllow : %s\\nCategory : %s\"%(self.name,self.empno,self.basicpay,self.tech_allowance,self.category)\n",
    "    \n",
    "    def __str__(self):\n",
    "        \n",
    "        return \"Scientis %s with id %s has a salary of %s\\n\"%(self.name,self.empno,self.basicpay)\n",
    "        \n",
    "class officer(baseEmp):\n",
    "    \n",
    "    def __init__(self):\n",
    "        baseEmp.__init__(self,30000)\n",
    "        self.grade = raw_input(\"grade?\")\n",
    "        self.department = raw_input(\"department?\")\n",
    "        \n",
    "    def disp(self):\n",
    "        print \"------\\nName : %s\\nEmpNo : %s\\nBasicpay : %s rs\\nGrade : %s\\nDepartment : %s\"%(self.name,self.empno,self.basicpay,self.grade,self.department)    \n",
    "        \n",
    "    def __str__(self):\n",
    "        \n",
    "        return \"Officer %s with id %s has a salary of %s\\n\"%(self.name,self.empno,self.basicpay)       \n",
    "        \n",
    "\n",
    "s1=scientist()\n",
    "s2=officer()\n",
    "str(s1)\n",
    "str(s2)\n"
   ]
  },
  {
   "cell_type": "code",
   "execution_count": null,
   "metadata": {},
   "outputs": [],
   "source": []
  }
 ],
 "metadata": {
  "kernelspec": {
   "display_name": "Python 2",
   "language": "python",
   "name": "python2"
  },
  "language_info": {
   "codemirror_mode": {
    "name": "ipython",
    "version": 2
   },
   "file_extension": ".py",
   "mimetype": "text/x-python",
   "name": "python",
   "nbconvert_exporter": "python",
   "pygments_lexer": "ipython2",
   "version": "2.7.15"
  }
 },
 "nbformat": 4,
 "nbformat_minor": 2
}
