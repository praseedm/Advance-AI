{
 "cells": [
  {
   "cell_type": "markdown",
   "metadata": {},
   "source": [
    "## 1.Apply K-Means clustering for the following dataset for two clusters and plot the result.\n",
    "## dataset:{2,4,10,12,3,20,30,11,25}\n"
   ]
  },
  {
   "cell_type": "code",
   "execution_count": 26,
   "metadata": {},
   "outputs": [
    {
     "name": "stdout",
     "output_type": "stream",
     "text": [
      "centers [  7.  25.]\n",
      "distortion 3.77778\n"
     ]
    }
   ],
   "source": [
    "import scipy as sp\n",
    "from scipy.cluster.vq import kmeans\n",
    "\n",
    "dset = np.array([2,4,10,12,3,20,30,11,25])\n",
    "dset = sp.cast['f'](dset)\n",
    "centroids,distro = kmeans(dset,2)\n",
    "\n",
    "print \"centers\",centroids\n",
    "print \"distortion\",distro"
   ]
  },
  {
   "cell_type": "code",
   "execution_count": 27,
   "metadata": {},
   "outputs": [
    {
     "name": "stdout",
     "output_type": "stream",
     "text": [
      "[0 0 0 0 0 1 1 0 1]\n"
     ]
    }
   ],
   "source": [
    "\n",
    "clusters,distances = sp.cluster.vq.vq(dset,centroids)\n",
    "print clusters"
   ]
  },
  {
   "cell_type": "markdown",
   "metadata": {},
   "source": [
    "### plot"
   ]
  },
  {
   "cell_type": "code",
   "execution_count": 33,
   "metadata": {},
   "outputs": [
    {
     "data": {
      "image/png": "[encoded data removed]",
      "text/plain": [
       "<Figure size 432x288 with 1 Axes>"
      ]
     },
     "metadata": {},
     "output_type": "display_data"
    }
   ],
   "source": [
    "import numpy as np\n",
    "import matplotlib.pyplot as plt\n",
    "\n",
    "c1 = dset[clusters == 0]\n",
    "c2 = dset[clusters == 1]\n",
    "cx = np.arange(1,dset.size+1)\n",
    "\n",
    "plt.scatter(cx[clusters == 0],c1,color='y',label='cluster 1')\n",
    "plt.scatter(cx[clusters == 1],c2,color='b',label='cluster 2')\n",
    "plt.legend(loc='best')\n",
    "plt.show()"
   ]
  },
  {
   "cell_type": "code",
   "execution_count": null,
   "metadata": {},
   "outputs": [],
   "source": []
  }
 ],
 "metadata": {
  "kernelspec": {
   "display_name": "Python 2",
   "language": "python",
   "name": "python2"
  },
  "language_info": {
   "codemirror_mode": {
    "name": "ipython",
    "version": 2
   },
   "file_extension": ".py",
   "mimetype": "text/x-python",
   "name": "python",
   "nbconvert_exporter": "python",
   "pygments_lexer": "ipython2",
   "version": "2.7.15"
  }
 },
 "nbformat": 4,
 "nbformat_minor": 2
}
