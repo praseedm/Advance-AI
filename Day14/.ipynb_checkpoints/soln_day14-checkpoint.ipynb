{
 "cells": [
  {
   "cell_type": "markdown",
   "metadata": {},
   "source": [
    "### Copy emp.csv from common/python_exercises directory\n",
    "### Write  python scripts(use re module) to do the following"
   ]
  },
  {
   "cell_type": "markdown",
   "metadata": {},
   "source": [
    "### 1.Write records that correspond to scientists to another file named sci.csv"
   ]
  },
  {
   "cell_type": "code",
   "execution_count": 25,
   "metadata": {},
   "outputs": [
    {
     "name": "stdout",
     "output_type": "stream",
     "text": [
      "K.Raj,101,scientist,50000.00,(0493)-2287278\n",
      "M.Ram,104,scientist,80000.00,(0491)-4287275\n",
      "Ram Kumar,104,scientist,60000.00,(0491)-4287335\n",
      "K.Gopal,107,scientist,50000.00,(0493)-2287278\n",
      "Amala P.,201,scientist,70000.00,(0498)-9287275\n",
      "\n"
     ]
    }
   ],
   "source": [
    "import re\n",
    "\n",
    "f = open(\"emp.csv\")\n",
    "content = f.readlines()\n",
    "\n",
    "elements = ['ename','eno','edesig','esalary','phone']\n",
    "to_write = ''\n",
    "\n",
    "for c in content:\n",
    "    if re.match('.*scientist.*',c) :\n",
    "        to_write += c\n",
    "\n",
    "\n",
    "print to_write\n",
    "\n",
    "fd = open('sci.csv','w')\n",
    "fd.write(to_write)        \n",
    "fd.close()        "
   ]
  },
  {
   "cell_type": "markdown",
   "metadata": {},
   "source": [
    "### 2.Write records with single letter initials at the begining of the name to ini1.csv"
   ]
  },
  {
   "cell_type": "code",
   "execution_count": 26,
   "metadata": {},
   "outputs": [
    {
     "name": "stdout",
     "output_type": "stream",
     "text": [
      "K.Raj,101,scientist,50000.00,(0493)-2287278\n",
      "M.Ram,104,scientist,80000.00,(0491)-4287275\n",
      "K.Gopal,107,scientist,50000.00,(0493)-2287278\n",
      "\n"
     ]
    }
   ],
   "source": [
    "to_write = ''\n",
    "\n",
    "for c in content:\n",
    "    if re.match('^([A-Z]\\\\.)',c.split(',')[0]):\n",
    "        to_write += c\n",
    "\n",
    "print to_write\n",
    "\n",
    "fd = open('ini1.csv','w')\n",
    "fd.write(to_write)        \n",
    "fd.close()         "
   ]
  },
  {
   "cell_type": "markdown",
   "metadata": {},
   "source": [
    "### 3.Write records with single letter initials anywhere in the name to ini2.csv"
   ]
  },
  {
   "cell_type": "code",
   "execution_count": 27,
   "metadata": {},
   "outputs": [
    {
     "name": "stdout",
     "output_type": "stream",
     "text": [
      "K.Raj,101,scientist,50000.00,(0493)-2287278\n",
      "Mohan Raj M.,102,engineer,50000.00,[0496]-2287278\n",
      "M.Ram,104,scientist,80000.00,(0491)-4287275\n",
      "Mohan Babu K.K.,106,officer,50000.00,{0496}-2387278\n",
      "K.Gopal,107,scientist,50000.00,(0493)-2287278\n",
      "Anil Raj M.,108,engineer,50000.00,{0496]-2287278\n",
      "Amala P.,201,scientist,70000.00,(0498)-9287275\n",
      "\n"
     ]
    }
   ],
   "source": [
    "to_write = ''\n",
    "\n",
    "for c in content:\n",
    "    if re.match('.*([A-Z]\\\\.).*',c.split(',')[0]):\n",
    "        to_write += c\n",
    "\n",
    "print to_write\n",
    "\n",
    "fd = open('ini2.csv','w')\n",
    "fd.write(to_write)        \n",
    "fd.close()  "
   ]
  },
  {
   "cell_type": "markdown",
   "metadata": {},
   "source": [
    "### 4.Write names and phone numbers to empphno.csv,remove extra characters from phno field."
   ]
  },
  {
   "cell_type": "code",
   "execution_count": 31,
   "metadata": {},
   "outputs": [
    {
     "name": "stdout",
     "output_type": "stream",
     "text": [
      "K.Raj,04932287278\n",
      "Mohan Raj M.,04962287278\n",
      "M.Ram,04914287275\n",
      "Ram Kumar,04914287335\n",
      "Mohan Babu K.K.,04962387278\n",
      "K.Gopal,04932287278\n",
      "Anil Raj M.,04962287278\n",
      "Amala P.,04989287275\n",
      "Uma ,04914287335\n",
      "Suma,04962387278\n",
      "\n"
     ]
    }
   ],
   "source": [
    "to_write = ''\n",
    "\n",
    "for c in content:\n",
    "    phno = re.sub('[^0-9]','',c.split(',')[4])\n",
    "    to_write += c.split(',')[0]+','+phno+'\\n'\n",
    "\n",
    "print to_write\n",
    "\n",
    "fd = open('empphno.csv','w')\n",
    "fd.write(to_write)        \n",
    "fd.close() "
   ]
  },
  {
   "cell_type": "markdown",
   "metadata": {},
   "source": [
    "### 5.write records with id greater than 200 to anotherfile named emp2.csv."
   ]
  },
  {
   "cell_type": "code",
   "execution_count": 33,
   "metadata": {},
   "outputs": [
    {
     "name": "stdout",
     "output_type": "stream",
     "text": [
      "Amala P.,201,scientist,70000.00,(0498)-9287275\n",
      "Uma ,204,officer,60000.00,(0491)-4287335\n",
      "Suma,206,engineer,50000.00,0496_2387278\n",
      "\n"
     ]
    }
   ],
   "source": [
    "to_write = ''\n",
    "\n",
    "for c in content:\n",
    "    if int(c.split(',')[1]) > 200:\n",
    "        to_write += c\n",
    "\n",
    "print to_write\n",
    "\n",
    "fd = open('emp2.csv','w')\n",
    "fd.write(to_write)        \n",
    "fd.close()  "
   ]
  },
  {
   "cell_type": "code",
   "execution_count": null,
   "metadata": {},
   "outputs": [],
   "source": []
  }
 ],
 "metadata": {
  "kernelspec": {
   "display_name": "Python 2",
   "language": "python",
   "name": "python2"
  },
  "language_info": {
   "codemirror_mode": {
    "name": "ipython",
    "version": 2
   },
   "file_extension": ".py",
   "mimetype": "text/x-python",
   "name": "python",
   "nbconvert_exporter": "python",
   "pygments_lexer": "ipython2",
   "version": "2.7.15"
  }
 },
 "nbformat": 4,
 "nbformat_minor": 2
}
