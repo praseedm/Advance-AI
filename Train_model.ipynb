{
  "nbformat": 4,
  "nbformat_minor": 0,
  "metadata": {
    "colab": {
      "name": "Train model.ipynb",
      "provenance": [],
      "authorship_tag": "ABX9TyMN3j9ViTr8BQtfd71KHFyx",
      "include_colab_link": true
    },
    "kernelspec": {
      "name": "python3",
      "display_name": "Python 3"
    },
    "language_info": {
      "name": "python"
    }
  },
  "cells": [
    {
      "cell_type": "markdown",
      "metadata": {
        "id": "view-in-github",
        "colab_type": "text"
      },
      "source": [
        "<a href=\"https://colab.research.google.com/github/praseedm/Advance-AI/blob/master/Train_model.ipynb\" target=\"_parent\"><img src=\"https://colab.research.google.com/assets/colab-badge.svg\" alt=\"Open In Colab\"/></a>"
      ]
    },
    {
      "cell_type": "code",
      "execution_count": 3,
      "metadata": {
        "colab": {
          "base_uri": "https://localhost:8080/"
        },
        "id": "9SZCZ1oTpZkE",
        "outputId": "26670522-7115-4382-9e75-ac7292adeaad"
      },
      "outputs": [
        {
          "output_type": "stream",
          "name": "stdout",
          "text": [
            "Cloning into 'Intel-MobileODT-CervicalCancerScreening'...\n",
            "remote: Enumerating objects: 2013, done.\u001b[K\n",
            "remote: Counting objects: 100% (2013/2013), done.\u001b[K\n",
            "remote: Compressing objects: 100% (2008/2008), done.\u001b[K\n",
            "remote: Total 2013 (delta 4), reused 2013 (delta 4), pack-reused 0\u001b[K\n",
            "Receiving objects: 100% (2013/2013), 20.36 MiB | 22.47 MiB/s, done.\n",
            "Resolving deltas: 100% (4/4), done.\n"
          ]
        }
      ],
      "source": [
        "# clone git repo for data\n",
        "! git clone https://github.com/praseedm/Intel-MobileODT-CervicalCancerScreening.git"
      ]
    },
    {
      "cell_type": "code",
      "source": [
        "%cd Intel-MobileODT-CervicalCancerScreening"
      ],
      "metadata": {
        "colab": {
          "base_uri": "https://localhost:8080/"
        },
        "id": "64ES9-QQpnc7",
        "outputId": "767df4d7-dffe-4782-bdf8-d8e61d6db4c6"
      },
      "execution_count": 4,
      "outputs": [
        {
          "output_type": "stream",
          "name": "stdout",
          "text": [
            "/content/Intel-MobileODT-CervicalCancerScreening\n"
          ]
        }
      ]
    },
    {
      "cell_type": "markdown",
      "source": [
        "## Import Libraries"
      ],
      "metadata": {
        "id": "2E7N0gAuq7y8"
      }
    },
    {
      "cell_type": "code",
      "source": [
        "import matplotlib.pyplot as plt\n",
        "import numpy as np\n",
        "import os\n",
        "import PIL\n",
        "import tensorflow as tf\n",
        "import pathlib\n",
        "import pandas as pd\n",
        "from tqdm import tqdm\n",
        "\n",
        "from tensorflow import keras\n",
        "from tensorflow.keras import layers\n",
        "from tensorflow.keras.models import Sequential"
      ],
      "metadata": {
        "id": "XLkqWJxzqEIZ"
      },
      "execution_count": 65,
      "outputs": []
    },
    {
      "cell_type": "markdown",
      "source": [
        "## Dataset\n",
        "\n",
        "Resized train data is available inside data/resized/train \n",
        "\n",
        "Resized test data is available inside data/resized/test"
      ],
      "metadata": {
        "id": "p283HgMkrIBu"
      }
    },
    {
      "cell_type": "code",
      "source": [
        "train_data_root_dir = pathlib.Path('./data/resized/train')"
      ],
      "metadata": {
        "id": "asyPq4efrlsJ"
      },
      "execution_count": 17,
      "outputs": []
    },
    {
      "cell_type": "code",
      "source": [
        "train_image_count = len(list(train_data_root_dir.glob('*/*.jpg')))\n",
        "print(train_image_count)"
      ],
      "metadata": {
        "colab": {
          "base_uri": "https://localhost:8080/"
        },
        "id": "KO2Dbmn5rCJn",
        "outputId": "d7715d93-20d5-4c99-a221-8f1b7d0d2791"
      },
      "execution_count": 18,
      "outputs": [
        {
          "output_type": "stream",
          "name": "stdout",
          "text": [
            "1480\n"
          ]
        }
      ]
    },
    {
      "cell_type": "markdown",
      "source": [
        "## Constants"
      ],
      "metadata": {
        "id": "jzm3UqjLtTQi"
      }
    },
    {
      "cell_type": "code",
      "source": [
        "BATCH_SIZE = 32\n",
        "IMAGE_SIZE = (180,180)"
      ],
      "metadata": {
        "id": "cdsCvJ9ossAl"
      },
      "execution_count": 16,
      "outputs": []
    },
    {
      "cell_type": "markdown",
      "source": [
        "## Generate Train, Validation data"
      ],
      "metadata": {
        "id": "PNFL96PQtpol"
      }
    },
    {
      "cell_type": "code",
      "source": [
        "train_ds = tf.keras.utils.image_dataset_from_directory(\n",
        "  train_data_root_dir,\n",
        "  validation_split=0.2,\n",
        "  subset=\"training\",\n",
        "  seed=123,\n",
        "  image_size=IMAGE_SIZE,\n",
        "  batch_size=BATCH_SIZE)"
      ],
      "metadata": {
        "colab": {
          "base_uri": "https://localhost:8080/"
        },
        "id": "2OJeamYlteT-",
        "outputId": "22b33680-c8bf-4b7c-c9c3-bc24f5be0cee"
      },
      "execution_count": 19,
      "outputs": [
        {
          "output_type": "stream",
          "name": "stdout",
          "text": [
            "Found 1480 files belonging to 3 classes.\n",
            "Using 1184 files for training.\n"
          ]
        }
      ]
    },
    {
      "cell_type": "code",
      "source": [
        "val_ds = tf.keras.utils.image_dataset_from_directory(\n",
        "  train_data_root_dir,\n",
        "  validation_split=0.2,\n",
        "  subset=\"validation\",\n",
        "  seed=123,\n",
        "  image_size=IMAGE_SIZE,\n",
        "  batch_size=BATCH_SIZE)"
      ],
      "metadata": {
        "colab": {
          "base_uri": "https://localhost:8080/"
        },
        "id": "yf28b8Fkt7wu",
        "outputId": "08252159-be16-479c-80cc-1b37ea473838"
      },
      "execution_count": 20,
      "outputs": [
        {
          "output_type": "stream",
          "name": "stdout",
          "text": [
            "Found 1480 files belonging to 3 classes.\n",
            "Using 296 files for validation.\n"
          ]
        }
      ]
    },
    {
      "cell_type": "code",
      "source": [
        "class_names = train_ds.class_names\n",
        "print(class_names)"
      ],
      "metadata": {
        "colab": {
          "base_uri": "https://localhost:8080/"
        },
        "id": "wYgcM6druEKS",
        "outputId": "e4561299-90fa-41b7-8b7d-8e039e235935"
      },
      "execution_count": 21,
      "outputs": [
        {
          "output_type": "stream",
          "name": "stdout",
          "text": [
            "['Type_1', 'Type_2', 'Type_3']\n"
          ]
        }
      ]
    },
    {
      "cell_type": "markdown",
      "source": [
        "## Configure the dataset for performance\n",
        "\n",
        "Let's make sure to use buffered prefetching so you can yield data from disk without having I/O become blocking. These are two important methods you should use when loading data:\n",
        "\n",
        "- `Dataset.cache` keeps the images in memory after they're loaded off disk during the first epoch. This will ensure the dataset does not become a bottleneck while training your model. If your dataset is too large to fit into memory, you can also use this method to create a performant on-disk cache.\n",
        "- `Dataset.prefetch` overlaps data preprocessing and model execution while training.\n",
        "\n",
        "Interested readers can learn more about both methods, as well as how to cache data to disk in the *Prefetching* section of the [Better performance with the tf.data API](../../guide/data_performance.ipynb) guide."
      ],
      "metadata": {
        "id": "YlDAHpomvW47"
      }
    },
    {
      "cell_type": "code",
      "source": [
        "AUTOTUNE = tf.data.AUTOTUNE\n",
        "\n",
        "train_ds = train_ds.cache().shuffle(1000).prefetch(buffer_size=AUTOTUNE)\n",
        "val_ds = val_ds.cache().prefetch(buffer_size=AUTOTUNE)"
      ],
      "metadata": {
        "id": "y2J0WC3iuxW-"
      },
      "execution_count": 27,
      "outputs": []
    },
    {
      "cell_type": "markdown",
      "source": [
        "## Normalize data\n",
        "\n",
        "Normalize RGB values from `[0,255]` to be in the `[0, 1]` range by using `tf.keras.layers.Rescaling`."
      ],
      "metadata": {
        "id": "AoGGGOZUwLzU"
      }
    },
    {
      "cell_type": "code",
      "source": [
        "normalization_layer = layers.Rescaling(1./255)"
      ],
      "metadata": {
        "id": "mZ8P2InZvgpQ"
      },
      "execution_count": 28,
      "outputs": []
    },
    {
      "cell_type": "markdown",
      "source": [
        "## Create Model"
      ],
      "metadata": {
        "id": "PZdHclBvw6fE"
      }
    },
    {
      "cell_type": "code",
      "source": [
        "num_classes = len(class_names)\n",
        "\n",
        "model = Sequential([\n",
        "  layers.Rescaling(1./255, input_shape=(IMAGE_SIZE[0], IMAGE_SIZE[1], 3)),\n",
        "  layers.Conv2D(16, 3, padding='same', activation='relu'),\n",
        "  layers.MaxPooling2D(),\n",
        "  layers.Conv2D(32, 3, padding='same', activation='relu'),\n",
        "  layers.MaxPooling2D(),\n",
        "  layers.Conv2D(64, 3, padding='same', activation='relu'),\n",
        "  layers.MaxPooling2D(),\n",
        "  layers.Flatten(),\n",
        "  layers.Dense(128, activation='relu'),\n",
        "  layers.Dense(num_classes)\n",
        "])"
      ],
      "metadata": {
        "id": "xkyoVY5ow5c7"
      },
      "execution_count": 43,
      "outputs": []
    },
    {
      "cell_type": "code",
      "source": [
        "model.compile(optimizer='adam',\n",
        "              loss=tf.keras.losses.SparseCategoricalCrossentropy(from_logits=True),\n",
        "              metrics=['accuracy'])"
      ],
      "metadata": {
        "id": "i-6vJxtHxIJf"
      },
      "execution_count": 44,
      "outputs": []
    },
    {
      "cell_type": "code",
      "source": [
        "model.summary()"
      ],
      "metadata": {
        "colab": {
          "base_uri": "https://localhost:8080/"
        },
        "id": "iVFJRnV1xNcs",
        "outputId": "5bb9758d-ab77-4310-d8cb-00ce2cffd80c"
      },
      "execution_count": 45,
      "outputs": [
        {
          "output_type": "stream",
          "name": "stdout",
          "text": [
            "Model: \"sequential_3\"\n",
            "_________________________________________________________________\n",
            " Layer (type)                Output Shape              Param #   \n",
            "=================================================================\n",
            " rescaling_4 (Rescaling)     (None, 180, 180, 3)       0         \n",
            "                                                                 \n",
            " conv2d_9 (Conv2D)           (None, 180, 180, 16)      448       \n",
            "                                                                 \n",
            " max_pooling2d_9 (MaxPooling  (None, 90, 90, 16)       0         \n",
            " 2D)                                                             \n",
            "                                                                 \n",
            " conv2d_10 (Conv2D)          (None, 90, 90, 32)        4640      \n",
            "                                                                 \n",
            " max_pooling2d_10 (MaxPoolin  (None, 45, 45, 32)       0         \n",
            " g2D)                                                            \n",
            "                                                                 \n",
            " conv2d_11 (Conv2D)          (None, 45, 45, 64)        18496     \n",
            "                                                                 \n",
            " max_pooling2d_11 (MaxPoolin  (None, 22, 22, 64)       0         \n",
            " g2D)                                                            \n",
            "                                                                 \n",
            " flatten_3 (Flatten)         (None, 30976)             0         \n",
            "                                                                 \n",
            " dense_6 (Dense)             (None, 128)               3965056   \n",
            "                                                                 \n",
            " dense_7 (Dense)             (None, 3)                 387       \n",
            "                                                                 \n",
            "=================================================================\n",
            "Total params: 3,989,027\n",
            "Trainable params: 3,989,027\n",
            "Non-trainable params: 0\n",
            "_________________________________________________________________\n"
          ]
        }
      ]
    },
    {
      "cell_type": "markdown",
      "source": [
        "## Train Model"
      ],
      "metadata": {
        "id": "FdQQYDstxTo7"
      }
    },
    {
      "cell_type": "code",
      "source": [
        "epochs=10\n",
        "history = model.fit(\n",
        "  train_ds,\n",
        "  validation_data=val_ds,\n",
        "  epochs=epochs\n",
        ")"
      ],
      "metadata": {
        "colab": {
          "base_uri": "https://localhost:8080/"
        },
        "id": "eJrE257MxPPX",
        "outputId": "71cc2199-e46d-4518-e47c-b260f56511a9"
      },
      "execution_count": 46,
      "outputs": [
        {
          "output_type": "stream",
          "name": "stdout",
          "text": [
            "Epoch 1/10\n",
            "37/37 [==============================] - 35s 923ms/step - loss: 1.2359 - accuracy: 0.4840 - val_loss: 0.9549 - val_accuracy: 0.5507\n",
            "Epoch 2/10\n",
            "37/37 [==============================] - 34s 923ms/step - loss: 0.9382 - accuracy: 0.5431 - val_loss: 0.9226 - val_accuracy: 0.5676\n",
            "Epoch 3/10\n",
            "37/37 [==============================] - 34s 915ms/step - loss: 0.8683 - accuracy: 0.5769 - val_loss: 0.8709 - val_accuracy: 0.6250\n",
            "Epoch 4/10\n",
            "37/37 [==============================] - 34s 929ms/step - loss: 0.8107 - accuracy: 0.6191 - val_loss: 0.9245 - val_accuracy: 0.4966\n",
            "Epoch 5/10\n",
            "37/37 [==============================] - 34s 923ms/step - loss: 0.7811 - accuracy: 0.6275 - val_loss: 0.8996 - val_accuracy: 0.5676\n",
            "Epoch 6/10\n",
            "37/37 [==============================] - 34s 932ms/step - loss: 0.6948 - accuracy: 0.6774 - val_loss: 0.9720 - val_accuracy: 0.5507\n",
            "Epoch 7/10\n",
            "37/37 [==============================] - 34s 919ms/step - loss: 0.6263 - accuracy: 0.7272 - val_loss: 1.0003 - val_accuracy: 0.5743\n",
            "Epoch 8/10\n",
            "37/37 [==============================] - 34s 917ms/step - loss: 0.5472 - accuracy: 0.7787 - val_loss: 1.0813 - val_accuracy: 0.5777\n",
            "Epoch 9/10\n",
            "37/37 [==============================] - 34s 913ms/step - loss: 0.4381 - accuracy: 0.8353 - val_loss: 1.2269 - val_accuracy: 0.5777\n",
            "Epoch 10/10\n",
            "37/37 [==============================] - 34s 912ms/step - loss: 0.3494 - accuracy: 0.8640 - val_loss: 1.3650 - val_accuracy: 0.5642\n"
          ]
        }
      ]
    },
    {
      "cell_type": "code",
      "source": [
        "acc = history.history['accuracy']\n",
        "val_acc = history.history['val_accuracy']\n",
        "\n",
        "loss = history.history['loss']\n",
        "val_loss = history.history['val_loss']\n",
        "\n",
        "epochs_range = range(epochs)\n",
        "\n",
        "plt.figure(figsize=(8, 8))\n",
        "plt.subplot(1, 2, 1)\n",
        "plt.plot(epochs_range, acc, label='Training Accuracy')\n",
        "plt.plot(epochs_range, val_acc, label='Validation Accuracy')\n",
        "plt.legend(loc='lower right')\n",
        "plt.title('Training and Validation Accuracy')\n",
        "\n",
        "plt.subplot(1, 2, 2)\n",
        "plt.plot(epochs_range, loss, label='Training Loss')\n",
        "plt.plot(epochs_range, val_loss, label='Validation Loss')\n",
        "plt.legend(loc='upper right')\n",
        "plt.title('Training and Validation Loss')\n",
        "plt.show()"
      ],
      "metadata": {
        "colab": {
          "base_uri": "https://localhost:8080/",
          "height": 499
        },
        "id": "sGJxirlnxV1x",
        "outputId": "f68c04a0-d113-49dc-f4b7-7e01800e4972"
      },
      "execution_count": 47,
      "outputs": [
        {
          "output_type": "display_data",
          "data": {
            "text/plain": [
              "<Figure size 576x576 with 2 Axes>"
            ],
            "image/png": "[encoded data removed]"
          },
          "metadata": {
            "needs_background": "light"
          }
        }
      ]
    },
    {
      "cell_type": "markdown",
      "source": [
        "## Generate Submission file"
      ],
      "metadata": {
        "id": "pn4Yei_T3ORs"
      }
    },
    {
      "cell_type": "code",
      "source": [
        "def run_prediction(img_path, model):\n",
        "  img = tf.keras.utils.load_img(img_path, target_size=IMAGE_SIZE)\n",
        "  img_array = tf.keras.utils.img_to_array(img)\n",
        "  img_array = tf.expand_dims(img_array, 0) # Create a batch\n",
        "  predictions = model.predict(img_array)\n",
        "  score = tf.nn.softmax(predictions[0])\n",
        "  return score.numpy()"
      ],
      "metadata": {
        "id": "0Uh1bGth3DvQ"
      },
      "execution_count": 54,
      "outputs": []
    },
    {
      "cell_type": "code",
      "source": [
        "run_prediction(img_path='./data/resized/test/1.jpg',model=model)"
      ],
      "metadata": {
        "colab": {
          "base_uri": "https://localhost:8080/"
        },
        "id": "DEqJaZD44I0X",
        "outputId": "4b2653b1-760e-430b-a955-8a2d0c4d673d"
      },
      "execution_count": 59,
      "outputs": [
        {
          "output_type": "execute_result",
          "data": {
            "text/plain": [
              "array([0.00763862, 0.14841202, 0.8439493 ], dtype=float32)"
            ]
          },
          "metadata": {},
          "execution_count": 59
        }
      ]
    },
    {
      "cell_type": "code",
      "source": [
        "def generate_submission_file(test_data_dir, sample_submission_file_path, model, output_file_path):\n",
        "  test_data_files =  list(pathlib.Path(test_data_dir).glob('*.jpg'))\n",
        "  print(f\"Number of test files {len(test_data_files)}\")\n",
        "  test_data_file_name_map = {file.name: file for file in test_data_files}\n",
        "  print(f\"Number of element in file name map : {len(test_data_file_name_map)}\")\n",
        "\n",
        "  sample_submission_df = pd.read_csv(sample_submission_file_path)\n",
        "  submission_list = []\n",
        "  for _,row in tqdm(sample_submission_df.iterrows()):\n",
        "    file_name = row['image_name']\n",
        "    file_path = test_data_file_name_map[file_name]\n",
        "\n",
        "    scores = run_prediction(img_path=file_path, model=model)\n",
        "    submission_list.append((file_name, scores[0], scores[1], scores[2]))\n",
        "\n",
        "  submission_df = pd.DataFrame(submission_list, columns=sample_submission_df.columns)\n",
        "  assert(sample_submission_df.shape == submission_df.shape)\n",
        "  submission_df.to_csv(output_file_path, index=None)"
      ],
      "metadata": {
        "id": "PNbl3zLL4bm_"
      },
      "execution_count": 66,
      "outputs": []
    },
    {
      "cell_type": "code",
      "source": [
        "generate_submission_file(test_data_dir='./data/resized/test',sample_submission_file_path='./sample_submission.csv',model=model,output_file_path='./test_submission.csv')"
      ],
      "metadata": {
        "colab": {
          "base_uri": "https://localhost:8080/"
        },
        "id": "aIu-mckR4xbO",
        "outputId": "858750bb-a7f3-4998-f0b8-940f6faf55cb"
      },
      "execution_count": 67,
      "outputs": [
        {
          "output_type": "stream",
          "name": "stdout",
          "text": [
            "Number of test files 512\n",
            "Number of element in file name map : 512\n"
          ]
        },
        {
          "output_type": "stream",
          "name": "stderr",
          "text": [
            "512it [00:34, 14.68it/s]\n"
          ]
        }
      ]
    },
    {
      "cell_type": "code",
      "source": [
        ""
      ],
      "metadata": {
        "id": "obqQbyF661yS"
      },
      "execution_count": null,
      "outputs": []
    }
  ]
}