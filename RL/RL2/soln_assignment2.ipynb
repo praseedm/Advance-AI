{
 "cells": [
  {
   "cell_type": "markdown",
   "metadata": {},
   "source": [
    "## 1. Using the Taxi environment in Open AI , reset the environment.\n",
    "## 2. Using random moves pickup a passenger and drop the passenger at his desired                   \n",
    "##        location. Find out how many moves had to \n",
    "\n"
   ]
  },
  {
   "cell_type": "markdown",
   "metadata": {},
   "source": [
    "# * color maynot display properly : git visualization "
   ]
  },
  {
   "cell_type": "code",
   "execution_count": 18,
   "metadata": {},
   "outputs": [
    {
     "name": "stdout",
     "output_type": "stream",
     "text": [
      "State 228\n",
      "+---------+\n",
      "|\u001b[35mR\u001b[0m: | : :G|\n",
      "| : : : : |\n",
      "| :\u001b[43m \u001b[0m: : : |\n",
      "| | : | : |\n",
      "|\u001b[34;1mY\u001b[0m| : |B: |\n",
      "+---------+\n",
      "\n"
     ]
    }
   ],
   "source": [
    "import gym\n",
    "env = gym.make(\"Taxi-v2\")\n",
    "state = env.reset() ## reset to new state (random)\n",
    "print \"State\",state\n",
    "env.render()"
   ]
  },
  {
   "cell_type": "code",
   "execution_count": 19,
   "metadata": {},
   "outputs": [
    {
     "name": "stdout",
     "output_type": "stream",
     "text": [
      "+---------+\n",
      "|\u001b[35m\u001b[42mR\u001b[0m\u001b[0m: | : :G|\n",
      "| : : : : |\n",
      "| : : : : |\n",
      "| | : | : |\n",
      "|Y| : |B: |\n",
      "+---------+\n",
      "  (Dropoff)\n",
      "total moves required : 76\n"
     ]
    }
   ],
   "source": [
    "reward = 0\n",
    "count = 0\n",
    "while( reward != 20):\n",
    "    action = env.action_space.sample()\n",
    "    s,reward,done,info = env.step(action)\n",
    "    count +=1\n",
    "    \n",
    "env.render()\n",
    "print \"total moves required :\",count"
   ]
  },
  {
   "cell_type": "markdown",
   "metadata": {},
   "source": [
    "## 3. Implement the Q Learning Algorith on the Taxi environment.\n"
   ]
  },
  {
   "cell_type": "code",
   "execution_count": 20,
   "metadata": {},
   "outputs": [
    {
     "name": "stdout",
     "output_type": "stream",
     "text": [
      "500 6\n"
     ]
    }
   ],
   "source": [
    "print env.observation_space.n, env.action_space.n"
   ]
  },
  {
   "cell_type": "code",
   "execution_count": 21,
   "metadata": {},
   "outputs": [
    {
     "name": "stdout",
     "output_type": "stream",
     "text": [
      "[[ 0.  0.  0.  0.  0.  0.]\n",
      " [ 0.  0.  0.  0.  0.  0.]\n",
      " [ 0.  0.  0.  0.  0.  0.]\n",
      " ..., \n",
      " [ 0.  0.  0.  0.  0.  0.]\n",
      " [ 0.  0.  0.  0.  0.  0.]\n",
      " [ 0.  0.  0.  0.  0.  0.]]\n"
     ]
    }
   ],
   "source": [
    "import numpy as np\n",
    "#initialize q matrix = 0\n",
    "Q = np.zeros((env.observation_space.n, env.action_space.n))\n",
    "print Q"
   ]
  },
  {
   "cell_type": "markdown",
   "metadata": {},
   "source": [
    "###  * Q(state, action) = R(state, action) + Gamma * Max[Q(next state, all actions)]"
   ]
  },
  {
   "cell_type": "code",
   "execution_count": 33,
   "metadata": {},
   "outputs": [],
   "source": [
    "env.reset()\n",
    "\n",
    "gamma = 0.8 \n",
    "episodes = 1000\n",
    "    "
   ]
  },
  {
   "cell_type": "code",
   "execution_count": 36,
   "metadata": {},
   "outputs": [
    {
     "name": "stdout",
     "output_type": "stream",
     "text": [
      "0 : total moves required : 13\n",
      "50 : total moves required : 14\n",
      "100 : total moves required : 11\n",
      "150 : total moves required : 8\n",
      "200 : total moves required : 12\n",
      "250 : total moves required : 16\n",
      "300 : total moves required : 11\n",
      "350 : total moves required : 13\n",
      "400 : total moves required : 8\n",
      "450 : total moves required : 13\n",
      "500 : total moves required : 12\n",
      "550 : total moves required : 13\n",
      "600 : total moves required : 13\n",
      "650 : total moves required : 11\n",
      "700 : total moves required : 18\n",
      "750 : total moves required : 19\n",
      "800 : total moves required : 8\n",
      "850 : total moves required : 13\n",
      "900 : total moves required : 13\n",
      "950 : total moves required : 14\n"
     ]
    }
   ],
   "source": [
    "reward = 0\n",
    "count = 0\n",
    "for e in range(episodes):\n",
    "    \n",
    "    state = env.reset();\n",
    "    reward = 0\n",
    "    count = 0\n",
    "    while( reward != 20):\n",
    "        action = np.argmax(Q[state])\n",
    "        newstate,reward,done,info = env.step(action)\n",
    "        Q[state,action] = reward + gamma * np.max(Q[newstate]); #update Q table\n",
    "        state = newstate\n",
    "        count +=1\n",
    "        \n",
    "    if(e % 50 == 0):\n",
    "        print e,\": total moves required :\",count\n",
    "    \n"
   ]
  },
  {
   "cell_type": "code",
   "execution_count": 37,
   "metadata": {},
   "outputs": [
    {
     "name": "stdout",
     "output_type": "stream",
     "text": [
      "[[  0.         0.         0.         0.         0.         0.      ]\n",
      " [ -3.951424  -3.951424  -3.951424  -3.951424  17.020096 -10.      ]\n",
      " [ -2.952     -2.952     -2.952     -2.952     29.4064   -10.      ]\n",
      " ..., \n",
      " [ -3.3616     5.24      -2.952     -2.952    -10.       -10.      ]\n",
      " [ -3.68928   -3.68928   -3.68928   -3.3616   -10.       -10.      ]\n",
      " [ -1.8       -1.8       -1.8       27.8      -10.       -10.      ]]\n"
     ]
    }
   ],
   "source": [
    "print Q"
   ]
  },
  {
   "cell_type": "markdown",
   "metadata": {},
   "source": [
    "## 4. Solution by learned model"
   ]
  },
  {
   "cell_type": "code",
   "execution_count": 39,
   "metadata": {},
   "outputs": [
    {
     "data": {
      "text/plain": [
       "{0: 'down', 1: 'up', 2: 'right', 3: 'left', 4: 'pick-up', 5: 'drop-off'}"
      ]
     },
     "execution_count": 39,
     "metadata": {},
     "output_type": "execute_result"
    }
   ],
   "source": [
    "action_seq = {0:'down',1:'up',2:'right',3:'left',4:'pick-up',5:'drop-off'}"
   ]
  },
  {
   "cell_type": "code",
   "execution_count": 40,
   "metadata": {},
   "outputs": [
    {
     "name": "stdout",
     "output_type": "stream",
     "text": [
      "+---------+\n",
      "|R: | :\u001b[43m \u001b[0m:\u001b[35mG\u001b[0m|\n",
      "| : : : : |\n",
      "| : : : : |\n",
      "| | : | : |\n",
      "|Y| : |\u001b[34;1mB\u001b[0m: |\n",
      "+---------+\n",
      "\n",
      ": total moves required : 13\n",
      "Solution :\n",
      "['left', 'down', 'down', 'right', 'down', 'down', 'pick-up', 'up', 'up', 'up', 'up', 'right', 'drop-off']\n"
     ]
    }
   ],
   "source": [
    "state = env.reset();\n",
    "env.render()\n",
    "reward = 0\n",
    "count = 0\n",
    "solution =[]\n",
    "while( reward != 20):\n",
    "    action = np.argmax(Q[state])\n",
    "    newstate,reward,done,info = env.step(action)\n",
    "    state = newstate\n",
    "    solution.append(action_seq[action])\n",
    "    count +=1\n",
    "        \n",
    "print \": total moves required :\",count\n",
    "print \"Solution :\\n\",solution"
   ]
  },
  {
   "cell_type": "markdown",
   "metadata": {},
   "source": [
    "## 5. Render any  3 environments in OpenAi gym."
   ]
  },
  {
   "cell_type": "code",
   "execution_count": null,
   "metadata": {},
   "outputs": [],
   "source": []
  }
 ],
 "metadata": {
  "kernelspec": {
   "display_name": "Python 2",
   "language": "python",
   "name": "python2"
  },
  "language_info": {
   "codemirror_mode": {
    "name": "ipython",
    "version": 2
   },
   "file_extension": ".py",
   "mimetype": "text/x-python",
   "name": "python",
   "nbconvert_exporter": "python",
   "pygments_lexer": "ipython2",
   "version": "2.7.15"
  }
 },
 "nbformat": 4,
 "nbformat_minor": 2
}
