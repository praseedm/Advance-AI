{
 "cells": [
  {
   "cell_type": "markdown",
   "metadata": {},
   "source": [
    "### 1.Create a plot with different linestyle,color and marker for ,say, numbers less than 50 and greater than or equal to 50 for an array of 10 random integers between 1 and 100\n",
    "\t\t\n",
    "\t\tsteps\n",
    "* 1. import pyplot and numpy\n",
    "* 2. create figure \n",
    "* 3. add a subplot\n",
    "* 4. create and store 10 random integers between 1 and 100 in y array\n",
    "* 5. split the array into two y1 and y2. hint:less than 50 in y1 ,others in y2,boolen indexing \n",
    "* 6. store last element of y1 as first in y2: hint numpy.insert(array,index,value)\n",
    "* 8. create 10 even numbers in x array hint arange\n",
    "* 9. call plot of step3 return value by supplying x array containg index values 0 thru size of y1\n",
    "* 10. again call plot of step3 return value by supplying the required values\n",
    "* 11. show the figure"
   ]
  },
  {
   "cell_type": "code",
   "execution_count": null,
   "metadata": {},
   "outputs": [],
   "source": []
  }
 ],
 "metadata": {
  "kernelspec": {
   "display_name": "Python 2",
   "language": "python",
   "name": "python2"
  },
  "language_info": {
   "codemirror_mode": {
    "name": "ipython",
    "version": 2
   },
   "file_extension": ".py",
   "mimetype": "text/x-python",
   "name": "python",
   "nbconvert_exporter": "python",
   "pygments_lexer": "ipython2",
   "version": "2.7.15"
  }
 },
 "nbformat": 4,
 "nbformat_minor": 2
}
