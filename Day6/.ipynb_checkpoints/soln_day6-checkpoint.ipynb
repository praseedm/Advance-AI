{
 "cells": [
  {
   "cell_type": "markdown",
   "metadata": {},
   "source": [
    "### 1. Write a  program to create a file to store multiplication table for a number as per the following . \n",
    "\tGet the number from user.\n",
    "\tUsing list comprehension create a list  to contain the products.\n",
    "\ttake each item from the list and write the same to a file in the following format\n",
    "\t\t\n",
    "\t\t1 X <input no> = <first item from list> \n",
    "\t\t2 X <input no> = <second item from list> \t\t\n",
    "\t\t\n",
    "\t\tand so on.\n",
    "   "
   ]
  },
  {
   "cell_type": "code",
   "execution_count": 15,
   "metadata": {},
   "outputs": [
    {
     "name": "stdout",
     "output_type": "stream",
     "text": [
      "Enter number3\n"
     ]
    }
   ],
   "source": [
    "l1 = input(\"Enter number\")\n",
    "prod_li = [x*l1 for x in range(10)]\n",
    "fd = open('product_list','w')\n",
    "i = 0\n",
    "for item in prod_li:\n",
    "    fd.write(str(i)+\" x \"+str(l1)+\" = \"+str(item)+\"\\n\")\n",
    "    i+=1\n",
    "fd.close()  \n",
    "  "
   ]
  },
  {
   "cell_type": "markdown",
   "metadata": {},
   "source": [
    "### 2.Modify the above (Q.No.1) to accept filename and number via commandline arguments.\n",
    "  (The script should not contain more than 3 lines including #! and import )\n",
    "\tsyntax for giving the command is ,\n",
    "    \t\t scriptname filename number.\n",
    "    The multiplication table for the number should  be stored inside filename. \n",
    "\n",
    "\n",
    " (hint: to get a formatted string you may use like,\n",
    "  >>> x=10\n",
    "  >>> y=20\n",
    "  >>> s1='value of x is %d and value of y is %d'%(x,y)\n",
    "  >>> print s1\n",
    "      value of x is 10 and value of y is 20\n",
    "  end of hint)\t"
   ]
  },
  {
   "cell_type": "code",
   "execution_count": 12,
   "metadata": {},
   "outputs": [
    {
     "ename": "SyntaxError",
     "evalue": "invalid syntax (<ipython-input-12-7d158a80f91a>, line 3)",
     "output_type": "error",
     "traceback": [
      "\u001b[0;36m  File \u001b[0;32m\"<ipython-input-12-7d158a80f91a>\"\u001b[0;36m, line \u001b[0;32m3\u001b[0m\n\u001b[0;31m    fd = open(sys.argv[1],'w'); for item in [int(x)*int(y) for x in sys.argv[2].split(',') for y in sys.argv[3].split(',')]:\u001b[0m\n\u001b[0m                                  ^\u001b[0m\n\u001b[0;31mSyntaxError\u001b[0m\u001b[0;31m:\u001b[0m invalid syntax\n"
     ]
    }
   ],
   "source": [
    "#!/usr/bin/env python\n",
    "import sys\n",
    "open(sys.argv[1],'w').write( \"\\n\".join( [\"%d x %s = %d\"%(x,sys.argv[2],x*int(sys.argv[2])) for x in range(11)] ))"
   ]
  },
  {
   "cell_type": "code",
   "execution_count": null,
   "metadata": {},
   "outputs": [],
   "source": []
  }
 ],
 "metadata": {
  "kernelspec": {
   "display_name": "Python 3",
   "language": "python",
   "name": "python3"
  },
  "language_info": {
   "codemirror_mode": {
    "name": "ipython",
    "version": 3
   },
   "file_extension": ".py",
   "mimetype": "text/x-python",
   "name": "python",
   "nbconvert_exporter": "python",
   "pygments_lexer": "ipython3",
   "version": "3.7.0"
  }
 },
 "nbformat": 4,
 "nbformat_minor": 2
}
