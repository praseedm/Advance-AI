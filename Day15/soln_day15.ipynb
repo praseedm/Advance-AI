{
 "cells": [
  {
   "cell_type": "markdown",
   "metadata": {},
   "source": [
    "### Create a module that contains functions for performing the following(use re).\n",
    " (Slno 1 to 6 should return boolean )"
   ]
  },
  {
   "cell_type": "markdown",
   "metadata": {},
   "source": [
    "### Module\n",
    " * **IsInteger** - Should take one parameter as string and should contain integer for True else False. \n",
    " * **IsFloat** - Should take one parameter as string and if it contains a float return True else False.\n",
    " * **HasVowel** - supplied string should contain at least one vowel char for True else False.\n",
    " * **IsHex** - supplied string should contain only hex digits,if so True else False.\n",
    " * **IsDate** - True if given a date in DD-MM-YYYY format.\n",
    " * **IsValidPassword** - True is the given string containas - 8 to 16 alphanumerics,at least 2 digits,at least 2 lowercase letters\n",
    "\t\t\tand atleast two uppercase letters  \n",
    " * **IsValidEmail** -True if the given string is valid email id."
   ]
  },
  {
   "cell_type": "code",
   "execution_count": null,
   "metadata": {},
   "outputs": [],
   "source": []
  }
 ],
 "metadata": {
  "kernelspec": {
   "display_name": "Python 2",
   "language": "python",
   "name": "python2"
  },
  "language_info": {
   "codemirror_mode": {
    "name": "ipython",
    "version": 2
   },
   "file_extension": ".py",
   "mimetype": "text/x-python",
   "name": "python",
   "nbconvert_exporter": "python",
   "pygments_lexer": "ipython2",
   "version": "2.7.15"
  }
 },
 "nbformat": 4,
 "nbformat_minor": 2
}
